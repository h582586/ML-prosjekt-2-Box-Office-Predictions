{
 "cells": [
  {
   "cell_type": "markdown",
   "id": "8dd295d7",
   "metadata": {},
   "source": [
    "# Getting the Data"
   ]
  },
  {
   "cell_type": "code",
   "execution_count": 13,
   "id": "6d329c79",
   "metadata": {},
   "outputs": [],
   "source": [
    "import pandas as pd\n",
    "import numpy as np\n",
    "import matplotlib.pyplot as plt\n",
    "import sklearn\n",
    "from pycaret.regression import *\n",
    "%matplotlib inline"
   ]
  },
  {
   "cell_type": "code",
   "execution_count": 14,
   "id": "1778a419",
   "metadata": {},
   "outputs": [],
   "source": [
    "train = pd.read_csv(r\"C:\\Users\\torju\\Desktop\\train.csv\")\n",
    "test = pd.read_csv(r\"C:\\Users\\torju\\Desktop\\test.csv\")"
   ]
  },
  {
   "cell_type": "code",
   "execution_count": 15,
   "id": "b7a048fa",
   "metadata": {},
   "outputs": [
    {
     "data": {
      "text/plain": [
       "(3000, 23)"
      ]
     },
     "execution_count": 15,
     "metadata": {},
     "output_type": "execute_result"
    }
   ],
   "source": [
    "train.shape"
   ]
  },
  {
   "cell_type": "code",
   "execution_count": 16,
   "id": "73476e1c",
   "metadata": {},
   "outputs": [
    {
     "data": {
      "text/plain": [
       "(4398, 22)"
      ]
     },
     "execution_count": 16,
     "metadata": {},
     "output_type": "execute_result"
    }
   ],
   "source": [
    "test.shape"
   ]
  },
  {
   "cell_type": "code",
   "execution_count": 17,
   "id": "bf0fac50",
   "metadata": {
    "scrolled": true
   },
   "outputs": [
    {
     "name": "stdout",
     "output_type": "stream",
     "text": [
      "<class 'pandas.core.frame.DataFrame'>\n",
      "RangeIndex: 3000 entries, 0 to 2999\n",
      "Data columns (total 23 columns):\n",
      " #   Column                 Non-Null Count  Dtype  \n",
      "---  ------                 --------------  -----  \n",
      " 0   id                     3000 non-null   int64  \n",
      " 1   belongs_to_collection  604 non-null    object \n",
      " 2   budget                 3000 non-null   int64  \n",
      " 3   genres                 2993 non-null   object \n",
      " 4   homepage               946 non-null    object \n",
      " 5   imdb_id                3000 non-null   object \n",
      " 6   original_language      3000 non-null   object \n",
      " 7   original_title         3000 non-null   object \n",
      " 8   overview               2992 non-null   object \n",
      " 9   popularity             3000 non-null   float64\n",
      " 10  poster_path            2999 non-null   object \n",
      " 11  production_companies   2844 non-null   object \n",
      " 12  production_countries   2945 non-null   object \n",
      " 13  release_date           3000 non-null   object \n",
      " 14  runtime                2998 non-null   float64\n",
      " 15  spoken_languages       2980 non-null   object \n",
      " 16  status                 3000 non-null   object \n",
      " 17  tagline                2403 non-null   object \n",
      " 18  title                  3000 non-null   object \n",
      " 19  Keywords               2724 non-null   object \n",
      " 20  cast                   2987 non-null   object \n",
      " 21  crew                   2984 non-null   object \n",
      " 22  revenue                3000 non-null   int64  \n",
      "dtypes: float64(2), int64(3), object(18)\n",
      "memory usage: 539.2+ KB\n"
     ]
    }
   ],
   "source": [
    "train.info()"
   ]
  },
  {
   "cell_type": "code",
   "execution_count": 18,
   "id": "0a592b26",
   "metadata": {},
   "outputs": [
    {
     "data": {
      "text/plain": [
       "id                          0\n",
       "belongs_to_collection    2396\n",
       "budget                      0\n",
       "genres                      7\n",
       "homepage                 2054\n",
       "imdb_id                     0\n",
       "original_language           0\n",
       "original_title              0\n",
       "overview                    8\n",
       "popularity                  0\n",
       "poster_path                 1\n",
       "production_companies      156\n",
       "production_countries       55\n",
       "release_date                0\n",
       "runtime                     2\n",
       "spoken_languages           20\n",
       "status                      0\n",
       "tagline                   597\n",
       "title                       0\n",
       "Keywords                  276\n",
       "cast                       13\n",
       "crew                       16\n",
       "revenue                     0\n",
       "dtype: int64"
      ]
     },
     "execution_count": 18,
     "metadata": {},
     "output_type": "execute_result"
    }
   ],
   "source": [
    "train.isna().sum()"
   ]
  },
  {
   "cell_type": "markdown",
   "id": "cf7312bf",
   "metadata": {},
   "source": [
    "Let's change some things up!"
   ]
  },
  {
   "cell_type": "markdown",
   "id": "669b77c4",
   "metadata": {},
   "source": [
    "# Visualizing Data"
   ]
  },
  {
   "cell_type": "code",
   "execution_count": 19,
   "id": "4949904f",
   "metadata": {},
   "outputs": [],
   "source": [
    "budget = train['budget']"
   ]
  },
  {
   "cell_type": "code",
   "execution_count": 20,
   "id": "144e6e5f",
   "metadata": {},
   "outputs": [
    {
     "data": {
      "text/plain": [
       "0       14000000\n",
       "1       40000000\n",
       "2        3300000\n",
       "3        1200000\n",
       "4              0\n",
       "          ...   \n",
       "2995           0\n",
       "2996           0\n",
       "2997    65000000\n",
       "2998    42000000\n",
       "2999    35000000\n",
       "Name: budget, Length: 3000, dtype: int64"
      ]
     },
     "execution_count": 20,
     "metadata": {},
     "output_type": "execute_result"
    }
   ],
   "source": [
    "budget"
   ]
  },
  {
   "cell_type": "code",
   "execution_count": 21,
   "id": "6b42e8a2",
   "metadata": {},
   "outputs": [],
   "source": [
    "budget = train.sort_values('budget')"
   ]
  },
  {
   "cell_type": "code",
   "execution_count": 22,
   "id": "faec26ab",
   "metadata": {},
   "outputs": [
    {
     "data": {
      "text/plain": [
       "<AxesSubplot:title={'center':'Budget'}>"
      ]
     },
     "execution_count": 22,
     "metadata": {},
     "output_type": "execute_result"
    },
    {
     "data": {
      "image/png": "[encoded data removed]",
      "text/plain": [
       "<Figure size 432x288 with 1 Axes>"
      ]
     },
     "metadata": {
      "needs_background": "light"
     },
     "output_type": "display_data"
    }
   ],
   "source": [
    "budget['budget'].plot(kind='line', grid=True, title='Budget')"
   ]
  },
  {
   "cell_type": "markdown",
   "id": "8b90de03",
   "metadata": {},
   "source": [
    "# Screwing With the Data"
   ]
  },
  {
   "cell_type": "code",
   "execution_count": 23,
   "id": "fe16be22",
   "metadata": {
    "scrolled": false
   },
   "outputs": [
    {
     "data": {
      "text/html": [
       "<div>\n",
       "<style scoped>\n",
       "    .dataframe tbody tr th:only-of-type {\n",
       "        vertical-align: middle;\n",
       "    }\n",
       "\n",
       "    .dataframe tbody tr th {\n",
       "        vertical-align: top;\n",
       "    }\n",
       "\n",
       "    .dataframe thead th {\n",
       "        text-align: right;\n",
       "    }\n",
       "</style>\n",
       "<table border=\"1\" class=\"dataframe\">\n",
       "  <thead>\n",
       "    <tr style=\"text-align: right;\">\n",
       "      <th></th>\n",
       "      <th>id</th>\n",
       "      <th>belongs_to_collection</th>\n",
       "      <th>budget</th>\n",
       "      <th>genres</th>\n",
       "      <th>homepage</th>\n",
       "      <th>imdb_id</th>\n",
       "      <th>original_language</th>\n",
       "      <th>original_title</th>\n",
       "      <th>overview</th>\n",
       "      <th>popularity</th>\n",
       "      <th>poster_path</th>\n",
       "      <th>production_companies</th>\n",
       "      <th>production_countries</th>\n",
       "      <th>release_date</th>\n",
       "      <th>runtime</th>\n",
       "      <th>spoken_languages</th>\n",
       "      <th>status</th>\n",
       "      <th>tagline</th>\n",
       "      <th>title</th>\n",
       "      <th>Keywords</th>\n",
       "      <th>cast</th>\n",
       "      <th>crew</th>\n",
       "      <th>revenue</th>\n",
       "    </tr>\n",
       "  </thead>\n",
       "  <tbody>\n",
       "    <tr>\n",
       "      <th>0</th>\n",
       "      <td>1</td>\n",
       "      <td>[{'id': 313576, 'name': 'Hot Tub Time Machine ...</td>\n",
       "      <td>14000000</td>\n",
       "      <td>[{'id': 35, 'name': 'Comedy'}]</td>\n",
       "      <td>NaN</td>\n",
       "      <td>tt2637294</td>\n",
       "      <td>en</td>\n",
       "      <td>Hot Tub Time Machine 2</td>\n",
       "      <td>When Lou, who has become the \"father of the In...</td>\n",
       "      <td>6.575393</td>\n",
       "      <td>/tQtWuwvMf0hCc2QR2tkolwl7c3c.jpg</td>\n",
       "      <td>[{'name': 'Paramount Pictures', 'id': 4}, {'na...</td>\n",
       "      <td>[{'iso_3166_1': 'US', 'name': 'United States o...</td>\n",
       "      <td>2/20/15</td>\n",
       "      <td>93.0</td>\n",
       "      <td>[{'iso_639_1': 'en', 'name': 'English'}]</td>\n",
       "      <td>Released</td>\n",
       "      <td>The Laws of Space and Time are About to be Vio...</td>\n",
       "      <td>Hot Tub Time Machine 2</td>\n",
       "      <td>[{'id': 4379, 'name': 'time travel'}, {'id': 9...</td>\n",
       "      <td>[{'cast_id': 4, 'character': 'Lou', 'credit_id...</td>\n",
       "      <td>[{'credit_id': '59ac067c92514107af02c8c8', 'de...</td>\n",
       "      <td>12314651</td>\n",
       "    </tr>\n",
       "    <tr>\n",
       "      <th>1</th>\n",
       "      <td>2</td>\n",
       "      <td>[{'id': 107674, 'name': 'The Princess Diaries ...</td>\n",
       "      <td>40000000</td>\n",
       "      <td>[{'id': 35, 'name': 'Comedy'}, {'id': 18, 'nam...</td>\n",
       "      <td>NaN</td>\n",
       "      <td>tt0368933</td>\n",
       "      <td>en</td>\n",
       "      <td>The Princess Diaries 2: Royal Engagement</td>\n",
       "      <td>Mia Thermopolis is now a college graduate and ...</td>\n",
       "      <td>8.248895</td>\n",
       "      <td>/w9Z7A0GHEhIp7etpj0vyKOeU1Wx.jpg</td>\n",
       "      <td>[{'name': 'Walt Disney Pictures', 'id': 2}]</td>\n",
       "      <td>[{'iso_3166_1': 'US', 'name': 'United States o...</td>\n",
       "      <td>8/6/04</td>\n",
       "      <td>113.0</td>\n",
       "      <td>[{'iso_639_1': 'en', 'name': 'English'}]</td>\n",
       "      <td>Released</td>\n",
       "      <td>It can take a lifetime to find true love; she'...</td>\n",
       "      <td>The Princess Diaries 2: Royal Engagement</td>\n",
       "      <td>[{'id': 2505, 'name': 'coronation'}, {'id': 42...</td>\n",
       "      <td>[{'cast_id': 1, 'character': 'Mia Thermopolis'...</td>\n",
       "      <td>[{'credit_id': '52fe43fe9251416c7502563d', 'de...</td>\n",
       "      <td>95149435</td>\n",
       "    </tr>\n",
       "    <tr>\n",
       "      <th>2</th>\n",
       "      <td>3</td>\n",
       "      <td>NaN</td>\n",
       "      <td>3300000</td>\n",
       "      <td>[{'id': 18, 'name': 'Drama'}]</td>\n",
       "      <td>http://sonyclassics.com/whiplash/</td>\n",
       "      <td>tt2582802</td>\n",
       "      <td>en</td>\n",
       "      <td>Whiplash</td>\n",
       "      <td>Under the direction of a ruthless instructor, ...</td>\n",
       "      <td>64.299990</td>\n",
       "      <td>/lIv1QinFqz4dlp5U4lQ6HaiskOZ.jpg</td>\n",
       "      <td>[{'name': 'Bold Films', 'id': 2266}, {'name': ...</td>\n",
       "      <td>[{'iso_3166_1': 'US', 'name': 'United States o...</td>\n",
       "      <td>10/10/14</td>\n",
       "      <td>105.0</td>\n",
       "      <td>[{'iso_639_1': 'en', 'name': 'English'}]</td>\n",
       "      <td>Released</td>\n",
       "      <td>The road to greatness can take you to the edge.</td>\n",
       "      <td>Whiplash</td>\n",
       "      <td>[{'id': 1416, 'name': 'jazz'}, {'id': 1523, 'n...</td>\n",
       "      <td>[{'cast_id': 5, 'character': 'Andrew Neimann',...</td>\n",
       "      <td>[{'credit_id': '54d5356ec3a3683ba0000039', 'de...</td>\n",
       "      <td>13092000</td>\n",
       "    </tr>\n",
       "    <tr>\n",
       "      <th>3</th>\n",
       "      <td>4</td>\n",
       "      <td>NaN</td>\n",
       "      <td>1200000</td>\n",
       "      <td>[{'id': 53, 'name': 'Thriller'}, {'id': 18, 'n...</td>\n",
       "      <td>http://kahaanithefilm.com/</td>\n",
       "      <td>tt1821480</td>\n",
       "      <td>hi</td>\n",
       "      <td>Kahaani</td>\n",
       "      <td>Vidya Bagchi (Vidya Balan) arrives in Kolkata ...</td>\n",
       "      <td>3.174936</td>\n",
       "      <td>/aTXRaPrWSinhcmCrcfJK17urp3F.jpg</td>\n",
       "      <td>NaN</td>\n",
       "      <td>[{'iso_3166_1': 'IN', 'name': 'India'}]</td>\n",
       "      <td>3/9/12</td>\n",
       "      <td>122.0</td>\n",
       "      <td>[{'iso_639_1': 'en', 'name': 'English'}, {'iso...</td>\n",
       "      <td>Released</td>\n",
       "      <td>NaN</td>\n",
       "      <td>Kahaani</td>\n",
       "      <td>[{'id': 10092, 'name': 'mystery'}, {'id': 1054...</td>\n",
       "      <td>[{'cast_id': 1, 'character': 'Vidya Bagchi', '...</td>\n",
       "      <td>[{'credit_id': '52fe48779251416c9108d6eb', 'de...</td>\n",
       "      <td>16000000</td>\n",
       "    </tr>\n",
       "    <tr>\n",
       "      <th>4</th>\n",
       "      <td>5</td>\n",
       "      <td>NaN</td>\n",
       "      <td>0</td>\n",
       "      <td>[{'id': 28, 'name': 'Action'}, {'id': 53, 'nam...</td>\n",
       "      <td>NaN</td>\n",
       "      <td>tt1380152</td>\n",
       "      <td>ko</td>\n",
       "      <td>마린보이</td>\n",
       "      <td>Marine Boy is the story of a former national s...</td>\n",
       "      <td>1.148070</td>\n",
       "      <td>/m22s7zvkVFDU9ir56PiiqIEWFdT.jpg</td>\n",
       "      <td>NaN</td>\n",
       "      <td>[{'iso_3166_1': 'KR', 'name': 'South Korea'}]</td>\n",
       "      <td>2/5/09</td>\n",
       "      <td>118.0</td>\n",
       "      <td>[{'iso_639_1': 'ko', 'name': '한국어/조선말'}]</td>\n",
       "      <td>Released</td>\n",
       "      <td>NaN</td>\n",
       "      <td>Marine Boy</td>\n",
       "      <td>NaN</td>\n",
       "      <td>[{'cast_id': 3, 'character': 'Chun-soo', 'cred...</td>\n",
       "      <td>[{'credit_id': '52fe464b9251416c75073b43', 'de...</td>\n",
       "      <td>3923970</td>\n",
       "    </tr>\n",
       "    <tr>\n",
       "      <th>5</th>\n",
       "      <td>6</td>\n",
       "      <td>NaN</td>\n",
       "      <td>8000000</td>\n",
       "      <td>[{'id': 16, 'name': 'Animation'}, {'id': 12, '...</td>\n",
       "      <td>NaN</td>\n",
       "      <td>tt0093743</td>\n",
       "      <td>en</td>\n",
       "      <td>Pinocchio and the Emperor of the Night</td>\n",
       "      <td>Pinocchio and his friends, a glow worm and a m...</td>\n",
       "      <td>0.743274</td>\n",
       "      <td>/6IDqA1D2NBIVhzEEaMMRL28iBrq.jpg</td>\n",
       "      <td>NaN</td>\n",
       "      <td>NaN</td>\n",
       "      <td>8/6/87</td>\n",
       "      <td>83.0</td>\n",
       "      <td>[{'iso_639_1': 'en', 'name': 'English'}]</td>\n",
       "      <td>Released</td>\n",
       "      <td>NaN</td>\n",
       "      <td>Pinocchio and the Emperor of the Night</td>\n",
       "      <td>NaN</td>\n",
       "      <td>[{'cast_id': 6, 'character': 'Pinocchio (voice...</td>\n",
       "      <td>[{'credit_id': '52fe46f49251416c9106558b', 'de...</td>\n",
       "      <td>3261638</td>\n",
       "    </tr>\n",
       "    <tr>\n",
       "      <th>6</th>\n",
       "      <td>7</td>\n",
       "      <td>NaN</td>\n",
       "      <td>14000000</td>\n",
       "      <td>[{'id': 27, 'name': 'Horror'}, {'id': 53, 'nam...</td>\n",
       "      <td>http://www.thepossessionmovie.com/</td>\n",
       "      <td>tt0431021</td>\n",
       "      <td>en</td>\n",
       "      <td>The Possession</td>\n",
       "      <td>A young girl buys an antique box at a yard sal...</td>\n",
       "      <td>7.286477</td>\n",
       "      <td>/4QjzFuaZmB4btGnLwAgdp23BzIU.jpg</td>\n",
       "      <td>[{'name': 'Ghost House Pictures', 'id': 768}, ...</td>\n",
       "      <td>[{'iso_3166_1': 'US', 'name': 'United States o...</td>\n",
       "      <td>8/30/12</td>\n",
       "      <td>92.0</td>\n",
       "      <td>[{'iso_639_1': 'en', 'name': 'English'}]</td>\n",
       "      <td>Released</td>\n",
       "      <td>Fear The Demon That Doesn't Fear God</td>\n",
       "      <td>The Possession</td>\n",
       "      <td>NaN</td>\n",
       "      <td>[{'cast_id': 23, 'character': 'Clyde', 'credit...</td>\n",
       "      <td>[{'credit_id': '52fe4981c3a368484e12ee29', 'de...</td>\n",
       "      <td>85446075</td>\n",
       "    </tr>\n",
       "    <tr>\n",
       "      <th>7</th>\n",
       "      <td>8</td>\n",
       "      <td>NaN</td>\n",
       "      <td>0</td>\n",
       "      <td>[{'id': 99, 'name': 'Documentary'}]</td>\n",
       "      <td>NaN</td>\n",
       "      <td>tt0391024</td>\n",
       "      <td>en</td>\n",
       "      <td>Control Room</td>\n",
       "      <td>A chronicle which provides a rare window into ...</td>\n",
       "      <td>1.949044</td>\n",
       "      <td>/83BV8fGy5p9i8RwE9oj76tZ1Ikp.jpg</td>\n",
       "      <td>NaN</td>\n",
       "      <td>NaN</td>\n",
       "      <td>1/15/04</td>\n",
       "      <td>84.0</td>\n",
       "      <td>[{'iso_639_1': 'ar', 'name': 'العربية'}, {'iso...</td>\n",
       "      <td>Released</td>\n",
       "      <td>Different channels. Different truths.</td>\n",
       "      <td>Control Room</td>\n",
       "      <td>[{'id': 917, 'name': 'journalism'}, {'id': 163...</td>\n",
       "      <td>[{'cast_id': 2, 'character': 'Himself', 'credi...</td>\n",
       "      <td>[{'credit_id': '52fe47a69251416c750a0daf', 'de...</td>\n",
       "      <td>2586511</td>\n",
       "    </tr>\n",
       "    <tr>\n",
       "      <th>8</th>\n",
       "      <td>9</td>\n",
       "      <td>[{'id': 256377, 'name': 'The Muppet Collection...</td>\n",
       "      <td>0</td>\n",
       "      <td>[{'id': 28, 'name': 'Action'}, {'id': 35, 'nam...</td>\n",
       "      <td>NaN</td>\n",
       "      <td>tt0117110</td>\n",
       "      <td>en</td>\n",
       "      <td>Muppet Treasure Island</td>\n",
       "      <td>After telling the story of Flint's last journe...</td>\n",
       "      <td>6.902423</td>\n",
       "      <td>/5A8gKzOrF9Z7tSUX6xd5dEx4NXf.jpg</td>\n",
       "      <td>[{'name': 'Walt Disney Pictures', 'id': 2}, {'...</td>\n",
       "      <td>[{'iso_3166_1': 'US', 'name': 'United States o...</td>\n",
       "      <td>2/16/96</td>\n",
       "      <td>100.0</td>\n",
       "      <td>[{'iso_639_1': 'en', 'name': 'English'}]</td>\n",
       "      <td>Released</td>\n",
       "      <td>Set sail for Muppet mayhem!</td>\n",
       "      <td>Muppet Treasure Island</td>\n",
       "      <td>[{'id': 2041, 'name': 'island'}, {'id': 4418, ...</td>\n",
       "      <td>[{'cast_id': 1, 'character': 'Long John Silver...</td>\n",
       "      <td>[{'credit_id': '52fe43c89251416c7501deb3', 'de...</td>\n",
       "      <td>34327391</td>\n",
       "    </tr>\n",
       "    <tr>\n",
       "      <th>9</th>\n",
       "      <td>10</td>\n",
       "      <td>NaN</td>\n",
       "      <td>6000000</td>\n",
       "      <td>[{'id': 35, 'name': 'Comedy'}, {'id': 10402, '...</td>\n",
       "      <td>NaN</td>\n",
       "      <td>tt0310281</td>\n",
       "      <td>en</td>\n",
       "      <td>A Mighty Wind</td>\n",
       "      <td>In \"A Mighty Wind\", director Christopher Guest...</td>\n",
       "      <td>4.672036</td>\n",
       "      <td>/xwD4EsPOGLuKP50Q1gwqAsyhAFB.jpg</td>\n",
       "      <td>[{'name': 'Castle Rock Entertainment', 'id': 97}]</td>\n",
       "      <td>[{'iso_3166_1': 'US', 'name': 'United States o...</td>\n",
       "      <td>4/16/03</td>\n",
       "      <td>91.0</td>\n",
       "      <td>[{'iso_639_1': 'en', 'name': 'English'}]</td>\n",
       "      <td>Released</td>\n",
       "      <td>Back together for the first time, again.</td>\n",
       "      <td>A Mighty Wind</td>\n",
       "      <td>[{'id': 11800, 'name': 'mockumentary'}, {'id':...</td>\n",
       "      <td>[{'cast_id': 24, 'character': 'Jonathan Steinb...</td>\n",
       "      <td>[{'credit_id': '52fe45609251416c750545b3', 'de...</td>\n",
       "      <td>18750246</td>\n",
       "    </tr>\n",
       "  </tbody>\n",
       "</table>\n",
       "</div>"
      ],
      "text/plain": [
       "   id                              belongs_to_collection    budget  \\\n",
       "0   1  [{'id': 313576, 'name': 'Hot Tub Time Machine ...  14000000   \n",
       "1   2  [{'id': 107674, 'name': 'The Princess Diaries ...  40000000   \n",
       "2   3                                                NaN   3300000   \n",
       "3   4                                                NaN   1200000   \n",
       "4   5                                                NaN         0   \n",
       "5   6                                                NaN   8000000   \n",
       "6   7                                                NaN  14000000   \n",
       "7   8                                                NaN         0   \n",
       "8   9  [{'id': 256377, 'name': 'The Muppet Collection...         0   \n",
       "9  10                                                NaN   6000000   \n",
       "\n",
       "                                              genres  \\\n",
       "0                     [{'id': 35, 'name': 'Comedy'}]   \n",
       "1  [{'id': 35, 'name': 'Comedy'}, {'id': 18, 'nam...   \n",
       "2                      [{'id': 18, 'name': 'Drama'}]   \n",
       "3  [{'id': 53, 'name': 'Thriller'}, {'id': 18, 'n...   \n",
       "4  [{'id': 28, 'name': 'Action'}, {'id': 53, 'nam...   \n",
       "5  [{'id': 16, 'name': 'Animation'}, {'id': 12, '...   \n",
       "6  [{'id': 27, 'name': 'Horror'}, {'id': 53, 'nam...   \n",
       "7                [{'id': 99, 'name': 'Documentary'}]   \n",
       "8  [{'id': 28, 'name': 'Action'}, {'id': 35, 'nam...   \n",
       "9  [{'id': 35, 'name': 'Comedy'}, {'id': 10402, '...   \n",
       "\n",
       "                             homepage    imdb_id original_language  \\\n",
       "0                                 NaN  tt2637294                en   \n",
       "1                                 NaN  tt0368933                en   \n",
       "2   http://sonyclassics.com/whiplash/  tt2582802                en   \n",
       "3          http://kahaanithefilm.com/  tt1821480                hi   \n",
       "4                                 NaN  tt1380152                ko   \n",
       "5                                 NaN  tt0093743                en   \n",
       "6  http://www.thepossessionmovie.com/  tt0431021                en   \n",
       "7                                 NaN  tt0391024                en   \n",
       "8                                 NaN  tt0117110                en   \n",
       "9                                 NaN  tt0310281                en   \n",
       "\n",
       "                             original_title  \\\n",
       "0                    Hot Tub Time Machine 2   \n",
       "1  The Princess Diaries 2: Royal Engagement   \n",
       "2                                  Whiplash   \n",
       "3                                   Kahaani   \n",
       "4                                      마린보이   \n",
       "5    Pinocchio and the Emperor of the Night   \n",
       "6                            The Possession   \n",
       "7                              Control Room   \n",
       "8                    Muppet Treasure Island   \n",
       "9                             A Mighty Wind   \n",
       "\n",
       "                                            overview  popularity  \\\n",
       "0  When Lou, who has become the \"father of the In...    6.575393   \n",
       "1  Mia Thermopolis is now a college graduate and ...    8.248895   \n",
       "2  Under the direction of a ruthless instructor, ...   64.299990   \n",
       "3  Vidya Bagchi (Vidya Balan) arrives in Kolkata ...    3.174936   \n",
       "4  Marine Boy is the story of a former national s...    1.148070   \n",
       "5  Pinocchio and his friends, a glow worm and a m...    0.743274   \n",
       "6  A young girl buys an antique box at a yard sal...    7.286477   \n",
       "7  A chronicle which provides a rare window into ...    1.949044   \n",
       "8  After telling the story of Flint's last journe...    6.902423   \n",
       "9  In \"A Mighty Wind\", director Christopher Guest...    4.672036   \n",
       "\n",
       "                        poster_path  \\\n",
       "0  /tQtWuwvMf0hCc2QR2tkolwl7c3c.jpg   \n",
       "1  /w9Z7A0GHEhIp7etpj0vyKOeU1Wx.jpg   \n",
       "2  /lIv1QinFqz4dlp5U4lQ6HaiskOZ.jpg   \n",
       "3  /aTXRaPrWSinhcmCrcfJK17urp3F.jpg   \n",
       "4  /m22s7zvkVFDU9ir56PiiqIEWFdT.jpg   \n",
       "5  /6IDqA1D2NBIVhzEEaMMRL28iBrq.jpg   \n",
       "6  /4QjzFuaZmB4btGnLwAgdp23BzIU.jpg   \n",
       "7  /83BV8fGy5p9i8RwE9oj76tZ1Ikp.jpg   \n",
       "8  /5A8gKzOrF9Z7tSUX6xd5dEx4NXf.jpg   \n",
       "9  /xwD4EsPOGLuKP50Q1gwqAsyhAFB.jpg   \n",
       "\n",
       "                                production_companies  \\\n",
       "0  [{'name': 'Paramount Pictures', 'id': 4}, {'na...   \n",
       "1        [{'name': 'Walt Disney Pictures', 'id': 2}]   \n",
       "2  [{'name': 'Bold Films', 'id': 2266}, {'name': ...   \n",
       "3                                                NaN   \n",
       "4                                                NaN   \n",
       "5                                                NaN   \n",
       "6  [{'name': 'Ghost House Pictures', 'id': 768}, ...   \n",
       "7                                                NaN   \n",
       "8  [{'name': 'Walt Disney Pictures', 'id': 2}, {'...   \n",
       "9  [{'name': 'Castle Rock Entertainment', 'id': 97}]   \n",
       "\n",
       "                                production_countries release_date  runtime  \\\n",
       "0  [{'iso_3166_1': 'US', 'name': 'United States o...      2/20/15     93.0   \n",
       "1  [{'iso_3166_1': 'US', 'name': 'United States o...       8/6/04    113.0   \n",
       "2  [{'iso_3166_1': 'US', 'name': 'United States o...     10/10/14    105.0   \n",
       "3            [{'iso_3166_1': 'IN', 'name': 'India'}]       3/9/12    122.0   \n",
       "4      [{'iso_3166_1': 'KR', 'name': 'South Korea'}]       2/5/09    118.0   \n",
       "5                                                NaN       8/6/87     83.0   \n",
       "6  [{'iso_3166_1': 'US', 'name': 'United States o...      8/30/12     92.0   \n",
       "7                                                NaN      1/15/04     84.0   \n",
       "8  [{'iso_3166_1': 'US', 'name': 'United States o...      2/16/96    100.0   \n",
       "9  [{'iso_3166_1': 'US', 'name': 'United States o...      4/16/03     91.0   \n",
       "\n",
       "                                    spoken_languages    status  \\\n",
       "0           [{'iso_639_1': 'en', 'name': 'English'}]  Released   \n",
       "1           [{'iso_639_1': 'en', 'name': 'English'}]  Released   \n",
       "2           [{'iso_639_1': 'en', 'name': 'English'}]  Released   \n",
       "3  [{'iso_639_1': 'en', 'name': 'English'}, {'iso...  Released   \n",
       "4           [{'iso_639_1': 'ko', 'name': '한국어/조선말'}]  Released   \n",
       "5           [{'iso_639_1': 'en', 'name': 'English'}]  Released   \n",
       "6           [{'iso_639_1': 'en', 'name': 'English'}]  Released   \n",
       "7  [{'iso_639_1': 'ar', 'name': 'العربية'}, {'iso...  Released   \n",
       "8           [{'iso_639_1': 'en', 'name': 'English'}]  Released   \n",
       "9           [{'iso_639_1': 'en', 'name': 'English'}]  Released   \n",
       "\n",
       "                                             tagline  \\\n",
       "0  The Laws of Space and Time are About to be Vio...   \n",
       "1  It can take a lifetime to find true love; she'...   \n",
       "2    The road to greatness can take you to the edge.   \n",
       "3                                                NaN   \n",
       "4                                                NaN   \n",
       "5                                                NaN   \n",
       "6               Fear The Demon That Doesn't Fear God   \n",
       "7              Different channels. Different truths.   \n",
       "8                        Set sail for Muppet mayhem!   \n",
       "9           Back together for the first time, again.   \n",
       "\n",
       "                                      title  \\\n",
       "0                    Hot Tub Time Machine 2   \n",
       "1  The Princess Diaries 2: Royal Engagement   \n",
       "2                                  Whiplash   \n",
       "3                                   Kahaani   \n",
       "4                                Marine Boy   \n",
       "5    Pinocchio and the Emperor of the Night   \n",
       "6                            The Possession   \n",
       "7                              Control Room   \n",
       "8                    Muppet Treasure Island   \n",
       "9                             A Mighty Wind   \n",
       "\n",
       "                                            Keywords  \\\n",
       "0  [{'id': 4379, 'name': 'time travel'}, {'id': 9...   \n",
       "1  [{'id': 2505, 'name': 'coronation'}, {'id': 42...   \n",
       "2  [{'id': 1416, 'name': 'jazz'}, {'id': 1523, 'n...   \n",
       "3  [{'id': 10092, 'name': 'mystery'}, {'id': 1054...   \n",
       "4                                                NaN   \n",
       "5                                                NaN   \n",
       "6                                                NaN   \n",
       "7  [{'id': 917, 'name': 'journalism'}, {'id': 163...   \n",
       "8  [{'id': 2041, 'name': 'island'}, {'id': 4418, ...   \n",
       "9  [{'id': 11800, 'name': 'mockumentary'}, {'id':...   \n",
       "\n",
       "                                                cast  \\\n",
       "0  [{'cast_id': 4, 'character': 'Lou', 'credit_id...   \n",
       "1  [{'cast_id': 1, 'character': 'Mia Thermopolis'...   \n",
       "2  [{'cast_id': 5, 'character': 'Andrew Neimann',...   \n",
       "3  [{'cast_id': 1, 'character': 'Vidya Bagchi', '...   \n",
       "4  [{'cast_id': 3, 'character': 'Chun-soo', 'cred...   \n",
       "5  [{'cast_id': 6, 'character': 'Pinocchio (voice...   \n",
       "6  [{'cast_id': 23, 'character': 'Clyde', 'credit...   \n",
       "7  [{'cast_id': 2, 'character': 'Himself', 'credi...   \n",
       "8  [{'cast_id': 1, 'character': 'Long John Silver...   \n",
       "9  [{'cast_id': 24, 'character': 'Jonathan Steinb...   \n",
       "\n",
       "                                                crew   revenue  \n",
       "0  [{'credit_id': '59ac067c92514107af02c8c8', 'de...  12314651  \n",
       "1  [{'credit_id': '52fe43fe9251416c7502563d', 'de...  95149435  \n",
       "2  [{'credit_id': '54d5356ec3a3683ba0000039', 'de...  13092000  \n",
       "3  [{'credit_id': '52fe48779251416c9108d6eb', 'de...  16000000  \n",
       "4  [{'credit_id': '52fe464b9251416c75073b43', 'de...   3923970  \n",
       "5  [{'credit_id': '52fe46f49251416c9106558b', 'de...   3261638  \n",
       "6  [{'credit_id': '52fe4981c3a368484e12ee29', 'de...  85446075  \n",
       "7  [{'credit_id': '52fe47a69251416c750a0daf', 'de...   2586511  \n",
       "8  [{'credit_id': '52fe43c89251416c7501deb3', 'de...  34327391  \n",
       "9  [{'credit_id': '52fe45609251416c750545b3', 'de...  18750246  "
      ]
     },
     "execution_count": 23,
     "metadata": {},
     "output_type": "execute_result"
    }
   ],
   "source": [
    "train.head(10)"
   ]
  },
  {
   "cell_type": "markdown",
   "id": "b192912e",
   "metadata": {},
   "source": [
    "## Removing Columns"
   ]
  },
  {
   "cell_type": "markdown",
   "id": "b98e24a0",
   "metadata": {},
   "source": [
    "Crew, tagline, imdb_id, poster_path, overview and original_title are all removed."
   ]
  },
  {
   "cell_type": "code",
   "execution_count": 24,
   "id": "d3fc72f0",
   "metadata": {},
   "outputs": [],
   "source": [
    "train = train.drop(['crew'], axis = 1)"
   ]
  },
  {
   "cell_type": "code",
   "execution_count": 25,
   "id": "3151e667",
   "metadata": {},
   "outputs": [],
   "source": [
    "train = train.drop(['tagline'], axis = 1)"
   ]
  },
  {
   "cell_type": "code",
   "execution_count": 26,
   "id": "b13d5653",
   "metadata": {},
   "outputs": [],
   "source": [
    "train = train.drop(['imdb_id'], axis = 1)"
   ]
  },
  {
   "cell_type": "code",
   "execution_count": 27,
   "id": "0bc0bf11",
   "metadata": {},
   "outputs": [],
   "source": [
    "train = train.drop(['poster_path'], axis = 1)"
   ]
  },
  {
   "cell_type": "code",
   "execution_count": 28,
   "id": "4c242a2d",
   "metadata": {},
   "outputs": [],
   "source": [
    "train = train.drop(['overview'], axis = 1)"
   ]
  },
  {
   "cell_type": "code",
   "execution_count": 29,
   "id": "2b7614b9",
   "metadata": {},
   "outputs": [],
   "source": [
    "train = train.drop(['original_title'], axis = 1)"
   ]
  },
  {
   "cell_type": "code",
   "execution_count": 30,
   "id": "448bf6cf",
   "metadata": {},
   "outputs": [],
   "source": [
    "train = train.drop(['Keywords'], axis = 1)"
   ]
  },
  {
   "cell_type": "code",
   "execution_count": null,
   "id": "cbb525dc",
   "metadata": {},
   "outputs": [],
   "source": []
  },
  {
   "cell_type": "code",
   "execution_count": 31,
   "id": "156708e5",
   "metadata": {},
   "outputs": [
    {
     "data": {
      "text/plain": [
       "id                          0\n",
       "belongs_to_collection    2396\n",
       "budget                      0\n",
       "genres                      7\n",
       "homepage                 2054\n",
       "original_language           0\n",
       "popularity                  0\n",
       "production_companies      156\n",
       "production_countries       55\n",
       "release_date                0\n",
       "runtime                     2\n",
       "spoken_languages           20\n",
       "status                      0\n",
       "title                       0\n",
       "cast                       13\n",
       "revenue                     0\n",
       "dtype: int64"
      ]
     },
     "execution_count": 31,
     "metadata": {},
     "output_type": "execute_result"
    }
   ],
   "source": [
    "train.isna().sum()"
   ]
  },
  {
   "cell_type": "markdown",
   "id": "028df5bf",
   "metadata": {},
   "source": [
    "## Replacing NaN Values With 'unknown'"
   ]
  },
  {
   "cell_type": "markdown",
   "id": "9f5dd0f4",
   "metadata": {},
   "source": [
    "Because we are gonna work with text processing, we'll replace NaN values with 'unknown'."
   ]
  },
  {
   "cell_type": "markdown",
   "id": "3259884c",
   "metadata": {},
   "source": [
    "Production companies:"
   ]
  },
  {
   "cell_type": "code",
   "execution_count": 32,
   "id": "6a1590be",
   "metadata": {},
   "outputs": [],
   "source": [
    "train['production_companies'].loc[train['production_companies'].isnull()] = 'unknown'"
   ]
  },
  {
   "cell_type": "markdown",
   "id": "6b9686e9",
   "metadata": {},
   "source": [
    "Production countries:"
   ]
  },
  {
   "cell_type": "code",
   "execution_count": 33,
   "id": "4669bb7b",
   "metadata": {},
   "outputs": [],
   "source": [
    "train['production_countries'].loc[train['production_countries'].isnull()] = 'unknown'"
   ]
  },
  {
   "cell_type": "markdown",
   "id": "324df271",
   "metadata": {},
   "source": [
    "Keywords:"
   ]
  },
  {
   "cell_type": "code",
   "execution_count": 34,
   "id": "57f23517",
   "metadata": {},
   "outputs": [],
   "source": [
    "# train['Keywords'].loc[train['Keywords'].isnull()] = 'unknown'"
   ]
  },
  {
   "cell_type": "markdown",
   "id": "68f6cc14",
   "metadata": {},
   "source": [
    "Cast:"
   ]
  },
  {
   "cell_type": "code",
   "execution_count": 35,
   "id": "3ee1ebea",
   "metadata": {},
   "outputs": [],
   "source": [
    "train['cast'].loc[train['cast'].isnull()] = 'unknown'"
   ]
  },
  {
   "cell_type": "markdown",
   "id": "0d2c2f21",
   "metadata": {},
   "source": [
    "Spoken languages:"
   ]
  },
  {
   "cell_type": "code",
   "execution_count": 36,
   "id": "ec38c075",
   "metadata": {},
   "outputs": [],
   "source": [
    "train['spoken_languages'].loc[train['spoken_languages'].isnull()] = 'unknown'"
   ]
  },
  {
   "cell_type": "markdown",
   "id": "63c0040b",
   "metadata": {},
   "source": [
    "Production companies:"
   ]
  },
  {
   "cell_type": "code",
   "execution_count": 37,
   "id": "f8074d15",
   "metadata": {},
   "outputs": [],
   "source": [
    "train['production_companies'].loc[train['production_companies'].isnull()] = 'unknown'"
   ]
  },
  {
   "cell_type": "markdown",
   "id": "92af9e97",
   "metadata": {},
   "source": [
    "Production countries:"
   ]
  },
  {
   "cell_type": "code",
   "execution_count": 38,
   "id": "d3e006a8",
   "metadata": {},
   "outputs": [],
   "source": [
    "train['production_countries'].loc[train['production_countries'].isnull()] = 'unknown'"
   ]
  },
  {
   "cell_type": "code",
   "execution_count": 39,
   "id": "75138aa1",
   "metadata": {},
   "outputs": [
    {
     "data": {
      "text/plain": [
       "id                          0\n",
       "belongs_to_collection    2396\n",
       "budget                      0\n",
       "genres                      7\n",
       "homepage                 2054\n",
       "original_language           0\n",
       "popularity                  0\n",
       "production_companies        0\n",
       "production_countries        0\n",
       "release_date                0\n",
       "runtime                     2\n",
       "spoken_languages            0\n",
       "status                      0\n",
       "title                       0\n",
       "cast                        0\n",
       "revenue                     0\n",
       "dtype: int64"
      ]
     },
     "execution_count": 39,
     "metadata": {},
     "output_type": "execute_result"
    }
   ],
   "source": [
    "train.isna().sum()"
   ]
  },
  {
   "cell_type": "markdown",
   "id": "8c7dd382",
   "metadata": {},
   "source": [
    "The remaining NaN values will be replaced with booleans, median or mean values."
   ]
  },
  {
   "cell_type": "markdown",
   "id": "eadd4490",
   "metadata": {},
   "source": [
    "## Changing Values to Numerical Categories"
   ]
  },
  {
   "cell_type": "markdown",
   "id": "ea56281c",
   "metadata": {},
   "source": [
    "### Original Language"
   ]
  },
  {
   "cell_type": "code",
   "execution_count": 40,
   "id": "4621920a",
   "metadata": {},
   "outputs": [
    {
     "data": {
      "text/plain": [
       "36"
      ]
     },
     "execution_count": 40,
     "metadata": {},
     "output_type": "execute_result"
    }
   ],
   "source": [
    "len(train.original_language.unique())"
   ]
  },
  {
   "cell_type": "markdown",
   "id": "4749a357",
   "metadata": {},
   "source": [
    "Seeing as we have too many categories for one-hot encoding, we'll just label encode them."
   ]
  },
  {
   "cell_type": "code",
   "execution_count": 41,
   "id": "792d3975",
   "metadata": {},
   "outputs": [],
   "source": [
    "train['original_language'] = train['original_language'].astype('category')\n",
    "train['original_language'] = train['original_language'].cat.codes\n",
    "# train ['original_language'] = train['original_language'].astype(int)"
   ]
  },
  {
   "cell_type": "code",
   "execution_count": 42,
   "id": "fea43786",
   "metadata": {},
   "outputs": [
    {
     "data": {
      "text/html": [
       "<div>\n",
       "<style scoped>\n",
       "    .dataframe tbody tr th:only-of-type {\n",
       "        vertical-align: middle;\n",
       "    }\n",
       "\n",
       "    .dataframe tbody tr th {\n",
       "        vertical-align: top;\n",
       "    }\n",
       "\n",
       "    .dataframe thead th {\n",
       "        text-align: right;\n",
       "    }\n",
       "</style>\n",
       "<table border=\"1\" class=\"dataframe\">\n",
       "  <thead>\n",
       "    <tr style=\"text-align: right;\">\n",
       "      <th></th>\n",
       "      <th>title</th>\n",
       "      <th>original_language</th>\n",
       "    </tr>\n",
       "  </thead>\n",
       "  <tbody>\n",
       "    <tr>\n",
       "      <th>0</th>\n",
       "      <td>Hot Tub Time Machine 2</td>\n",
       "      <td>7</td>\n",
       "    </tr>\n",
       "    <tr>\n",
       "      <th>1</th>\n",
       "      <td>The Princess Diaries 2: Royal Engagement</td>\n",
       "      <td>7</td>\n",
       "    </tr>\n",
       "    <tr>\n",
       "      <th>2</th>\n",
       "      <td>Whiplash</td>\n",
       "      <td>7</td>\n",
       "    </tr>\n",
       "    <tr>\n",
       "      <th>3</th>\n",
       "      <td>Kahaani</td>\n",
       "      <td>13</td>\n",
       "    </tr>\n",
       "    <tr>\n",
       "      <th>4</th>\n",
       "      <td>Marine Boy</td>\n",
       "      <td>18</td>\n",
       "    </tr>\n",
       "    <tr>\n",
       "      <th>5</th>\n",
       "      <td>Pinocchio and the Emperor of the Night</td>\n",
       "      <td>7</td>\n",
       "    </tr>\n",
       "    <tr>\n",
       "      <th>6</th>\n",
       "      <td>The Possession</td>\n",
       "      <td>7</td>\n",
       "    </tr>\n",
       "    <tr>\n",
       "      <th>7</th>\n",
       "      <td>Control Room</td>\n",
       "      <td>7</td>\n",
       "    </tr>\n",
       "    <tr>\n",
       "      <th>8</th>\n",
       "      <td>Muppet Treasure Island</td>\n",
       "      <td>7</td>\n",
       "    </tr>\n",
       "    <tr>\n",
       "      <th>9</th>\n",
       "      <td>A Mighty Wind</td>\n",
       "      <td>7</td>\n",
       "    </tr>\n",
       "  </tbody>\n",
       "</table>\n",
       "</div>"
      ],
      "text/plain": [
       "                                      title  original_language\n",
       "0                    Hot Tub Time Machine 2                  7\n",
       "1  The Princess Diaries 2: Royal Engagement                  7\n",
       "2                                  Whiplash                  7\n",
       "3                                   Kahaani                 13\n",
       "4                                Marine Boy                 18\n",
       "5    Pinocchio and the Emperor of the Night                  7\n",
       "6                            The Possession                  7\n",
       "7                              Control Room                  7\n",
       "8                    Muppet Treasure Island                  7\n",
       "9                             A Mighty Wind                  7"
      ]
     },
     "execution_count": 42,
     "metadata": {},
     "output_type": "execute_result"
    }
   ],
   "source": [
    "train[['title', 'original_language']].head(10)"
   ]
  },
  {
   "cell_type": "markdown",
   "id": "efb449b7",
   "metadata": {},
   "source": [
    "Good stuff! Each langauge corresponds to a number now."
   ]
  },
  {
   "cell_type": "markdown",
   "id": "52c0af2a",
   "metadata": {},
   "source": [
    "### Genres"
   ]
  },
  {
   "cell_type": "code",
   "execution_count": 43,
   "id": "5ecff78a",
   "metadata": {},
   "outputs": [
    {
     "data": {
      "text/plain": [
       "873"
      ]
     },
     "execution_count": 43,
     "metadata": {},
     "output_type": "execute_result"
    }
   ],
   "source": [
    "len(train.genres.unique())"
   ]
  },
  {
   "cell_type": "markdown",
   "id": "ca8c5cff",
   "metadata": {},
   "source": [
    "Yikes, that's a lot of genres! Let's take a closer look at how the genre category is structured."
   ]
  },
  {
   "cell_type": "code",
   "execution_count": 44,
   "id": "8b1d8ef6",
   "metadata": {
    "scrolled": false
   },
   "outputs": [
    {
     "data": {
      "text/html": [
       "<div>\n",
       "<style scoped>\n",
       "    .dataframe tbody tr th:only-of-type {\n",
       "        vertical-align: middle;\n",
       "    }\n",
       "\n",
       "    .dataframe tbody tr th {\n",
       "        vertical-align: top;\n",
       "    }\n",
       "\n",
       "    .dataframe thead th {\n",
       "        text-align: right;\n",
       "    }\n",
       "</style>\n",
       "<table border=\"1\" class=\"dataframe\">\n",
       "  <thead>\n",
       "    <tr style=\"text-align: right;\">\n",
       "      <th></th>\n",
       "      <th>title</th>\n",
       "      <th>genres</th>\n",
       "    </tr>\n",
       "  </thead>\n",
       "  <tbody>\n",
       "    <tr>\n",
       "      <th>0</th>\n",
       "      <td>Hot Tub Time Machine 2</td>\n",
       "      <td>[{'id': 35, 'name': 'Comedy'}]</td>\n",
       "    </tr>\n",
       "    <tr>\n",
       "      <th>1</th>\n",
       "      <td>The Princess Diaries 2: Royal Engagement</td>\n",
       "      <td>[{'id': 35, 'name': 'Comedy'}, {'id': 18, 'nam...</td>\n",
       "    </tr>\n",
       "    <tr>\n",
       "      <th>2</th>\n",
       "      <td>Whiplash</td>\n",
       "      <td>[{'id': 18, 'name': 'Drama'}]</td>\n",
       "    </tr>\n",
       "    <tr>\n",
       "      <th>3</th>\n",
       "      <td>Kahaani</td>\n",
       "      <td>[{'id': 53, 'name': 'Thriller'}, {'id': 18, 'n...</td>\n",
       "    </tr>\n",
       "    <tr>\n",
       "      <th>4</th>\n",
       "      <td>Marine Boy</td>\n",
       "      <td>[{'id': 28, 'name': 'Action'}, {'id': 53, 'nam...</td>\n",
       "    </tr>\n",
       "  </tbody>\n",
       "</table>\n",
       "</div>"
      ],
      "text/plain": [
       "                                      title  \\\n",
       "0                    Hot Tub Time Machine 2   \n",
       "1  The Princess Diaries 2: Royal Engagement   \n",
       "2                                  Whiplash   \n",
       "3                                   Kahaani   \n",
       "4                                Marine Boy   \n",
       "\n",
       "                                              genres  \n",
       "0                     [{'id': 35, 'name': 'Comedy'}]  \n",
       "1  [{'id': 35, 'name': 'Comedy'}, {'id': 18, 'nam...  \n",
       "2                      [{'id': 18, 'name': 'Drama'}]  \n",
       "3  [{'id': 53, 'name': 'Thriller'}, {'id': 18, 'n...  \n",
       "4  [{'id': 28, 'name': 'Action'}, {'id': 53, 'nam...  "
      ]
     },
     "execution_count": 44,
     "metadata": {},
     "output_type": "execute_result"
    }
   ],
   "source": [
    "train[['title','genres']].head()"
   ]
  },
  {
   "cell_type": "markdown",
   "id": "a2405880",
   "metadata": {},
   "source": [
    "It looks like the main category is the first to be listed, and that the genre object is a string. Assuming that the first is the main category, we could just cut out this part of the string and convert this to an integer."
   ]
  },
  {
   "cell_type": "code",
   "execution_count": 45,
   "id": "570ef539",
   "metadata": {},
   "outputs": [],
   "source": [
    "train['genres'] = train['genres'].str[8:10]"
   ]
  },
  {
   "cell_type": "code",
   "execution_count": 46,
   "id": "0297287b",
   "metadata": {},
   "outputs": [
    {
     "data": {
      "text/html": [
       "<div>\n",
       "<style scoped>\n",
       "    .dataframe tbody tr th:only-of-type {\n",
       "        vertical-align: middle;\n",
       "    }\n",
       "\n",
       "    .dataframe tbody tr th {\n",
       "        vertical-align: top;\n",
       "    }\n",
       "\n",
       "    .dataframe thead th {\n",
       "        text-align: right;\n",
       "    }\n",
       "</style>\n",
       "<table border=\"1\" class=\"dataframe\">\n",
       "  <thead>\n",
       "    <tr style=\"text-align: right;\">\n",
       "      <th></th>\n",
       "      <th>title</th>\n",
       "      <th>genres</th>\n",
       "    </tr>\n",
       "  </thead>\n",
       "  <tbody>\n",
       "    <tr>\n",
       "      <th>0</th>\n",
       "      <td>Hot Tub Time Machine 2</td>\n",
       "      <td>35</td>\n",
       "    </tr>\n",
       "    <tr>\n",
       "      <th>1</th>\n",
       "      <td>The Princess Diaries 2: Royal Engagement</td>\n",
       "      <td>35</td>\n",
       "    </tr>\n",
       "    <tr>\n",
       "      <th>2</th>\n",
       "      <td>Whiplash</td>\n",
       "      <td>18</td>\n",
       "    </tr>\n",
       "    <tr>\n",
       "      <th>3</th>\n",
       "      <td>Kahaani</td>\n",
       "      <td>53</td>\n",
       "    </tr>\n",
       "    <tr>\n",
       "      <th>4</th>\n",
       "      <td>Marine Boy</td>\n",
       "      <td>28</td>\n",
       "    </tr>\n",
       "  </tbody>\n",
       "</table>\n",
       "</div>"
      ],
      "text/plain": [
       "                                      title genres\n",
       "0                    Hot Tub Time Machine 2     35\n",
       "1  The Princess Diaries 2: Royal Engagement     35\n",
       "2                                  Whiplash     18\n",
       "3                                   Kahaani     53\n",
       "4                                Marine Boy     28"
      ]
     },
     "execution_count": 46,
     "metadata": {},
     "output_type": "execute_result"
    }
   ],
   "source": [
    "train[['title','genres']].head()"
   ]
  },
  {
   "cell_type": "code",
   "execution_count": 47,
   "id": "20edf0fc",
   "metadata": {},
   "outputs": [],
   "source": [
    "train = train.replace(r'^\\s*$', np.NaN, regex=True)\n",
    "train['genres'].loc[train['genres'].isnull()] = -1"
   ]
  },
  {
   "cell_type": "code",
   "execution_count": 48,
   "id": "6ad2b296",
   "metadata": {},
   "outputs": [],
   "source": [
    "train['genres'] = train['genres'].astype(int)"
   ]
  },
  {
   "cell_type": "code",
   "execution_count": 49,
   "id": "276fe022",
   "metadata": {},
   "outputs": [
    {
     "data": {
      "text/plain": [
       "16"
      ]
     },
     "execution_count": 49,
     "metadata": {},
     "output_type": "execute_result"
    }
   ],
   "source": [
    "len(train.genres.unique())"
   ]
  },
  {
   "cell_type": "code",
   "execution_count": 50,
   "id": "ca29d831",
   "metadata": {},
   "outputs": [
    {
     "data": {
      "text/plain": [
       "array([35, 18, 53, 28, 16, 27, 99, 12, 80, 96, 14, 10, 87, 37, 36, -1])"
      ]
     },
     "execution_count": 50,
     "metadata": {},
     "output_type": "execute_result"
    }
   ],
   "source": [
    "train.genres.unique()"
   ]
  },
  {
   "cell_type": "markdown",
   "id": "a5dbc086",
   "metadata": {},
   "source": [
    "Much better! Each category is represented by an integer, the films missing categories represented by -1."
   ]
  },
  {
   "cell_type": "markdown",
   "id": "49f73e6f",
   "metadata": {},
   "source": [
    "### Production Companies"
   ]
  },
  {
   "cell_type": "code",
   "execution_count": 51,
   "id": "b10dfce5",
   "metadata": {},
   "outputs": [
    {
     "name": "stdout",
     "output_type": "stream",
     "text": [
      "Unique production companies: 2384\n"
     ]
    }
   ],
   "source": [
    "print(\"Unique production companies: \" + str(len(train.production_companies.unique())))"
   ]
  },
  {
   "cell_type": "markdown",
   "id": "f74b3207",
   "metadata": {},
   "source": [
    "That's a lot of companies! We'll do the same for production companies, assume that the first company listed is the main one and sort them by that."
   ]
  },
  {
   "cell_type": "code",
   "execution_count": 52,
   "id": "5fe2941a",
   "metadata": {},
   "outputs": [
    {
     "data": {
      "text/html": [
       "<div>\n",
       "<style scoped>\n",
       "    .dataframe tbody tr th:only-of-type {\n",
       "        vertical-align: middle;\n",
       "    }\n",
       "\n",
       "    .dataframe tbody tr th {\n",
       "        vertical-align: top;\n",
       "    }\n",
       "\n",
       "    .dataframe thead th {\n",
       "        text-align: right;\n",
       "    }\n",
       "</style>\n",
       "<table border=\"1\" class=\"dataframe\">\n",
       "  <thead>\n",
       "    <tr style=\"text-align: right;\">\n",
       "      <th></th>\n",
       "      <th>title</th>\n",
       "      <th>production_companies</th>\n",
       "    </tr>\n",
       "  </thead>\n",
       "  <tbody>\n",
       "    <tr>\n",
       "      <th>0</th>\n",
       "      <td>Hot Tub Time Machine 2</td>\n",
       "      <td>[{'name': 'Paramount Pictures', 'id': 4}, {'na...</td>\n",
       "    </tr>\n",
       "    <tr>\n",
       "      <th>1</th>\n",
       "      <td>The Princess Diaries 2: Royal Engagement</td>\n",
       "      <td>[{'name': 'Walt Disney Pictures', 'id': 2}]</td>\n",
       "    </tr>\n",
       "    <tr>\n",
       "      <th>2</th>\n",
       "      <td>Whiplash</td>\n",
       "      <td>[{'name': 'Bold Films', 'id': 2266}, {'name': ...</td>\n",
       "    </tr>\n",
       "    <tr>\n",
       "      <th>3</th>\n",
       "      <td>Kahaani</td>\n",
       "      <td>unknown</td>\n",
       "    </tr>\n",
       "    <tr>\n",
       "      <th>4</th>\n",
       "      <td>Marine Boy</td>\n",
       "      <td>unknown</td>\n",
       "    </tr>\n",
       "  </tbody>\n",
       "</table>\n",
       "</div>"
      ],
      "text/plain": [
       "                                      title  \\\n",
       "0                    Hot Tub Time Machine 2   \n",
       "1  The Princess Diaries 2: Royal Engagement   \n",
       "2                                  Whiplash   \n",
       "3                                   Kahaani   \n",
       "4                                Marine Boy   \n",
       "\n",
       "                                production_companies  \n",
       "0  [{'name': 'Paramount Pictures', 'id': 4}, {'na...  \n",
       "1        [{'name': 'Walt Disney Pictures', 'id': 2}]  \n",
       "2  [{'name': 'Bold Films', 'id': 2266}, {'name': ...  \n",
       "3                                            unknown  \n",
       "4                                            unknown  "
      ]
     },
     "execution_count": 52,
     "metadata": {},
     "output_type": "execute_result"
    }
   ],
   "source": [
    "train[['title','production_companies']].head()"
   ]
  },
  {
   "cell_type": "markdown",
   "id": "2e4f0561",
   "metadata": {},
   "source": [
    "Below is a function to cut out a substring containing the first production company."
   ]
  },
  {
   "cell_type": "code",
   "execution_count": 53,
   "id": "50a92347",
   "metadata": {},
   "outputs": [],
   "source": [
    "def slice_prod_comp(s):\n",
    "    if (s == 'unknown'):\n",
    "        return s\n",
    "    else:\n",
    "        start = s.find(\"\\'name': \\'\") + len(\"\\'name': \\'\")\n",
    "        end = s.find(\"',\")\n",
    "        return s[start:end]"
   ]
  },
  {
   "cell_type": "code",
   "execution_count": 54,
   "id": "25b301b6",
   "metadata": {},
   "outputs": [],
   "source": [
    "train['production_companies'] = train['production_companies'].map(lambda s: slice_prod_comp(s))"
   ]
  },
  {
   "cell_type": "code",
   "execution_count": 55,
   "id": "fd23f1d2",
   "metadata": {},
   "outputs": [
    {
     "data": {
      "text/html": [
       "<div>\n",
       "<style scoped>\n",
       "    .dataframe tbody tr th:only-of-type {\n",
       "        vertical-align: middle;\n",
       "    }\n",
       "\n",
       "    .dataframe tbody tr th {\n",
       "        vertical-align: top;\n",
       "    }\n",
       "\n",
       "    .dataframe thead th {\n",
       "        text-align: right;\n",
       "    }\n",
       "</style>\n",
       "<table border=\"1\" class=\"dataframe\">\n",
       "  <thead>\n",
       "    <tr style=\"text-align: right;\">\n",
       "      <th></th>\n",
       "      <th>title</th>\n",
       "      <th>production_companies</th>\n",
       "    </tr>\n",
       "  </thead>\n",
       "  <tbody>\n",
       "    <tr>\n",
       "      <th>0</th>\n",
       "      <td>Hot Tub Time Machine 2</td>\n",
       "      <td>Paramount Pictures</td>\n",
       "    </tr>\n",
       "    <tr>\n",
       "      <th>1</th>\n",
       "      <td>The Princess Diaries 2: Royal Engagement</td>\n",
       "      <td>Walt Disney Pictures</td>\n",
       "    </tr>\n",
       "    <tr>\n",
       "      <th>2</th>\n",
       "      <td>Whiplash</td>\n",
       "      <td>Bold Films</td>\n",
       "    </tr>\n",
       "    <tr>\n",
       "      <th>3</th>\n",
       "      <td>Kahaani</td>\n",
       "      <td>unknown</td>\n",
       "    </tr>\n",
       "    <tr>\n",
       "      <th>4</th>\n",
       "      <td>Marine Boy</td>\n",
       "      <td>unknown</td>\n",
       "    </tr>\n",
       "  </tbody>\n",
       "</table>\n",
       "</div>"
      ],
      "text/plain": [
       "                                      title  production_companies\n",
       "0                    Hot Tub Time Machine 2    Paramount Pictures\n",
       "1  The Princess Diaries 2: Royal Engagement  Walt Disney Pictures\n",
       "2                                  Whiplash            Bold Films\n",
       "3                                   Kahaani               unknown\n",
       "4                                Marine Boy               unknown"
      ]
     },
     "execution_count": 55,
     "metadata": {},
     "output_type": "execute_result"
    }
   ],
   "source": [
    "train[['title','production_companies']].head()"
   ]
  },
  {
   "cell_type": "markdown",
   "id": "74576754",
   "metadata": {},
   "source": [
    "Looking a lot cleaner. Let's see if this also reduced the amount of unique production companies."
   ]
  },
  {
   "cell_type": "code",
   "execution_count": 56,
   "id": "d2b427c3",
   "metadata": {},
   "outputs": [
    {
     "name": "stdout",
     "output_type": "stream",
     "text": [
      "Unique production companies: 1064\n"
     ]
    }
   ],
   "source": [
    "print(\"Unique production companies: \" + str(len(train.production_companies.unique())))"
   ]
  },
  {
   "cell_type": "markdown",
   "id": "b5d50c2a",
   "metadata": {},
   "source": [
    "That's a nice reduction. Now we will label them like before."
   ]
  },
  {
   "cell_type": "code",
   "execution_count": 57,
   "id": "ddb90410",
   "metadata": {},
   "outputs": [],
   "source": [
    "train['production_companies'] = train['production_companies'].astype('category')\n",
    "train['production_companies'] = train['production_companies'].cat.codes"
   ]
  },
  {
   "cell_type": "code",
   "execution_count": 58,
   "id": "74102415",
   "metadata": {},
   "outputs": [
    {
     "data": {
      "text/html": [
       "<div>\n",
       "<style scoped>\n",
       "    .dataframe tbody tr th:only-of-type {\n",
       "        vertical-align: middle;\n",
       "    }\n",
       "\n",
       "    .dataframe tbody tr th {\n",
       "        vertical-align: top;\n",
       "    }\n",
       "\n",
       "    .dataframe thead th {\n",
       "        text-align: right;\n",
       "    }\n",
       "</style>\n",
       "<table border=\"1\" class=\"dataframe\">\n",
       "  <thead>\n",
       "    <tr style=\"text-align: right;\">\n",
       "      <th></th>\n",
       "      <th>title</th>\n",
       "      <th>production_companies</th>\n",
       "    </tr>\n",
       "  </thead>\n",
       "  <tbody>\n",
       "    <tr>\n",
       "      <th>0</th>\n",
       "      <td>Hot Tub Time Machine 2</td>\n",
       "      <td>705</td>\n",
       "    </tr>\n",
       "    <tr>\n",
       "      <th>1</th>\n",
       "      <td>The Princess Diaries 2: Royal Engagement</td>\n",
       "      <td>1004</td>\n",
       "    </tr>\n",
       "    <tr>\n",
       "      <th>2</th>\n",
       "      <td>Whiplash</td>\n",
       "      <td>140</td>\n",
       "    </tr>\n",
       "    <tr>\n",
       "      <th>3</th>\n",
       "      <td>Kahaani</td>\n",
       "      <td>1054</td>\n",
       "    </tr>\n",
       "    <tr>\n",
       "      <th>4</th>\n",
       "      <td>Marine Boy</td>\n",
       "      <td>1054</td>\n",
       "    </tr>\n",
       "    <tr>\n",
       "      <th>5</th>\n",
       "      <td>Pinocchio and the Emperor of the Night</td>\n",
       "      <td>1054</td>\n",
       "    </tr>\n",
       "    <tr>\n",
       "      <th>6</th>\n",
       "      <td>The Possession</td>\n",
       "      <td>386</td>\n",
       "    </tr>\n",
       "    <tr>\n",
       "      <th>7</th>\n",
       "      <td>Control Room</td>\n",
       "      <td>1054</td>\n",
       "    </tr>\n",
       "    <tr>\n",
       "      <th>8</th>\n",
       "      <td>Muppet Treasure Island</td>\n",
       "      <td>1004</td>\n",
       "    </tr>\n",
       "    <tr>\n",
       "      <th>9</th>\n",
       "      <td>A Mighty Wind</td>\n",
       "      <td>182</td>\n",
       "    </tr>\n",
       "  </tbody>\n",
       "</table>\n",
       "</div>"
      ],
      "text/plain": [
       "                                      title  production_companies\n",
       "0                    Hot Tub Time Machine 2                   705\n",
       "1  The Princess Diaries 2: Royal Engagement                  1004\n",
       "2                                  Whiplash                   140\n",
       "3                                   Kahaani                  1054\n",
       "4                                Marine Boy                  1054\n",
       "5    Pinocchio and the Emperor of the Night                  1054\n",
       "6                            The Possession                   386\n",
       "7                              Control Room                  1054\n",
       "8                    Muppet Treasure Island                  1004\n",
       "9                             A Mighty Wind                   182"
      ]
     },
     "execution_count": 58,
     "metadata": {},
     "output_type": "execute_result"
    }
   ],
   "source": [
    "train[['title', 'production_companies']].head(10)"
   ]
  },
  {
   "cell_type": "markdown",
   "id": "282aeabb",
   "metadata": {},
   "source": [
    "Great job! Let's move on to production_countries."
   ]
  },
  {
   "cell_type": "markdown",
   "id": "1d779c39",
   "metadata": {},
   "source": [
    "### Production Countries"
   ]
  },
  {
   "cell_type": "code",
   "execution_count": 59,
   "id": "bbcbb827",
   "metadata": {},
   "outputs": [
    {
     "name": "stdout",
     "output_type": "stream",
     "text": [
      "Unique production countries: 322\n"
     ]
    }
   ],
   "source": [
    "print(\"Unique production countries: \" + str(len(train.production_countries.unique())))"
   ]
  },
  {
   "cell_type": "code",
   "execution_count": 60,
   "id": "06a034d4",
   "metadata": {},
   "outputs": [
    {
     "data": {
      "text/html": [
       "<div>\n",
       "<style scoped>\n",
       "    .dataframe tbody tr th:only-of-type {\n",
       "        vertical-align: middle;\n",
       "    }\n",
       "\n",
       "    .dataframe tbody tr th {\n",
       "        vertical-align: top;\n",
       "    }\n",
       "\n",
       "    .dataframe thead th {\n",
       "        text-align: right;\n",
       "    }\n",
       "</style>\n",
       "<table border=\"1\" class=\"dataframe\">\n",
       "  <thead>\n",
       "    <tr style=\"text-align: right;\">\n",
       "      <th></th>\n",
       "      <th>title</th>\n",
       "      <th>production_countries</th>\n",
       "    </tr>\n",
       "  </thead>\n",
       "  <tbody>\n",
       "    <tr>\n",
       "      <th>0</th>\n",
       "      <td>Hot Tub Time Machine 2</td>\n",
       "      <td>[{'iso_3166_1': 'US', 'name': 'United States o...</td>\n",
       "    </tr>\n",
       "    <tr>\n",
       "      <th>1</th>\n",
       "      <td>The Princess Diaries 2: Royal Engagement</td>\n",
       "      <td>[{'iso_3166_1': 'US', 'name': 'United States o...</td>\n",
       "    </tr>\n",
       "    <tr>\n",
       "      <th>2</th>\n",
       "      <td>Whiplash</td>\n",
       "      <td>[{'iso_3166_1': 'US', 'name': 'United States o...</td>\n",
       "    </tr>\n",
       "    <tr>\n",
       "      <th>3</th>\n",
       "      <td>Kahaani</td>\n",
       "      <td>[{'iso_3166_1': 'IN', 'name': 'India'}]</td>\n",
       "    </tr>\n",
       "    <tr>\n",
       "      <th>4</th>\n",
       "      <td>Marine Boy</td>\n",
       "      <td>[{'iso_3166_1': 'KR', 'name': 'South Korea'}]</td>\n",
       "    </tr>\n",
       "    <tr>\n",
       "      <th>5</th>\n",
       "      <td>Pinocchio and the Emperor of the Night</td>\n",
       "      <td>unknown</td>\n",
       "    </tr>\n",
       "    <tr>\n",
       "      <th>6</th>\n",
       "      <td>The Possession</td>\n",
       "      <td>[{'iso_3166_1': 'US', 'name': 'United States o...</td>\n",
       "    </tr>\n",
       "    <tr>\n",
       "      <th>7</th>\n",
       "      <td>Control Room</td>\n",
       "      <td>unknown</td>\n",
       "    </tr>\n",
       "    <tr>\n",
       "      <th>8</th>\n",
       "      <td>Muppet Treasure Island</td>\n",
       "      <td>[{'iso_3166_1': 'US', 'name': 'United States o...</td>\n",
       "    </tr>\n",
       "    <tr>\n",
       "      <th>9</th>\n",
       "      <td>A Mighty Wind</td>\n",
       "      <td>[{'iso_3166_1': 'US', 'name': 'United States o...</td>\n",
       "    </tr>\n",
       "  </tbody>\n",
       "</table>\n",
       "</div>"
      ],
      "text/plain": [
       "                                      title  \\\n",
       "0                    Hot Tub Time Machine 2   \n",
       "1  The Princess Diaries 2: Royal Engagement   \n",
       "2                                  Whiplash   \n",
       "3                                   Kahaani   \n",
       "4                                Marine Boy   \n",
       "5    Pinocchio and the Emperor of the Night   \n",
       "6                            The Possession   \n",
       "7                              Control Room   \n",
       "8                    Muppet Treasure Island   \n",
       "9                             A Mighty Wind   \n",
       "\n",
       "                                production_countries  \n",
       "0  [{'iso_3166_1': 'US', 'name': 'United States o...  \n",
       "1  [{'iso_3166_1': 'US', 'name': 'United States o...  \n",
       "2  [{'iso_3166_1': 'US', 'name': 'United States o...  \n",
       "3            [{'iso_3166_1': 'IN', 'name': 'India'}]  \n",
       "4      [{'iso_3166_1': 'KR', 'name': 'South Korea'}]  \n",
       "5                                            unknown  \n",
       "6  [{'iso_3166_1': 'US', 'name': 'United States o...  \n",
       "7                                            unknown  \n",
       "8  [{'iso_3166_1': 'US', 'name': 'United States o...  \n",
       "9  [{'iso_3166_1': 'US', 'name': 'United States o...  "
      ]
     },
     "execution_count": 60,
     "metadata": {},
     "output_type": "execute_result"
    }
   ],
   "source": [
    "train[['title', 'production_countries']].head(10)"
   ]
  },
  {
   "cell_type": "code",
   "execution_count": 61,
   "id": "63e9aaf6",
   "metadata": {},
   "outputs": [
    {
     "data": {
      "text/plain": [
       "array([\"[{'iso_3166_1': 'US', 'name': 'United States of America'}]\",\n",
       "       \"[{'iso_3166_1': 'IN', 'name': 'India'}]\",\n",
       "       \"[{'iso_3166_1': 'KR', 'name': 'South Korea'}]\", 'unknown',\n",
       "       \"[{'iso_3166_1': 'US', 'name': 'United States of America'}, {'iso_3166_1': 'CA', 'name': 'Canada'}]\",\n",
       "       \"[{'iso_3166_1': 'RS', 'name': 'Serbia'}]\",\n",
       "       \"[{'iso_3166_1': 'GB', 'name': 'United Kingdom'}]\",\n",
       "       \"[{'iso_3166_1': 'AT', 'name': 'Austria'}, {'iso_3166_1': 'DE', 'name': 'Germany'}, {'iso_3166_1': 'GB', 'name': 'United Kingdom'}]\",\n",
       "       \"[{'iso_3166_1': 'FR', 'name': 'France'}]\",\n",
       "       \"[{'iso_3166_1': 'NZ', 'name': 'New Zealand'}]\",\n",
       "       \"[{'iso_3166_1': 'JP', 'name': 'Japan'}, {'iso_3166_1': 'US', 'name': 'United States of America'}]\",\n",
       "       \"[{'iso_3166_1': 'CA', 'name': 'Canada'}, {'iso_3166_1': 'IE', 'name': 'Ireland'}]\",\n",
       "       \"[{'iso_3166_1': 'AT', 'name': 'Austria'}, {'iso_3166_1': 'FR', 'name': 'France'}, {'iso_3166_1': 'DE', 'name': 'Germany'}, {'iso_3166_1': 'IT', 'name': 'Italy'}, {'iso_3166_1': 'US', 'name': 'United States of America'}]\",\n",
       "       \"[{'iso_3166_1': 'US', 'name': 'United States of America'}, {'iso_3166_1': 'NZ', 'name': 'New Zealand'}, {'iso_3166_1': 'CA', 'name': 'Canada'}, {'iso_3166_1': 'IL', 'name': 'Israel'}, {'iso_3166_1': 'JP', 'name': 'Japan'}]\",\n",
       "       \"[{'iso_3166_1': 'IE', 'name': 'Ireland'}, {'iso_3166_1': 'GB', 'name': 'United Kingdom'}, {'iso_3166_1': 'US', 'name': 'United States of America'}]\",\n",
       "       \"[{'iso_3166_1': 'IT', 'name': 'Italy'}]\",\n",
       "       \"[{'iso_3166_1': 'BE', 'name': 'Belgium'}]\",\n",
       "       \"[{'iso_3166_1': 'FR', 'name': 'France'}, {'iso_3166_1': 'DE', 'name': 'Germany'}]\",\n",
       "       \"[{'iso_3166_1': 'GB', 'name': 'United Kingdom'}, {'iso_3166_1': 'US', 'name': 'United States of America'}]\",\n",
       "       \"[{'iso_3166_1': 'IT', 'name': 'Italy'}, {'iso_3166_1': 'GB', 'name': 'United Kingdom'}, {'iso_3166_1': 'US', 'name': 'United States of America'}, {'iso_3166_1': 'CZ', 'name': 'Czech Republic'}, {'iso_3166_1': 'DE', 'name': 'Germany'}]\",\n",
       "       \"[{'iso_3166_1': 'CN', 'name': 'China'}, {'iso_3166_1': 'FR', 'name': 'France'}, {'iso_3166_1': 'JP', 'name': 'Japan'}]\",\n",
       "       \"[{'iso_3166_1': 'DE', 'name': 'Germany'}, {'iso_3166_1': 'US', 'name': 'United States of America'}]\",\n",
       "       \"[{'iso_3166_1': 'BR', 'name': 'Brazil'}, {'iso_3166_1': 'AR', 'name': 'Argentina'}, {'iso_3166_1': 'CL', 'name': 'Chile'}, {'iso_3166_1': 'FR', 'name': 'France'}, {'iso_3166_1': 'DE', 'name': 'Germany'}, {'iso_3166_1': 'PE', 'name': 'Peru'}, {'iso_3166_1': 'GB', 'name': 'United Kingdom'}, {'iso_3166_1': 'US', 'name': 'United States of America'}]\",\n",
       "       \"[{'iso_3166_1': 'CZ', 'name': 'Czech Republic'}]\",\n",
       "       \"[{'iso_3166_1': 'DE', 'name': 'Germany'}, {'iso_3166_1': 'GB', 'name': 'United Kingdom'}, {'iso_3166_1': 'US', 'name': 'United States of America'}]\",\n",
       "       \"[{'iso_3166_1': 'FR', 'name': 'France'}, {'iso_3166_1': 'US', 'name': 'United States of America'}]\",\n",
       "       \"[{'iso_3166_1': 'HK', 'name': 'Hong Kong'}]\",\n",
       "       \"[{'iso_3166_1': 'CZ', 'name': 'Czech Republic'}, {'iso_3166_1': 'GB', 'name': 'United Kingdom'}, {'iso_3166_1': 'US', 'name': 'United States of America'}]\",\n",
       "       \"[{'iso_3166_1': 'RU', 'name': 'Russia'}]\",\n",
       "       \"[{'iso_3166_1': 'ES', 'name': 'Spain'}]\",\n",
       "       \"[{'iso_3166_1': 'TR', 'name': 'Turkey'}]\",\n",
       "       \"[{'iso_3166_1': 'NZ', 'name': 'New Zealand'}, {'iso_3166_1': 'US', 'name': 'United States of America'}]\",\n",
       "       \"[{'iso_3166_1': 'CN', 'name': 'China'}]\",\n",
       "       \"[{'iso_3166_1': 'AU', 'name': 'Australia'}, {'iso_3166_1': 'HK', 'name': 'Hong Kong'}]\",\n",
       "       \"[{'iso_3166_1': 'AU', 'name': 'Australia'}, {'iso_3166_1': 'CN', 'name': 'China'}, {'iso_3166_1': 'DE', 'name': 'Germany'}]\",\n",
       "       \"[{'iso_3166_1': 'CA', 'name': 'Canada'}]\",\n",
       "       \"[{'iso_3166_1': 'US', 'name': 'United States of America'}, {'iso_3166_1': 'GB', 'name': 'United Kingdom'}, {'iso_3166_1': 'DE', 'name': 'Germany'}, {'iso_3166_1': 'SE', 'name': 'Sweden'}]\",\n",
       "       \"[{'iso_3166_1': 'AU', 'name': 'Australia'}]\",\n",
       "       \"[{'iso_3166_1': 'GB', 'name': 'United Kingdom'}, {'iso_3166_1': 'LU', 'name': 'Luxembourg'}]\",\n",
       "       \"[{'iso_3166_1': 'KR', 'name': 'South Korea'}, {'iso_3166_1': 'FR', 'name': 'France'}, {'iso_3166_1': 'CZ', 'name': 'Czech Republic'}, {'iso_3166_1': 'US', 'name': 'United States of America'}]\",\n",
       "       \"[{'iso_3166_1': 'ZA', 'name': 'South Africa'}, {'iso_3166_1': 'US', 'name': 'United States of America'}]\",\n",
       "       \"[{'iso_3166_1': 'AU', 'name': 'Australia'}, {'iso_3166_1': 'CA', 'name': 'Canada'}, {'iso_3166_1': 'US', 'name': 'United States of America'}]\",\n",
       "       \"[{'iso_3166_1': 'AU', 'name': 'Australia'}, {'iso_3166_1': 'GB', 'name': 'United Kingdom'}]\",\n",
       "       \"[{'iso_3166_1': 'CH', 'name': 'Switzerland'}, {'iso_3166_1': 'US', 'name': 'United States of America'}]\",\n",
       "       \"[{'iso_3166_1': 'US', 'name': 'United States of America'}, {'iso_3166_1': 'DE', 'name': 'Germany'}]\",\n",
       "       \"[{'iso_3166_1': 'IE', 'name': 'Ireland'}, {'iso_3166_1': 'GB', 'name': 'United Kingdom'}]\",\n",
       "       \"[{'iso_3166_1': 'JP', 'name': 'Japan'}, {'iso_3166_1': 'GB', 'name': 'United Kingdom'}]\",\n",
       "       \"[{'iso_3166_1': 'IR', 'name': 'Iran'}]\",\n",
       "       \"[{'iso_3166_1': 'CA', 'name': 'Canada'}, {'iso_3166_1': 'GB', 'name': 'United Kingdom'}, {'iso_3166_1': 'US', 'name': 'United States of America'}]\",\n",
       "       \"[{'iso_3166_1': 'US', 'name': 'United States of America'}, {'iso_3166_1': 'MA', 'name': 'Morocco'}]\",\n",
       "       \"[{'iso_3166_1': 'FR', 'name': 'France'}, {'iso_3166_1': 'GB', 'name': 'United Kingdom'}, {'iso_3166_1': 'LU', 'name': 'Luxembourg'}, {'iso_3166_1': 'NL', 'name': 'Netherlands'}, {'iso_3166_1': 'US', 'name': 'United States of America'}]\",\n",
       "       \"[{'iso_3166_1': 'JP', 'name': 'Japan'}]\",\n",
       "       \"[{'iso_3166_1': 'SE', 'name': 'Sweden'}]\",\n",
       "       \"[{'iso_3166_1': 'CN', 'name': 'China'}, {'iso_3166_1': 'HK', 'name': 'Hong Kong'}]\",\n",
       "       \"[{'iso_3166_1': 'AU', 'name': 'Australia'}, {'iso_3166_1': 'FR', 'name': 'France'}, {'iso_3166_1': 'GB', 'name': 'United Kingdom'}, {'iso_3166_1': 'US', 'name': 'United States of America'}]\",\n",
       "       \"[{'iso_3166_1': 'DE', 'name': 'Germany'}, {'iso_3166_1': 'IE', 'name': 'Ireland'}, {'iso_3166_1': 'GB', 'name': 'United Kingdom'}, {'iso_3166_1': 'US', 'name': 'United States of America'}]\",\n",
       "       \"[{'iso_3166_1': 'FR', 'name': 'France'}, {'iso_3166_1': 'GB', 'name': 'United Kingdom'}]\",\n",
       "       \"[{'iso_3166_1': 'IN', 'name': 'India'}, {'iso_3166_1': 'US', 'name': 'United States of America'}]\",\n",
       "       \"[{'iso_3166_1': 'AT', 'name': 'Austria'}, {'iso_3166_1': 'DE', 'name': 'Germany'}, {'iso_3166_1': 'IT', 'name': 'Italy'}]\",\n",
       "       \"[{'iso_3166_1': 'AU', 'name': 'Australia'}, {'iso_3166_1': 'US', 'name': 'United States of America'}]\",\n",
       "       \"[{'iso_3166_1': 'FR', 'name': 'France'}, {'iso_3166_1': 'DE', 'name': 'Germany'}, {'iso_3166_1': 'IT', 'name': 'Italy'}, {'iso_3166_1': 'US', 'name': 'United States of America'}]\",\n",
       "       \"[{'iso_3166_1': 'PH', 'name': 'Philippines'}]\",\n",
       "       \"[{'iso_3166_1': 'IS', 'name': 'Iceland'}, {'iso_3166_1': 'US', 'name': 'United States of America'}, {'iso_3166_1': 'GB', 'name': 'United Kingdom'}]\",\n",
       "       \"[{'iso_3166_1': 'IE', 'name': 'Ireland'}, {'iso_3166_1': 'US', 'name': 'United States of America'}]\",\n",
       "       \"[{'iso_3166_1': 'BR', 'name': 'Brazil'}]\",\n",
       "       \"[{'iso_3166_1': 'US', 'name': 'United States of America'}, {'iso_3166_1': 'IT', 'name': 'Italy'}]\",\n",
       "       \"[{'iso_3166_1': 'FR', 'name': 'France'}, {'iso_3166_1': 'US', 'name': 'United States of America'}, {'iso_3166_1': 'CA', 'name': 'Canada'}]\",\n",
       "       \"[{'iso_3166_1': 'CA', 'name': 'Canada'}, {'iso_3166_1': 'FR', 'name': 'France'}]\",\n",
       "       \"[{'iso_3166_1': 'DK', 'name': 'Denmark'}, {'iso_3166_1': 'SE', 'name': 'Sweden'}, {'iso_3166_1': 'US', 'name': 'United States of America'}]\",\n",
       "       \"[{'iso_3166_1': 'CA', 'name': 'Canada'}, {'iso_3166_1': 'HK', 'name': 'Hong Kong'}, {'iso_3166_1': 'TW', 'name': 'Taiwan'}, {'iso_3166_1': 'US', 'name': 'United States of America'}]\",\n",
       "       \"[{'iso_3166_1': 'US', 'name': 'United States of America'}, {'iso_3166_1': 'FR', 'name': 'France'}]\",\n",
       "       \"[{'iso_3166_1': 'JP', 'name': 'Japan'}, {'iso_3166_1': 'KR', 'name': 'South Korea'}]\",\n",
       "       \"[{'iso_3166_1': 'AU', 'name': 'Australia'}, {'iso_3166_1': 'TW', 'name': 'Taiwan'}]\",\n",
       "       \"[{'iso_3166_1': 'RU', 'name': 'Russia'}, {'iso_3166_1': 'US', 'name': 'United States of America'}]\",\n",
       "       \"[{'iso_3166_1': 'HK', 'name': 'Hong Kong'}, {'iso_3166_1': 'US', 'name': 'United States of America'}]\",\n",
       "       \"[{'iso_3166_1': 'CA', 'name': 'Canada'}, {'iso_3166_1': 'DE', 'name': 'Germany'}, {'iso_3166_1': 'US', 'name': 'United States of America'}]\",\n",
       "       \"[{'iso_3166_1': 'DE', 'name': 'Germany'}, {'iso_3166_1': 'ES', 'name': 'Spain'}, {'iso_3166_1': 'GB', 'name': 'United Kingdom'}, {'iso_3166_1': 'US', 'name': 'United States of America'}]\",\n",
       "       \"[{'iso_3166_1': 'GB', 'name': 'United Kingdom'}, {'iso_3166_1': 'NZ', 'name': 'New Zealand'}, {'iso_3166_1': 'US', 'name': 'United States of America'}]\",\n",
       "       \"[{'iso_3166_1': 'MN', 'name': 'Mongolia'}, {'iso_3166_1': 'US', 'name': 'United States of America'}, {'iso_3166_1': 'GB', 'name': 'United Kingdom'}]\",\n",
       "       \"[{'iso_3166_1': 'FR', 'name': 'France'}, {'iso_3166_1': 'BE', 'name': 'Belgium'}]\",\n",
       "       \"[{'iso_3166_1': 'CA', 'name': 'Canada'}, {'iso_3166_1': 'GB', 'name': 'United Kingdom'}]\",\n",
       "       \"[{'iso_3166_1': 'GB', 'name': 'United Kingdom'}, {'iso_3166_1': 'US', 'name': 'United States of America'}, {'iso_3166_1': 'FR', 'name': 'France'}, {'iso_3166_1': 'DE', 'name': 'Germany'}]\",\n",
       "       \"[{'iso_3166_1': 'BR', 'name': 'Brazil'}, {'iso_3166_1': 'US', 'name': 'United States of America'}]\",\n",
       "       \"[{'iso_3166_1': 'FR', 'name': 'France'}, {'iso_3166_1': 'CH', 'name': 'Switzerland'}]\",\n",
       "       \"[{'iso_3166_1': 'NL', 'name': 'Netherlands'}]\",\n",
       "       \"[{'iso_3166_1': 'ES', 'name': 'Spain'}, {'iso_3166_1': 'US', 'name': 'United States of America'}]\",\n",
       "       \"[{'iso_3166_1': 'HU', 'name': 'Hungary'}, {'iso_3166_1': 'RS', 'name': 'Serbia'}, {'iso_3166_1': 'ES', 'name': 'Spain'}, {'iso_3166_1': 'US', 'name': 'United States of America'}]\",\n",
       "       \"[{'iso_3166_1': 'IE', 'name': 'Ireland'}]\",\n",
       "       \"[{'iso_3166_1': 'CA', 'name': 'Canada'}, {'iso_3166_1': 'US', 'name': 'United States of America'}]\",\n",
       "       \"[{'iso_3166_1': 'MX', 'name': 'Mexico'}, {'iso_3166_1': 'US', 'name': 'United States of America'}]\",\n",
       "       \"[{'iso_3166_1': 'BR', 'name': 'Brazil'}, {'iso_3166_1': 'FR', 'name': 'France'}]\",\n",
       "       \"[{'iso_3166_1': 'CA', 'name': 'Canada'}, {'iso_3166_1': 'FR', 'name': 'France'}, {'iso_3166_1': 'BE', 'name': 'Belgium'}]\",\n",
       "       \"[{'iso_3166_1': 'CZ', 'name': 'Czech Republic'}, {'iso_3166_1': 'DE', 'name': 'Germany'}, {'iso_3166_1': 'GB', 'name': 'United Kingdom'}, {'iso_3166_1': 'US', 'name': 'United States of America'}]\",\n",
       "       \"[{'iso_3166_1': 'IE', 'name': 'Ireland'}, {'iso_3166_1': 'GB', 'name': 'United Kingdom'}, {'iso_3166_1': 'DK', 'name': 'Denmark'}]\",\n",
       "       \"[{'iso_3166_1': 'FR', 'name': 'France'}, {'iso_3166_1': 'AU', 'name': 'Australia'}]\",\n",
       "       \"[{'iso_3166_1': 'AT', 'name': 'Austria'}, {'iso_3166_1': 'HU', 'name': 'Hungary'}]\",\n",
       "       \"[{'iso_3166_1': 'US', 'name': 'United States of America'}, {'iso_3166_1': 'RU', 'name': 'Russia'}]\",\n",
       "       \"[{'iso_3166_1': 'MX', 'name': 'Mexico'}]\",\n",
       "       \"[{'iso_3166_1': 'FR', 'name': 'France'}, {'iso_3166_1': 'IT', 'name': 'Italy'}]\",\n",
       "       \"[{'iso_3166_1': 'RO', 'name': 'Romania'}, {'iso_3166_1': 'US', 'name': 'United States of America'}]\",\n",
       "       \"[{'iso_3166_1': 'HU', 'name': 'Hungary'}, {'iso_3166_1': 'US', 'name': 'United States of America'}]\",\n",
       "       \"[{'iso_3166_1': 'US', 'name': 'United States of America'}, {'iso_3166_1': 'GB', 'name': 'United Kingdom'}, {'iso_3166_1': 'DE', 'name': 'Germany'}]\",\n",
       "       \"[{'iso_3166_1': 'AU', 'name': 'Australia'}, {'iso_3166_1': 'GB', 'name': 'United Kingdom'}, {'iso_3166_1': 'US', 'name': 'United States of America'}]\",\n",
       "       \"[{'iso_3166_1': 'IT', 'name': 'Italy'}, {'iso_3166_1': 'US', 'name': 'United States of America'}]\",\n",
       "       \"[{'iso_3166_1': 'MX', 'name': 'Mexico'}, {'iso_3166_1': 'ZA', 'name': 'South Africa'}, {'iso_3166_1': 'US', 'name': 'United States of America'}]\",\n",
       "       \"[{'iso_3166_1': 'FR', 'name': 'France'}, {'iso_3166_1': 'IE', 'name': 'Ireland'}, {'iso_3166_1': 'GB', 'name': 'United Kingdom'}, {'iso_3166_1': 'US', 'name': 'United States of America'}]\",\n",
       "       \"[{'iso_3166_1': 'FR', 'name': 'France'}, {'iso_3166_1': 'GB', 'name': 'United Kingdom'}, {'iso_3166_1': 'US', 'name': 'United States of America'}]\",\n",
       "       \"[{'iso_3166_1': 'FR', 'name': 'France'}, {'iso_3166_1': 'AU', 'name': 'Australia'}, {'iso_3166_1': 'CA', 'name': 'Canada'}, {'iso_3166_1': 'DE', 'name': 'Germany'}]\",\n",
       "       \"[{'iso_3166_1': 'GR', 'name': 'Greece'}, {'iso_3166_1': 'US', 'name': 'United States of America'}]\",\n",
       "       \"[{'iso_3166_1': 'US', 'name': 'United States of America'}, {'iso_3166_1': 'AE', 'name': 'United Arab Emirates'}]\",\n",
       "       \"[{'iso_3166_1': 'US', 'name': 'United States of America'}, {'iso_3166_1': 'ES', 'name': 'Spain'}]\",\n",
       "       \"[{'iso_3166_1': 'SE', 'name': 'Sweden'}, {'iso_3166_1': 'DE', 'name': 'Germany'}, {'iso_3166_1': 'FR', 'name': 'France'}]\",\n",
       "       \"[{'iso_3166_1': 'MX', 'name': 'Mexico'}, {'iso_3166_1': 'PR', 'name': 'Puerto Rico'}, {'iso_3166_1': 'US', 'name': 'United States of America'}]\",\n",
       "       \"[{'iso_3166_1': 'CA', 'name': 'Canada'}, {'iso_3166_1': 'FR', 'name': 'France'}, {'iso_3166_1': 'DE', 'name': 'Germany'}, {'iso_3166_1': 'IT', 'name': 'Italy'}]\",\n",
       "       \"[{'iso_3166_1': 'FI', 'name': 'Finland'}, {'iso_3166_1': 'DE', 'name': 'Germany'}, {'iso_3166_1': 'AU', 'name': 'Australia'}]\",\n",
       "       \"[{'iso_3166_1': 'DK', 'name': 'Denmark'}, {'iso_3166_1': 'FR', 'name': 'France'}, {'iso_3166_1': 'IT', 'name': 'Italy'}, {'iso_3166_1': 'SE', 'name': 'Sweden'}, {'iso_3166_1': 'DE', 'name': 'Germany'}]\",\n",
       "       \"[{'iso_3166_1': 'US', 'name': 'United States of America'}, {'iso_3166_1': 'GB', 'name': 'United Kingdom'}]\",\n",
       "       \"[{'iso_3166_1': 'KH', 'name': 'Cambodia'}, {'iso_3166_1': 'US', 'name': 'United States of America'}]\",\n",
       "       \"[{'iso_3166_1': 'IT', 'name': 'Italy'}, {'iso_3166_1': 'DE', 'name': 'Germany'}]\",\n",
       "       \"[{'iso_3166_1': 'US', 'name': 'United States of America'}, {'iso_3166_1': 'JP', 'name': 'Japan'}]\",\n",
       "       \"[{'iso_3166_1': 'LU', 'name': 'Luxembourg'}, {'iso_3166_1': 'GB', 'name': 'United Kingdom'}, {'iso_3166_1': 'FR', 'name': 'France'}, {'iso_3166_1': 'DE', 'name': 'Germany'}, {'iso_3166_1': 'CH', 'name': 'Switzerland'}]\",\n",
       "       \"[{'iso_3166_1': 'DE', 'name': 'Germany'}]\",\n",
       "       \"[{'iso_3166_1': 'FR', 'name': 'France'}, {'iso_3166_1': 'NO', 'name': 'Norway'}, {'iso_3166_1': 'PL', 'name': 'Poland'}]\",\n",
       "       \"[{'iso_3166_1': 'AE', 'name': 'United Arab Emirates'}, {'iso_3166_1': 'US', 'name': 'United States of America'}]\",\n",
       "       \"[{'iso_3166_1': 'GB', 'name': 'United Kingdom'}, {'iso_3166_1': 'US', 'name': 'United States of America'}, {'iso_3166_1': 'FR', 'name': 'France'}]\",\n",
       "       \"[{'iso_3166_1': 'US', 'name': 'United States of America'}, {'iso_3166_1': 'MT', 'name': 'Malta'}]\",\n",
       "       \"[{'iso_3166_1': 'DE', 'name': 'Germany'}, {'iso_3166_1': 'US', 'name': 'United States of America'}, {'iso_3166_1': 'CN', 'name': 'China'}]\",\n",
       "       \"[{'iso_3166_1': 'BR', 'name': 'Brazil'}, {'iso_3166_1': 'FR', 'name': 'France'}, {'iso_3166_1': 'GR', 'name': 'Greece'}, {'iso_3166_1': 'US', 'name': 'United States of America'}]\",\n",
       "       \"[{'iso_3166_1': 'NA', 'name': 'Namibia'}, {'iso_3166_1': 'US', 'name': 'United States of America'}, {'iso_3166_1': 'ZA', 'name': 'South Africa'}]\",\n",
       "       \"[{'iso_3166_1': 'AU', 'name': 'Australia'}, {'iso_3166_1': 'US', 'name': 'United States of America'}, {'iso_3166_1': 'GB', 'name': 'United Kingdom'}]\",\n",
       "       \"[{'iso_3166_1': 'AU', 'name': 'Australia'}, {'iso_3166_1': 'CA', 'name': 'Canada'}, {'iso_3166_1': 'CN', 'name': 'China'}, {'iso_3166_1': 'HK', 'name': 'Hong Kong'}, {'iso_3166_1': 'US', 'name': 'United States of America'}]\",\n",
       "       \"[{'iso_3166_1': 'FR', 'name': 'France'}, {'iso_3166_1': 'DE', 'name': 'Germany'}, {'iso_3166_1': 'GB', 'name': 'United Kingdom'}, {'iso_3166_1': 'US', 'name': 'United States of America'}]\",\n",
       "       \"[{'iso_3166_1': 'US', 'name': 'United States of America'}, {'iso_3166_1': 'FI', 'name': 'Finland'}]\",\n",
       "       \"[{'iso_3166_1': 'MX', 'name': 'Mexico'}, {'iso_3166_1': 'BE', 'name': 'Belgium'}, {'iso_3166_1': 'NL', 'name': 'Netherlands'}, {'iso_3166_1': 'DE', 'name': 'Germany'}, {'iso_3166_1': 'FR', 'name': 'France'}]\",\n",
       "       \"[{'iso_3166_1': 'GB', 'name': 'United Kingdom'}, {'iso_3166_1': 'US', 'name': 'United States of America'}, {'iso_3166_1': 'IE', 'name': 'Ireland'}, {'iso_3166_1': 'NL', 'name': 'Netherlands'}, {'iso_3166_1': 'FR', 'name': 'France'}]\",\n",
       "       \"[{'iso_3166_1': 'BA', 'name': 'Bosnia and Herzegovina'}, {'iso_3166_1': 'TR', 'name': 'Turkey'}]\",\n",
       "       \"[{'iso_3166_1': 'US', 'name': 'United States of America'}, {'iso_3166_1': 'CA', 'name': 'Canada'}, {'iso_3166_1': 'DE', 'name': 'Germany'}]\",\n",
       "       \"[{'iso_3166_1': 'ZA', 'name': 'South Africa'}]\",\n",
       "       \"[{'iso_3166_1': 'GB', 'name': 'United Kingdom'}, {'iso_3166_1': 'DE', 'name': 'Germany'}, {'iso_3166_1': 'US', 'name': 'United States of America'}]\",\n",
       "       \"[{'iso_3166_1': 'FI', 'name': 'Finland'}]\",\n",
       "       \"[{'iso_3166_1': 'CZ', 'name': 'Czech Republic'}, {'iso_3166_1': 'DE', 'name': 'Germany'}, {'iso_3166_1': 'GB', 'name': 'United Kingdom'}]\",\n",
       "       \"[{'iso_3166_1': 'ES', 'name': 'Spain'}, {'iso_3166_1': 'CA', 'name': 'Canada'}]\",\n",
       "       \"[{'iso_3166_1': 'IT', 'name': 'Italy'}, {'iso_3166_1': 'CS', 'name': 'Serbia and Montenegro'}, {'iso_3166_1': 'US', 'name': 'United States of America'}]\",\n",
       "       \"[{'iso_3166_1': 'KH', 'name': 'Cambodia'}, {'iso_3166_1': 'FR', 'name': 'France'}]\",\n",
       "       \"[{'iso_3166_1': 'US', 'name': 'United States of America'}, {'iso_3166_1': 'AU', 'name': 'Australia'}]\",\n",
       "       \"[{'iso_3166_1': 'CN', 'name': 'China'}, {'iso_3166_1': 'HK', 'name': 'Hong Kong'}, {'iso_3166_1': 'US', 'name': 'United States of America'}]\",\n",
       "       \"[{'iso_3166_1': 'CZ', 'name': 'Czech Republic'}, {'iso_3166_1': 'FR', 'name': 'France'}, {'iso_3166_1': 'GB', 'name': 'United Kingdom'}]\",\n",
       "       \"[{'iso_3166_1': 'PK', 'name': 'Pakistan'}]\",\n",
       "       \"[{'iso_3166_1': 'HK', 'name': 'Hong Kong'}, {'iso_3166_1': 'CN', 'name': 'China'}]\",\n",
       "       \"[{'iso_3166_1': 'GB', 'name': 'United Kingdom'}, {'iso_3166_1': 'US', 'name': 'United States of America'}, {'iso_3166_1': 'FR', 'name': 'France'}, {'iso_3166_1': 'IT', 'name': 'Italy'}]\",\n",
       "       \"[{'iso_3166_1': 'ES', 'name': 'Spain'}, {'iso_3166_1': 'GB', 'name': 'United Kingdom'}, {'iso_3166_1': 'US', 'name': 'United States of America'}]\",\n",
       "       \"[{'iso_3166_1': 'IT', 'name': 'Italy'}, {'iso_3166_1': 'ES', 'name': 'Spain'}, {'iso_3166_1': 'US', 'name': 'United States of America'}]\",\n",
       "       \"[{'iso_3166_1': 'FR', 'name': 'France'}, {'iso_3166_1': 'ES', 'name': 'Spain'}]\",\n",
       "       \"[{'iso_3166_1': 'IT', 'name': 'Italy'}, {'iso_3166_1': 'DZ', 'name': 'Algeria'}]\",\n",
       "       \"[{'iso_3166_1': 'AU', 'name': 'Australia'}, {'iso_3166_1': 'FR', 'name': 'France'}]\",\n",
       "       \"[{'iso_3166_1': 'US', 'name': 'United States of America'}, {'iso_3166_1': 'IN', 'name': 'India'}, {'iso_3166_1': 'FR', 'name': 'France'}]\",\n",
       "       \"[{'iso_3166_1': 'US', 'name': 'United States of America'}, {'iso_3166_1': 'IN', 'name': 'India'}]\",\n",
       "       \"[{'iso_3166_1': 'AR', 'name': 'Argentina'}, {'iso_3166_1': 'FR', 'name': 'France'}, {'iso_3166_1': 'ES', 'name': 'Spain'}]\",\n",
       "       \"[{'iso_3166_1': 'ET', 'name': 'Ethiopia'}]\",\n",
       "       \"[{'iso_3166_1': 'DK', 'name': 'Denmark'}, {'iso_3166_1': 'GB', 'name': 'United Kingdom'}, {'iso_3166_1': 'ZA', 'name': 'South Africa'}, {'iso_3166_1': 'SE', 'name': 'Sweden'}, {'iso_3166_1': 'BE', 'name': 'Belgium'}]\",\n",
       "       \"[{'iso_3166_1': 'IN', 'name': 'India'}, {'iso_3166_1': 'FR', 'name': 'France'}, {'iso_3166_1': 'DE', 'name': 'Germany'}]\",\n",
       "       \"[{'iso_3166_1': 'CN', 'name': 'China'}, {'iso_3166_1': 'US', 'name': 'United States of America'}]\",\n",
       "       \"[{'iso_3166_1': 'IL', 'name': 'Israel'}, {'iso_3166_1': 'FR', 'name': 'France'}, {'iso_3166_1': 'DE', 'name': 'Germany'}]\",\n",
       "       \"[{'iso_3166_1': 'IT', 'name': 'Italy'}, {'iso_3166_1': 'GB', 'name': 'United Kingdom'}]\",\n",
       "       \"[{'iso_3166_1': 'CN', 'name': 'China'}, {'iso_3166_1': 'US', 'name': 'United States of America'}, {'iso_3166_1': 'HK', 'name': 'Hong Kong'}]\",\n",
       "       \"[{'iso_3166_1': 'FR', 'name': 'France'}, {'iso_3166_1': 'IT', 'name': 'Italy'}, {'iso_3166_1': 'QA', 'name': 'Qatar'}, {'iso_3166_1': 'TN', 'name': 'Tunisia'}]\",\n",
       "       \"[{'iso_3166_1': 'FR', 'name': 'France'}, {'iso_3166_1': 'CN', 'name': 'China'}, {'iso_3166_1': 'GB', 'name': 'United Kingdom'}, {'iso_3166_1': 'IT', 'name': 'Italy'}]\",\n",
       "       \"[{'iso_3166_1': 'NO', 'name': 'Norway'}]\",\n",
       "       \"[{'iso_3166_1': 'IT', 'name': 'Italy'}, {'iso_3166_1': 'BE', 'name': 'Belgium'}, {'iso_3166_1': 'FR', 'name': 'France'}]\",\n",
       "       \"[{'iso_3166_1': 'ES', 'name': 'Spain'}, {'iso_3166_1': 'IT', 'name': 'Italy'}]\",\n",
       "       \"[{'iso_3166_1': 'IT', 'name': 'Italy'}, {'iso_3166_1': 'ES', 'name': 'Spain'}]\",\n",
       "       \"[{'iso_3166_1': 'BE', 'name': 'Belgium'}, {'iso_3166_1': 'FR', 'name': 'France'}]\",\n",
       "       \"[{'iso_3166_1': 'GB', 'name': 'United Kingdom'}, {'iso_3166_1': 'IT', 'name': 'Italy'}, {'iso_3166_1': 'TR', 'name': 'Turkey'}, {'iso_3166_1': 'PT', 'name': 'Portugal'}]\",\n",
       "       \"[{'iso_3166_1': 'SE', 'name': 'Sweden'}, {'iso_3166_1': 'RU', 'name': 'Russia'}, {'iso_3166_1': 'NO', 'name': 'Norway'}]\",\n",
       "       \"[{'iso_3166_1': 'CN', 'name': 'China'}, {'iso_3166_1': 'CA', 'name': 'Canada'}, {'iso_3166_1': 'US', 'name': 'United States of America'}, {'iso_3166_1': 'GB', 'name': 'United Kingdom'}]\",\n",
       "       \"[{'iso_3166_1': 'US', 'name': 'United States of America'}, {'iso_3166_1': 'GB', 'name': 'United Kingdom'}, {'iso_3166_1': 'DE', 'name': 'Germany'}, {'iso_3166_1': 'JP', 'name': 'Japan'}, {'iso_3166_1': 'FR', 'name': 'France'}]\",\n",
       "       \"[{'iso_3166_1': 'AT', 'name': 'Austria'}, {'iso_3166_1': 'DE', 'name': 'Germany'}]\",\n",
       "       \"[{'iso_3166_1': 'CA', 'name': 'Canada'}, {'iso_3166_1': 'FR', 'name': 'France'}, {'iso_3166_1': 'GB', 'name': 'United Kingdom'}]\",\n",
       "       \"[{'iso_3166_1': 'ES', 'name': 'Spain'}, {'iso_3166_1': 'GB', 'name': 'United Kingdom'}, {'iso_3166_1': 'IT', 'name': 'Italy'}, {'iso_3166_1': 'US', 'name': 'United States of America'}]\",\n",
       "       \"[{'iso_3166_1': 'US', 'name': 'United States of America'}, {'iso_3166_1': 'AT', 'name': 'Austria'}]\",\n",
       "       \"[{'iso_3166_1': 'MX', 'name': 'Mexico'}, {'iso_3166_1': 'ES', 'name': 'Spain'}]\",\n",
       "       \"[{'iso_3166_1': 'ZA', 'name': 'South Africa'}, {'iso_3166_1': 'DE', 'name': 'Germany'}, {'iso_3166_1': 'US', 'name': 'United States of America'}]\",\n",
       "       \"[{'iso_3166_1': 'ES', 'name': 'Spain'}, {'iso_3166_1': 'GB', 'name': 'United Kingdom'}, {'iso_3166_1': 'US', 'name': 'United States of America'}, {'iso_3166_1': 'FR', 'name': 'France'}]\",\n",
       "       \"[{'iso_3166_1': 'BG', 'name': 'Bulgaria'}]\",\n",
       "       \"[{'iso_3166_1': 'CZ', 'name': 'Czech Republic'}, {'iso_3166_1': 'PL', 'name': 'Poland'}, {'iso_3166_1': 'SI', 'name': 'Slovenia'}, {'iso_3166_1': 'US', 'name': 'United States of America'}]\",\n",
       "       \"[{'iso_3166_1': 'BE', 'name': 'Belgium'}, {'iso_3166_1': 'LU', 'name': 'Luxembourg'}, {'iso_3166_1': 'FR', 'name': 'France'}]\",\n",
       "       \"[{'iso_3166_1': 'IT', 'name': 'Italy'}, {'iso_3166_1': 'ES', 'name': 'Spain'}, {'iso_3166_1': 'DE', 'name': 'Germany'}]\",\n",
       "       \"[{'iso_3166_1': 'DE', 'name': 'Germany'}, {'iso_3166_1': 'GB', 'name': 'United Kingdom'}]\",\n",
       "       \"[{'iso_3166_1': 'FR', 'name': 'France'}, {'iso_3166_1': 'JP', 'name': 'Japan'}]\",\n",
       "       \"[{'iso_3166_1': 'UA', 'name': 'Ukraine'}]\",\n",
       "       \"[{'iso_3166_1': 'CA', 'name': 'Canada'}, {'iso_3166_1': 'US', 'name': 'United States of America'}, {'iso_3166_1': 'AU', 'name': 'Australia'}]\",\n",
       "       \"[{'iso_3166_1': 'SA', 'name': 'Saudi Arabia'}, {'iso_3166_1': 'DE', 'name': 'Germany'}, {'iso_3166_1': 'JO', 'name': 'Jordan'}, {'iso_3166_1': 'NL', 'name': 'Netherlands'}, {'iso_3166_1': 'AE', 'name': 'United Arab Emirates'}, {'iso_3166_1': 'US', 'name': 'United States of America'}]\",\n",
       "       \"[{'iso_3166_1': 'FR', 'name': 'France'}, {'iso_3166_1': 'GB', 'name': 'United Kingdom'}, {'iso_3166_1': 'HU', 'name': 'Hungary'}, {'iso_3166_1': 'AU', 'name': 'Australia'}, {'iso_3166_1': 'US', 'name': 'United States of America'}, {'iso_3166_1': 'NZ', 'name': 'New Zealand'}]\",\n",
       "       \"[{'iso_3166_1': 'DK', 'name': 'Denmark'}]\",\n",
       "       \"[{'iso_3166_1': 'GB', 'name': 'United Kingdom'}, {'iso_3166_1': 'DE', 'name': 'Germany'}]\",\n",
       "       \"[{'iso_3166_1': 'DE', 'name': 'Germany'}, {'iso_3166_1': 'TR', 'name': 'Turkey'}]\",\n",
       "       \"[{'iso_3166_1': 'NL', 'name': 'Netherlands'}, {'iso_3166_1': 'BE', 'name': 'Belgium'}]\",\n",
       "       \"[{'iso_3166_1': 'DK', 'name': 'Denmark'}, {'iso_3166_1': 'FI', 'name': 'Finland'}, {'iso_3166_1': 'GB', 'name': 'United Kingdom'}, {'iso_3166_1': 'SE', 'name': 'Sweden'}]\",\n",
       "       \"[{'iso_3166_1': 'JP', 'name': 'Japan'}, {'iso_3166_1': 'GB', 'name': 'United Kingdom'}, {'iso_3166_1': 'IE', 'name': 'Ireland'}]\",\n",
       "       \"[{'iso_3166_1': 'CA', 'name': 'Canada'}, {'iso_3166_1': 'FR', 'name': 'France'}, {'iso_3166_1': 'DE', 'name': 'Germany'}, {'iso_3166_1': 'US', 'name': 'United States of America'}]\",\n",
       "       \"[{'iso_3166_1': 'FR', 'name': 'France'}, {'iso_3166_1': 'GB', 'name': 'United Kingdom'}, {'iso_3166_1': 'LU', 'name': 'Luxembourg'}]\",\n",
       "       \"[{'iso_3166_1': 'QA', 'name': 'Qatar'}, {'iso_3166_1': 'GB', 'name': 'United Kingdom'}, {'iso_3166_1': 'US', 'name': 'United States of America'}]\",\n",
       "       \"[{'iso_3166_1': 'GB', 'name': 'United Kingdom'}, {'iso_3166_1': 'NL', 'name': 'Netherlands'}]\",\n",
       "       \"[{'iso_3166_1': 'AR', 'name': 'Argentina'}, {'iso_3166_1': 'FR', 'name': 'France'}, {'iso_3166_1': 'GB', 'name': 'United Kingdom'}]\",\n",
       "       \"[{'iso_3166_1': 'DK', 'name': 'Denmark'}, {'iso_3166_1': 'FR', 'name': 'France'}, {'iso_3166_1': 'DE', 'name': 'Germany'}, {'iso_3166_1': 'NO', 'name': 'Norway'}, {'iso_3166_1': 'US', 'name': 'United States of America'}]\",\n",
       "       \"[{'iso_3166_1': 'TR', 'name': 'Turkey'}, {'iso_3166_1': 'US', 'name': 'United States of America'}]\",\n",
       "       \"[{'iso_3166_1': 'US', 'name': 'United States of America'}, {'iso_3166_1': 'NZ', 'name': 'New Zealand'}, {'iso_3166_1': 'CA', 'name': 'Canada'}, {'iso_3166_1': 'ZA', 'name': 'South Africa'}]\",\n",
       "       \"[{'iso_3166_1': 'GB', 'name': 'United Kingdom'}, {'iso_3166_1': 'US', 'name': 'United States of America'}, {'iso_3166_1': 'DE', 'name': 'Germany'}]\",\n",
       "       \"[{'iso_3166_1': 'US', 'name': 'United States of America'}, {'iso_3166_1': 'HK', 'name': 'Hong Kong'}, {'iso_3166_1': 'HR', 'name': 'Croatia'}]\",\n",
       "       \"[{'iso_3166_1': 'AU', 'name': 'Australia'}, {'iso_3166_1': 'HK', 'name': 'Hong Kong'}, {'iso_3166_1': 'RU', 'name': 'Russia'}, {'iso_3166_1': 'US', 'name': 'United States of America'}]\",\n",
       "       \"[{'iso_3166_1': 'CL', 'name': 'Chile'}, {'iso_3166_1': 'US', 'name': 'United States of America'}]\",\n",
       "       \"[{'iso_3166_1': 'US', 'name': 'United States of America'}, {'iso_3166_1': 'CL', 'name': 'Chile'}]\",\n",
       "       \"[{'iso_3166_1': 'GB', 'name': 'United Kingdom'}, {'iso_3166_1': 'FR', 'name': 'France'}, {'iso_3166_1': 'US', 'name': 'United States of America'}, {'iso_3166_1': 'RO', 'name': 'Romania'}]\",\n",
       "       \"[{'iso_3166_1': 'ES', 'name': 'Spain'}, {'iso_3166_1': 'AR', 'name': 'Argentina'}]\",\n",
       "       \"[{'iso_3166_1': 'NL', 'name': 'Netherlands'}, {'iso_3166_1': 'US', 'name': 'United States of America'}]\",\n",
       "       \"[{'iso_3166_1': 'TW', 'name': 'Taiwan'}, {'iso_3166_1': 'US', 'name': 'United States of America'}]\",\n",
       "       \"[{'iso_3166_1': 'RO', 'name': 'Romania'}]\",\n",
       "       \"[{'iso_3166_1': 'DE', 'name': 'Germany'}, {'iso_3166_1': 'RU', 'name': 'Russia'}, {'iso_3166_1': 'GB', 'name': 'United Kingdom'}, {'iso_3166_1': 'US', 'name': 'United States of America'}]\",\n",
       "       \"[{'iso_3166_1': 'GR', 'name': 'Greece'}, {'iso_3166_1': 'GB', 'name': 'United Kingdom'}]\",\n",
       "       \"[{'iso_3166_1': 'CZ', 'name': 'Czech Republic'}, {'iso_3166_1': 'GB', 'name': 'United Kingdom'}]\",\n",
       "       \"[{'iso_3166_1': 'GB', 'name': 'United Kingdom'}, {'iso_3166_1': 'US', 'name': 'United States of America'}, {'iso_3166_1': 'DE', 'name': 'Germany'}, {'iso_3166_1': 'SE', 'name': 'Sweden'}, {'iso_3166_1': 'BE', 'name': 'Belgium'}]\",\n",
       "       \"[{'iso_3166_1': 'SG', 'name': 'Singapore'}]\",\n",
       "       \"[{'iso_3166_1': 'DE', 'name': 'Germany'}, {'iso_3166_1': 'FR', 'name': 'France'}]\",\n",
       "       \"[{'iso_3166_1': 'DK', 'name': 'Denmark'}, {'iso_3166_1': 'FR', 'name': 'France'}, {'iso_3166_1': 'PL', 'name': 'Poland'}, {'iso_3166_1': 'GB', 'name': 'United Kingdom'}]\",\n",
       "       \"[{'iso_3166_1': 'DE', 'name': 'Germany'}, {'iso_3166_1': 'JP', 'name': 'Japan'}, {'iso_3166_1': 'US', 'name': 'United States of America'}]\",\n",
       "       \"[{'iso_3166_1': 'HU', 'name': 'Hungary'}]\",\n",
       "       \"[{'iso_3166_1': 'GB', 'name': 'United Kingdom'}, {'iso_3166_1': 'IT', 'name': 'Italy'}, {'iso_3166_1': 'FR', 'name': 'France'}, {'iso_3166_1': 'CH', 'name': 'Switzerland'}]\",\n",
       "       \"[{'iso_3166_1': 'DE', 'name': 'Germany'}, {'iso_3166_1': 'SE', 'name': 'Sweden'}, {'iso_3166_1': 'DK', 'name': 'Denmark'}]\",\n",
       "       \"[{'iso_3166_1': 'GR', 'name': 'Greece'}, {'iso_3166_1': 'CY', 'name': 'Cyprus'}, {'iso_3166_1': 'FR', 'name': 'France'}]\",\n",
       "       \"[{'iso_3166_1': 'UY', 'name': 'Uruguay'}, {'iso_3166_1': 'US', 'name': 'United States of America'}, {'iso_3166_1': 'DE', 'name': 'Germany'}, {'iso_3166_1': 'PY', 'name': 'Paraguay'}]\",\n",
       "       \"[{'iso_3166_1': 'FR', 'name': 'France'}, {'iso_3166_1': 'RU', 'name': 'Russia'}]\",\n",
       "       \"[{'iso_3166_1': 'FR', 'name': 'France'}, {'iso_3166_1': 'US', 'name': 'United States of America'}, {'iso_3166_1': 'ES', 'name': 'Spain'}]\",\n",
       "       \"[{'iso_3166_1': 'IT', 'name': 'Italy'}, {'iso_3166_1': 'MA', 'name': 'Morocco'}, {'iso_3166_1': 'GB', 'name': 'United Kingdom'}]\",\n",
       "       \"[{'iso_3166_1': 'FR', 'name': 'France'}, {'iso_3166_1': 'JP', 'name': 'Japan'}, {'iso_3166_1': 'GB', 'name': 'United Kingdom'}, {'iso_3166_1': 'US', 'name': 'United States of America'}]\",\n",
       "       \"[{'iso_3166_1': 'IN', 'name': 'India'}, {'iso_3166_1': 'CH', 'name': 'Switzerland'}]\",\n",
       "       \"[{'iso_3166_1': 'US', 'name': 'United States of America'}, {'iso_3166_1': 'ZA', 'name': 'South Africa'}]\",\n",
       "       \"[{'iso_3166_1': 'CA', 'name': 'Canada'}, {'iso_3166_1': 'RU', 'name': 'Russia'}, {'iso_3166_1': 'US', 'name': 'United States of America'}]\",\n",
       "       \"[{'iso_3166_1': 'FI', 'name': 'Finland'}, {'iso_3166_1': 'SE', 'name': 'Sweden'}]\",\n",
       "       \"[{'iso_3166_1': 'FR', 'name': 'France'}, {'iso_3166_1': 'IS', 'name': 'Iceland'}, {'iso_3166_1': 'GB', 'name': 'United Kingdom'}, {'iso_3166_1': 'US', 'name': 'United States of America'}]\",\n",
       "       \"[{'iso_3166_1': 'GB', 'name': 'United Kingdom'}, {'iso_3166_1': 'US', 'name': 'United States of America'}, {'iso_3166_1': 'CH', 'name': 'Switzerland'}]\",\n",
       "       \"[{'iso_3166_1': 'BE', 'name': 'Belgium'}, {'iso_3166_1': 'DE', 'name': 'Germany'}, {'iso_3166_1': 'GB', 'name': 'United Kingdom'}, {'iso_3166_1': 'US', 'name': 'United States of America'}]\",\n",
       "       \"[{'iso_3166_1': 'ES', 'name': 'Spain'}, {'iso_3166_1': 'FR', 'name': 'France'}]\",\n",
       "       \"[{'iso_3166_1': 'MR', 'name': 'Mauritania'}, {'iso_3166_1': 'FR', 'name': 'France'}]\",\n",
       "       \"[{'iso_3166_1': 'IL', 'name': 'Israel'}, {'iso_3166_1': 'US', 'name': 'United States of America'}]\",\n",
       "       \"[{'iso_3166_1': 'FI', 'name': 'Finland'}, {'iso_3166_1': 'DE', 'name': 'Germany'}, {'iso_3166_1': 'GB', 'name': 'United Kingdom'}]\",\n",
       "       \"[{'iso_3166_1': 'RO', 'name': 'Romania'}, {'iso_3166_1': 'BG', 'name': 'Bulgaria'}, {'iso_3166_1': 'CZ', 'name': 'Czech Republic'}, {'iso_3166_1': 'FR', 'name': 'France'}]\",\n",
       "       \"[{'iso_3166_1': 'MT', 'name': 'Malta'}, {'iso_3166_1': 'MA', 'name': 'Morocco'}, {'iso_3166_1': 'US', 'name': 'United States of America'}]\",\n",
       "       \"[{'iso_3166_1': 'BE', 'name': 'Belgium'}, {'iso_3166_1': 'FR', 'name': 'France'}, {'iso_3166_1': 'GB', 'name': 'United Kingdom'}]\",\n",
       "       \"[{'iso_3166_1': 'NZ', 'name': 'New Zealand'}, {'iso_3166_1': 'US', 'name': 'United States of America'}, {'iso_3166_1': 'DE', 'name': 'Germany'}]\",\n",
       "       \"[{'iso_3166_1': 'DE', 'name': 'Germany'}, {'iso_3166_1': 'US', 'name': 'United States of America'}, {'iso_3166_1': 'FR', 'name': 'France'}, {'iso_3166_1': 'CA', 'name': 'Canada'}]\",\n",
       "       \"[{'iso_3166_1': 'DE', 'name': 'Germany'}, {'iso_3166_1': 'GB', 'name': 'United Kingdom'}, {'iso_3166_1': 'JP', 'name': 'Japan'}, {'iso_3166_1': 'US', 'name': 'United States of America'}]\",\n",
       "       \"[{'iso_3166_1': 'ES', 'name': 'Spain'}, {'iso_3166_1': 'US', 'name': 'United States of America'}, {'iso_3166_1': 'GB', 'name': 'United Kingdom'}, {'iso_3166_1': 'FR', 'name': 'France'}, {'iso_3166_1': 'DE', 'name': 'Germany'}]\",\n",
       "       \"[{'iso_3166_1': 'BE', 'name': 'Belgium'}, {'iso_3166_1': 'US', 'name': 'United States of America'}]\",\n",
       "       \"[{'iso_3166_1': 'DK', 'name': 'Denmark'}, {'iso_3166_1': 'GB', 'name': 'United Kingdom'}]\",\n",
       "       \"[{'iso_3166_1': 'FR', 'name': 'France'}, {'iso_3166_1': 'DE', 'name': 'Germany'}, {'iso_3166_1': 'US', 'name': 'United States of America'}]\",\n",
       "       \"[{'iso_3166_1': 'GB', 'name': 'United Kingdom'}, {'iso_3166_1': 'IT', 'name': 'Italy'}, {'iso_3166_1': 'FR', 'name': 'France'}, {'iso_3166_1': 'TN', 'name': 'Tunisia'}]\",\n",
       "       \"[{'iso_3166_1': 'CA', 'name': 'Canada'}, {'iso_3166_1': 'DE', 'name': 'Germany'}]\",\n",
       "       \"[{'iso_3166_1': 'IN', 'name': 'India'}, {'iso_3166_1': 'GB', 'name': 'United Kingdom'}]\",\n",
       "       \"[{'iso_3166_1': 'US', 'name': 'United States of America'}, {'iso_3166_1': 'PH', 'name': 'Philippines'}]\",\n",
       "       \"[{'iso_3166_1': 'NZ', 'name': 'New Zealand'}, {'iso_3166_1': 'KR', 'name': 'South Korea'}]\",\n",
       "       \"[{'iso_3166_1': 'CZ', 'name': 'Czech Republic'}, {'iso_3166_1': 'US', 'name': 'United States of America'}]\",\n",
       "       \"[{'iso_3166_1': 'FR', 'name': 'France'}, {'iso_3166_1': 'GB', 'name': 'United Kingdom'}, {'iso_3166_1': 'US', 'name': 'United States of America'}, {'iso_3166_1': 'ZA', 'name': 'South Africa'}]\",\n",
       "       \"[{'iso_3166_1': 'UA', 'name': 'Ukraine'}, {'iso_3166_1': 'RU', 'name': 'Russia'}]\",\n",
       "       \"[{'iso_3166_1': 'IN', 'name': 'India'}, {'iso_3166_1': 'DE', 'name': 'Germany'}, {'iso_3166_1': 'GB', 'name': 'United Kingdom'}, {'iso_3166_1': 'US', 'name': 'United States of America'}]\",\n",
       "       \"[{'iso_3166_1': 'CA', 'name': 'Canada'}, {'iso_3166_1': 'ES', 'name': 'Spain'}]\",\n",
       "       \"[{'iso_3166_1': 'FR', 'name': 'France'}, {'iso_3166_1': 'GR', 'name': 'Greece'}, {'iso_3166_1': 'IE', 'name': 'Ireland'}, {'iso_3166_1': 'NL', 'name': 'Netherlands'}, {'iso_3166_1': 'GB', 'name': 'United Kingdom'}]\",\n",
       "       \"[{'iso_3166_1': 'IR', 'name': 'Iran'}, {'iso_3166_1': 'FR', 'name': 'France'}]\",\n",
       "       \"[{'iso_3166_1': 'FR', 'name': 'France'}, {'iso_3166_1': 'CR', 'name': 'Costa Rica'}, {'iso_3166_1': 'ES', 'name': 'Spain'}, {'iso_3166_1': 'GB', 'name': 'United Kingdom'}, {'iso_3166_1': 'US', 'name': 'United States of America'}]\",\n",
       "       \"[{'iso_3166_1': 'US', 'name': 'United States of America'}, {'iso_3166_1': 'GB', 'name': 'United Kingdom'}, {'iso_3166_1': 'FR', 'name': 'France'}, {'iso_3166_1': 'JP', 'name': 'Japan'}]\",\n",
       "       \"[{'iso_3166_1': 'BS', 'name': 'Bahamas'}, {'iso_3166_1': 'US', 'name': 'United States of America'}]\",\n",
       "       \"[{'iso_3166_1': 'MX', 'name': 'Mexico'}, {'iso_3166_1': 'US', 'name': 'United States of America'}, {'iso_3166_1': 'CA', 'name': 'Canada'}]\",\n",
       "       \"[{'iso_3166_1': 'BF', 'name': 'Burkina Faso'}, {'iso_3166_1': 'DE', 'name': 'Germany'}, {'iso_3166_1': 'GH', 'name': 'Ghana'}, {'iso_3166_1': 'GB', 'name': 'United Kingdom'}, {'iso_3166_1': 'US', 'name': 'United States of America'}]\",\n",
       "       \"[{'iso_3166_1': 'IE', 'name': 'Ireland'}, {'iso_3166_1': 'LU', 'name': 'Luxembourg'}, {'iso_3166_1': 'RU', 'name': 'Russia'}, {'iso_3166_1': 'GB', 'name': 'United Kingdom'}, {'iso_3166_1': 'US', 'name': 'United States of America'}]\",\n",
       "       \"[{'iso_3166_1': 'BG', 'name': 'Bulgaria'}, {'iso_3166_1': 'US', 'name': 'United States of America'}, {'iso_3166_1': 'GB', 'name': 'United Kingdom'}]\",\n",
       "       \"[{'iso_3166_1': 'CN', 'name': 'China'}, {'iso_3166_1': 'FR', 'name': 'France'}, {'iso_3166_1': 'HK', 'name': 'Hong Kong'}]\",\n",
       "       \"[{'iso_3166_1': 'CH', 'name': 'Switzerland'}, {'iso_3166_1': 'FR', 'name': 'France'}]\",\n",
       "       \"[{'iso_3166_1': 'BE', 'name': 'Belgium'}, {'iso_3166_1': 'FR', 'name': 'France'}, {'iso_3166_1': 'DE', 'name': 'Germany'}, {'iso_3166_1': 'IL', 'name': 'Israel'}, {'iso_3166_1': 'LU', 'name': 'Luxembourg'}, {'iso_3166_1': 'PL', 'name': 'Poland'}]\",\n",
       "       \"[{'iso_3166_1': 'US', 'name': 'United States of America'}, {'iso_3166_1': 'DE', 'name': 'Germany'}, {'iso_3166_1': 'FR', 'name': 'France'}, {'iso_3166_1': 'GB', 'name': 'United Kingdom'}]\",\n",
       "       \"[{'iso_3166_1': 'US', 'name': 'United States of America'}, {'iso_3166_1': 'GB', 'name': 'United Kingdom'}, {'iso_3166_1': 'RO', 'name': 'Romania'}, {'iso_3166_1': 'IT', 'name': 'Italy'}]\",\n",
       "       \"[{'iso_3166_1': 'CN', 'name': 'China'}, {'iso_3166_1': 'US', 'name': 'United States of America'}, {'iso_3166_1': 'KR', 'name': 'South Korea'}, {'iso_3166_1': 'HK', 'name': 'Hong Kong'}]\",\n",
       "       \"[{'iso_3166_1': 'CA', 'name': 'Canada'}, {'iso_3166_1': 'FR', 'name': 'France'}, {'iso_3166_1': 'US', 'name': 'United States of America'}]\",\n",
       "       \"[{'iso_3166_1': 'US', 'name': 'United States of America'}, {'iso_3166_1': 'AR', 'name': 'Argentina'}, {'iso_3166_1': 'CL', 'name': 'Chile'}, {'iso_3166_1': 'FR', 'name': 'France'}, {'iso_3166_1': 'ES', 'name': 'Spain'}]\",\n",
       "       \"[{'iso_3166_1': 'BS', 'name': 'Bahamas'}, {'iso_3166_1': 'FR', 'name': 'France'}, {'iso_3166_1': 'GB', 'name': 'United Kingdom'}, {'iso_3166_1': 'US', 'name': 'United States of America'}]\",\n",
       "       \"[{'iso_3166_1': 'GB', 'name': 'United Kingdom'}, {'iso_3166_1': 'JP', 'name': 'Japan'}]\",\n",
       "       \"[{'iso_3166_1': 'US', 'name': 'United States of America'}, {'iso_3166_1': 'HU', 'name': 'Hungary'}]\",\n",
       "       \"[{'iso_3166_1': 'CN', 'name': 'China'}, {'iso_3166_1': 'DE', 'name': 'Germany'}, {'iso_3166_1': 'GB', 'name': 'United Kingdom'}, {'iso_3166_1': 'US', 'name': 'United States of America'}]\",\n",
       "       \"[{'iso_3166_1': 'AU', 'name': 'Australia'}, {'iso_3166_1': 'DE', 'name': 'Germany'}, {'iso_3166_1': 'US', 'name': 'United States of America'}]\",\n",
       "       \"[{'iso_3166_1': 'FR', 'name': 'France'}, {'iso_3166_1': 'DE', 'name': 'Germany'}, {'iso_3166_1': 'GB', 'name': 'United Kingdom'}]\",\n",
       "       \"[{'iso_3166_1': 'DE', 'name': 'Germany'}, {'iso_3166_1': 'FR', 'name': 'France'}, {'iso_3166_1': 'CH', 'name': 'Switzerland'}]\",\n",
       "       \"[{'iso_3166_1': 'BE', 'name': 'Belgium'}, {'iso_3166_1': 'FR', 'name': 'France'}, {'iso_3166_1': 'DE', 'name': 'Germany'}, {'iso_3166_1': 'IT', 'name': 'Italy'}, {'iso_3166_1': 'ES', 'name': 'Spain'}]\",\n",
       "       \"[{'iso_3166_1': 'IT', 'name': 'Italy'}, {'iso_3166_1': 'RU', 'name': 'Russia'}]\",\n",
       "       \"[{'iso_3166_1': 'CN', 'name': 'China'}, {'iso_3166_1': 'DE', 'name': 'Germany'}, {'iso_3166_1': 'GB', 'name': 'United Kingdom'}]\",\n",
       "       \"[{'iso_3166_1': 'US', 'name': 'United States of America'}, {'iso_3166_1': 'NL', 'name': 'Netherlands'}]\",\n",
       "       \"[{'iso_3166_1': 'BR', 'name': 'Brazil'}, {'iso_3166_1': 'GB', 'name': 'United Kingdom'}]\",\n",
       "       \"[{'iso_3166_1': 'CL', 'name': 'Chile'}]\",\n",
       "       \"[{'iso_3166_1': 'BE', 'name': 'Belgium'}, {'iso_3166_1': 'RO', 'name': 'Romania'}]\",\n",
       "       \"[{'iso_3166_1': 'DE', 'name': 'Germany'}, {'iso_3166_1': 'HK', 'name': 'Hong Kong'}, {'iso_3166_1': 'SG', 'name': 'Singapore'}, {'iso_3166_1': 'US', 'name': 'United States of America'}]\",\n",
       "       \"[{'iso_3166_1': 'CZ', 'name': 'Czech Republic'}, {'iso_3166_1': 'US', 'name': 'United States of America'}, {'iso_3166_1': 'AE', 'name': 'United Arab Emirates'}]\",\n",
       "       \"[{'iso_3166_1': 'SE', 'name': 'Sweden'}, {'iso_3166_1': 'FR', 'name': 'France'}, {'iso_3166_1': 'GB', 'name': 'United Kingdom'}]\",\n",
       "       \"[{'iso_3166_1': 'IT', 'name': 'Italy'}, {'iso_3166_1': 'FR', 'name': 'France'}]\",\n",
       "       \"[{'iso_3166_1': 'ID', 'name': 'Indonesia'}]\",\n",
       "       \"[{'iso_3166_1': 'DE', 'name': 'Germany'}, {'iso_3166_1': 'NL', 'name': 'Netherlands'}, {'iso_3166_1': 'US', 'name': 'United States of America'}]\",\n",
       "       \"[{'iso_3166_1': 'LU', 'name': 'Luxembourg'}, {'iso_3166_1': 'IT', 'name': 'Italy'}, {'iso_3166_1': 'FR', 'name': 'France'}, {'iso_3166_1': 'GB', 'name': 'United Kingdom'}]\",\n",
       "       \"[{'iso_3166_1': 'US', 'name': 'United States of America'}, {'iso_3166_1': 'DE', 'name': 'Germany'}, {'iso_3166_1': 'BE', 'name': 'Belgium'}]\",\n",
       "       \"[{'iso_3166_1': 'NZ', 'name': 'New Zealand'}, {'iso_3166_1': 'AU', 'name': 'Australia'}, {'iso_3166_1': 'FR', 'name': 'France'}]\",\n",
       "       \"[{'iso_3166_1': 'DE', 'name': 'Germany'}, {'iso_3166_1': 'US', 'name': 'United States of America'}, {'iso_3166_1': 'GB', 'name': 'United Kingdom'}]\",\n",
       "       \"[{'iso_3166_1': 'GB', 'name': 'United Kingdom'}, {'iso_3166_1': 'US', 'name': 'United States of America'}, {'iso_3166_1': 'DE', 'name': 'Germany'}, {'iso_3166_1': 'LU', 'name': 'Luxembourg'}]\",\n",
       "       \"[{'iso_3166_1': 'GB', 'name': 'United Kingdom'}, {'iso_3166_1': 'US', 'name': 'United States of America'}, {'iso_3166_1': 'CZ', 'name': 'Czech Republic'}, {'iso_3166_1': 'RO', 'name': 'Romania'}]\",\n",
       "       \"[{'iso_3166_1': 'US', 'name': 'United States of America'}, {'iso_3166_1': 'BS', 'name': 'Bahamas'}]\",\n",
       "       \"[{'iso_3166_1': 'SE', 'name': 'Sweden'}, {'iso_3166_1': 'DE', 'name': 'Germany'}, {'iso_3166_1': 'CA', 'name': 'Canada'}, {'iso_3166_1': 'NO', 'name': 'Norway'}, {'iso_3166_1': 'FR', 'name': 'France'}]\",\n",
       "       \"[{'iso_3166_1': 'HU', 'name': 'Hungary'}, {'iso_3166_1': 'SE', 'name': 'Sweden'}, {'iso_3166_1': 'DE', 'name': 'Germany'}]\",\n",
       "       \"[{'iso_3166_1': 'FR', 'name': 'France'}, {'iso_3166_1': 'IL', 'name': 'Israel'}, {'iso_3166_1': 'IT', 'name': 'Italy'}, {'iso_3166_1': 'IN', 'name': 'India'}]\",\n",
       "       \"[{'iso_3166_1': 'FR', 'name': 'France'}, {'iso_3166_1': 'IT', 'name': 'Italy'}, {'iso_3166_1': 'GB', 'name': 'United Kingdom'}, {'iso_3166_1': 'US', 'name': 'United States of America'}]\",\n",
       "       \"[{'iso_3166_1': 'GB', 'name': 'United Kingdom'}, {'iso_3166_1': 'ZA', 'name': 'South Africa'}, {'iso_3166_1': 'DE', 'name': 'Germany'}, {'iso_3166_1': 'CA', 'name': 'Canada'}]\",\n",
       "       \"[{'iso_3166_1': 'DE', 'name': 'Germany'}, {'iso_3166_1': 'AT', 'name': 'Austria'}]\",\n",
       "       \"[{'iso_3166_1': 'PL', 'name': 'Poland'}]\",\n",
       "       \"[{'iso_3166_1': 'IN', 'name': 'India'}, {'iso_3166_1': 'US', 'name': 'United States of America'}, {'iso_3166_1': 'DE', 'name': 'Germany'}]\",\n",
       "       \"[{'iso_3166_1': 'US', 'name': 'United States of America'}, {'iso_3166_1': 'CA', 'name': 'Canada'}, {'iso_3166_1': 'ID', 'name': 'Indonesia'}]\",\n",
       "       \"[{'iso_3166_1': 'FR', 'name': 'France'}, {'iso_3166_1': 'GB', 'name': 'United Kingdom'}, {'iso_3166_1': 'PK', 'name': 'Pakistan'}, {'iso_3166_1': 'US', 'name': 'United States of America'}]\",\n",
       "       \"[{'iso_3166_1': 'FR', 'name': 'France'}, {'iso_3166_1': 'IR', 'name': 'Iran'}]\",\n",
       "       \"[{'iso_3166_1': 'CA', 'name': 'Canada'}, {'iso_3166_1': 'IT', 'name': 'Italy'}, {'iso_3166_1': 'US', 'name': 'United States of America'}]\",\n",
       "       \"[{'iso_3166_1': 'DK', 'name': 'Denmark'}, {'iso_3166_1': 'SE', 'name': 'Sweden'}]\"],\n",
       "      dtype=object)"
      ]
     },
     "execution_count": 61,
     "metadata": {},
     "output_type": "execute_result"
    }
   ],
   "source": [
    "train.production_countries.unique()"
   ]
  },
  {
   "cell_type": "code",
   "execution_count": 62,
   "id": "d4c35527",
   "metadata": {},
   "outputs": [],
   "source": [
    "def slice_prod_count(s):\n",
    "    if (s == 'unknown'):\n",
    "        return s\n",
    "    else:\n",
    "        start = s.find(\"[{\\'iso_3166_1\\': \\'\") + len(\"[{\\'iso_3166_1\\': \\'\")\n",
    "        end = s.find(\"',\")\n",
    "        return s[start:end]"
   ]
  },
  {
   "cell_type": "code",
   "execution_count": 63,
   "id": "d19bdae2",
   "metadata": {},
   "outputs": [],
   "source": [
    "train['production_countries'] = train['production_countries'].map(lambda s: slice_prod_count(s))"
   ]
  },
  {
   "cell_type": "code",
   "execution_count": 64,
   "id": "60136329",
   "metadata": {},
   "outputs": [
    {
     "data": {
      "text/html": [
       "<div>\n",
       "<style scoped>\n",
       "    .dataframe tbody tr th:only-of-type {\n",
       "        vertical-align: middle;\n",
       "    }\n",
       "\n",
       "    .dataframe tbody tr th {\n",
       "        vertical-align: top;\n",
       "    }\n",
       "\n",
       "    .dataframe thead th {\n",
       "        text-align: right;\n",
       "    }\n",
       "</style>\n",
       "<table border=\"1\" class=\"dataframe\">\n",
       "  <thead>\n",
       "    <tr style=\"text-align: right;\">\n",
       "      <th></th>\n",
       "      <th>title</th>\n",
       "      <th>production_countries</th>\n",
       "    </tr>\n",
       "  </thead>\n",
       "  <tbody>\n",
       "    <tr>\n",
       "      <th>0</th>\n",
       "      <td>Hot Tub Time Machine 2</td>\n",
       "      <td>US</td>\n",
       "    </tr>\n",
       "    <tr>\n",
       "      <th>1</th>\n",
       "      <td>The Princess Diaries 2: Royal Engagement</td>\n",
       "      <td>US</td>\n",
       "    </tr>\n",
       "    <tr>\n",
       "      <th>2</th>\n",
       "      <td>Whiplash</td>\n",
       "      <td>US</td>\n",
       "    </tr>\n",
       "    <tr>\n",
       "      <th>3</th>\n",
       "      <td>Kahaani</td>\n",
       "      <td>IN</td>\n",
       "    </tr>\n",
       "    <tr>\n",
       "      <th>4</th>\n",
       "      <td>Marine Boy</td>\n",
       "      <td>KR</td>\n",
       "    </tr>\n",
       "  </tbody>\n",
       "</table>\n",
       "</div>"
      ],
      "text/plain": [
       "                                      title production_countries\n",
       "0                    Hot Tub Time Machine 2                   US\n",
       "1  The Princess Diaries 2: Royal Engagement                   US\n",
       "2                                  Whiplash                   US\n",
       "3                                   Kahaani                   IN\n",
       "4                                Marine Boy                   KR"
      ]
     },
     "execution_count": 64,
     "metadata": {},
     "output_type": "execute_result"
    }
   ],
   "source": [
    "train[['title','production_countries']].head()"
   ]
  },
  {
   "cell_type": "code",
   "execution_count": 65,
   "id": "51f2a578",
   "metadata": {},
   "outputs": [
    {
     "name": "stdout",
     "output_type": "stream",
     "text": [
      "Unique production countries: 61\n"
     ]
    }
   ],
   "source": [
    "print(\"Unique production countries: \" + str(len(train.production_countries.unique())))"
   ]
  },
  {
   "cell_type": "code",
   "execution_count": 66,
   "id": "bdce95cc",
   "metadata": {},
   "outputs": [],
   "source": [
    "train['production_countries'] = train['production_countries'].astype('category')\n",
    "train['production_countries'] = train['production_countries'].cat.codes"
   ]
  },
  {
   "cell_type": "code",
   "execution_count": 67,
   "id": "316cda4f",
   "metadata": {},
   "outputs": [
    {
     "data": {
      "text/html": [
       "<div>\n",
       "<style scoped>\n",
       "    .dataframe tbody tr th:only-of-type {\n",
       "        vertical-align: middle;\n",
       "    }\n",
       "\n",
       "    .dataframe tbody tr th {\n",
       "        vertical-align: top;\n",
       "    }\n",
       "\n",
       "    .dataframe thead th {\n",
       "        text-align: right;\n",
       "    }\n",
       "</style>\n",
       "<table border=\"1\" class=\"dataframe\">\n",
       "  <thead>\n",
       "    <tr style=\"text-align: right;\">\n",
       "      <th></th>\n",
       "      <th>title</th>\n",
       "      <th>production_countries</th>\n",
       "    </tr>\n",
       "  </thead>\n",
       "  <tbody>\n",
       "    <tr>\n",
       "      <th>0</th>\n",
       "      <td>Hot Tub Time Machine 2</td>\n",
       "      <td>57</td>\n",
       "    </tr>\n",
       "    <tr>\n",
       "      <th>1</th>\n",
       "      <td>The Princess Diaries 2: Royal Engagement</td>\n",
       "      <td>57</td>\n",
       "    </tr>\n",
       "    <tr>\n",
       "      <th>2</th>\n",
       "      <td>Whiplash</td>\n",
       "      <td>57</td>\n",
       "    </tr>\n",
       "    <tr>\n",
       "      <th>3</th>\n",
       "      <td>Kahaani</td>\n",
       "      <td>28</td>\n",
       "    </tr>\n",
       "    <tr>\n",
       "      <th>4</th>\n",
       "      <td>Marine Boy</td>\n",
       "      <td>34</td>\n",
       "    </tr>\n",
       "  </tbody>\n",
       "</table>\n",
       "</div>"
      ],
      "text/plain": [
       "                                      title  production_countries\n",
       "0                    Hot Tub Time Machine 2                    57\n",
       "1  The Princess Diaries 2: Royal Engagement                    57\n",
       "2                                  Whiplash                    57\n",
       "3                                   Kahaani                    28\n",
       "4                                Marine Boy                    34"
      ]
     },
     "execution_count": 67,
     "metadata": {},
     "output_type": "execute_result"
    }
   ],
   "source": [
    "train[['title','production_countries']].head()"
   ]
  },
  {
   "cell_type": "markdown",
   "id": "0c11578e",
   "metadata": {},
   "source": [
    "Donzo. Let's move on to spoken languages."
   ]
  },
  {
   "cell_type": "markdown",
   "id": "569b1dfa",
   "metadata": {},
   "source": [
    "### Spoken Languages"
   ]
  },
  {
   "cell_type": "code",
   "execution_count": 68,
   "id": "cc5bcaca",
   "metadata": {},
   "outputs": [
    {
     "data": {
      "text/plain": [
       "402"
      ]
     },
     "execution_count": 68,
     "metadata": {},
     "output_type": "execute_result"
    }
   ],
   "source": [
    "len(train.spoken_languages.unique())"
   ]
  },
  {
   "cell_type": "code",
   "execution_count": 69,
   "id": "97c7bf13",
   "metadata": {
    "scrolled": true
   },
   "outputs": [
    {
     "data": {
      "text/plain": [
       "array([\"[{'iso_639_1': 'en', 'name': 'English'}]\",\n",
       "       \"[{'iso_639_1': 'en', 'name': 'English'}, {'iso_639_1': 'hi', 'name': 'हिन्दी'}]\",\n",
       "       \"[{'iso_639_1': 'ko', 'name': '한국어/조선말'}]\",\n",
       "       \"[{'iso_639_1': 'ar', 'name': 'العربية'}, {'iso_639_1': 'en', 'name': 'English'}]\",\n",
       "       \"[{'iso_639_1': 'en', 'name': 'English'}, {'iso_639_1': 'ru', 'name': 'Pусский'}]\",\n",
       "       \"[{'iso_639_1': 'en', 'name': 'English'}, {'iso_639_1': 'sv', 'name': 'svenska'}]\",\n",
       "       \"[{'iso_639_1': 'sr', 'name': 'Srpski'}]\",\n",
       "       \"[{'iso_639_1': 'de', 'name': 'Deutsch'}, {'iso_639_1': 'en', 'name': 'English'}]\",\n",
       "       \"[{'iso_639_1': 'en', 'name': 'English'}, {'iso_639_1': 'fr', 'name': 'Français'}, {'iso_639_1': 'it', 'name': 'Italiano'}]\",\n",
       "       \"[{'iso_639_1': 'en', 'name': 'English'}, {'iso_639_1': 'ja', 'name': '日本語'}]\",\n",
       "       \"[{'iso_639_1': 'en', 'name': 'English'}, {'iso_639_1': 'fr', 'name': 'Français'}]\",\n",
       "       \"[{'iso_639_1': 'fr', 'name': 'Français'}]\",\n",
       "       \"[{'iso_639_1': 'ar', 'name': 'العربية'}, {'iso_639_1': 'en', 'name': 'English'}, {'iso_639_1': 'fr', 'name': 'Français'}, {'iso_639_1': 'de', 'name': 'Deutsch'}, {'iso_639_1': 'he', 'name': 'עִבְרִית'}, {'iso_639_1': 'ja', 'name': '日本語'}, {'iso_639_1': 'pt', 'name': 'Português'}]\",\n",
       "       \"[{'iso_639_1': 'la', 'name': 'Latin'}, {'iso_639_1': 'en', 'name': 'English'}, {'iso_639_1': 'fr', 'name': 'Français'}, {'iso_639_1': 'ja', 'name': '日本語'}, {'iso_639_1': 'zh', 'name': '普通话'}]\",\n",
       "       \"[{'iso_639_1': 'en', 'name': 'English'}, {'iso_639_1': 'zh', 'name': '普通话'}, {'iso_639_1': 'ru', 'name': 'Pусский'}]\",\n",
       "       \"[{'iso_639_1': 'en', 'name': 'English'}, {'iso_639_1': 'ko', 'name': '한국어/조선말'}, {'iso_639_1': 'fr', 'name': 'Français'}]\",\n",
       "       \"[{'iso_639_1': 'en', 'name': 'English'}, {'iso_639_1': 'ja', 'name': '日本語'}, {'iso_639_1': 'es', 'name': 'Español'}]\",\n",
       "       \"[{'iso_639_1': 'en', 'name': 'English'}, {'iso_639_1': 'fr', 'name': 'Français'}, {'iso_639_1': 'es', 'name': 'Español'}]\",\n",
       "       \"[{'iso_639_1': 'fr', 'name': 'Français'}, {'iso_639_1': 'en', 'name': 'English'}]\",\n",
       "       \"[{'iso_639_1': 'it', 'name': 'Italiano'}, {'iso_639_1': 'es', 'name': 'Español'}]\",\n",
       "       \"[{'iso_639_1': 'es', 'name': 'Español'}, {'iso_639_1': 'en', 'name': 'English'}]\",\n",
       "       \"[{'iso_639_1': 'nl', 'name': 'Nederlands'}]\",\n",
       "       \"[{'iso_639_1': 'en', 'name': 'English'}, {'iso_639_1': 'it', 'name': 'Italiano'}]\",\n",
       "       \"[{'iso_639_1': 'en', 'name': 'English'}, {'iso_639_1': 'es', 'name': 'Español'}]\",\n",
       "       \"[{'iso_639_1': 'cn', 'name': '广州话 / 廣州話'}, {'iso_639_1': 'zh', 'name': '普通话'}]\",\n",
       "       \"[{'iso_639_1': 'qu', 'name': ''}, {'iso_639_1': 'es', 'name': 'Español'}]\",\n",
       "       \"[{'iso_639_1': 'cs', 'name': 'Český'}]\",\n",
       "       \"[{'iso_639_1': 'en', 'name': 'English'}, {'iso_639_1': 'ta', 'name': 'தமிழ்'}, {'iso_639_1': 'te', 'name': 'తెలుగు'}]\",\n",
       "       \"[{'iso_639_1': 'de', 'name': 'Deutsch'}, {'iso_639_1': 'en', 'name': 'English'}, {'iso_639_1': 'es', 'name': 'Español'}]\",\n",
       "       \"[{'iso_639_1': 'en', 'name': 'English'}, {'iso_639_1': 'pl', 'name': 'Polski'}]\",\n",
       "       \"[{'iso_639_1': 'cn', 'name': '广州话 / 廣州話'}, {'iso_639_1': 'en', 'name': 'English'}]\",\n",
       "       \"[{'iso_639_1': 'en', 'name': 'English'}, {'iso_639_1': 'ja', 'name': '日本語'}, {'iso_639_1': 'fr', 'name': 'Français'}]\",\n",
       "       \"[{'iso_639_1': 'it', 'name': 'Italiano'}, {'iso_639_1': 'tr', 'name': 'Türkçe'}]\",\n",
       "       \"[{'iso_639_1': 'fr', 'name': 'Français'}, {'iso_639_1': 'it', 'name': 'Italiano'}]\",\n",
       "       \"[{'iso_639_1': 'ru', 'name': 'Pусский'}]\",\n",
       "       \"[{'iso_639_1': 'de', 'name': 'Deutsch'}, {'iso_639_1': 'ru', 'name': 'Pусский'}]\",\n",
       "       \"[{'iso_639_1': 'tr', 'name': 'Türkçe'}]\",\n",
       "       \"[{'iso_639_1': 'en', 'name': 'English'}, {'iso_639_1': 'fr', 'name': 'Français'}, {'iso_639_1': 'la', 'name': 'Latin'}, {'iso_639_1': 'gd', 'name': ''}]\",\n",
       "       \"[{'iso_639_1': 'en', 'name': 'English'}, {'iso_639_1': 'ja', 'name': '日本語'}, {'iso_639_1': 'zh', 'name': '普通话'}]\",\n",
       "       \"[{'iso_639_1': 'zh', 'name': '普通话'}, {'iso_639_1': 'cn', 'name': '广州话 / 廣州話'}, {'iso_639_1': 'en', 'name': 'English'}]\",\n",
       "       \"[{'iso_639_1': 'cn', 'name': '广州话 / 廣州話'}, {'iso_639_1': 'en', 'name': 'English'}, {'iso_639_1': 'zh', 'name': '普通话'}]\",\n",
       "       \"[{'iso_639_1': 'en', 'name': 'English'}, {'iso_639_1': 'zh', 'name': '普通话'}]\",\n",
       "       \"[{'iso_639_1': 'en', 'name': 'English'}, {'iso_639_1': 'fr', 'name': 'Français'}, {'iso_639_1': 'sv', 'name': 'svenska'}]\",\n",
       "       \"[{'iso_639_1': 'ja', 'name': '日本語'}, {'iso_639_1': 'zh', 'name': '普通话'}, {'iso_639_1': 'en', 'name': 'English'}]\",\n",
       "       \"[{'iso_639_1': 'en', 'name': 'English'}, {'iso_639_1': 'hu', 'name': 'Magyar'}, {'iso_639_1': 'it', 'name': 'Italiano'}]\",\n",
       "       \"[{'iso_639_1': 'en', 'name': 'English'}, {'iso_639_1': 'de', 'name': 'Deutsch'}, {'iso_639_1': 'it', 'name': 'Italiano'}]\",\n",
       "       \"[{'iso_639_1': 'en', 'name': 'English'}, {'iso_639_1': 'fr', 'name': 'Français'}, {'iso_639_1': 'ja', 'name': '日本語'}, {'iso_639_1': 'ko', 'name': '한국어/조선말'}]\",\n",
       "       'unknown',\n",
       "       \"[{'iso_639_1': 'fr', 'name': 'Français'}, {'iso_639_1': 'en', 'name': 'English'}, {'iso_639_1': 'la', 'name': 'Latin'}, {'iso_639_1': 'es', 'name': 'Español'}]\",\n",
       "       \"[{'iso_639_1': 'el', 'name': 'ελληνικά'}, {'iso_639_1': 'en', 'name': 'English'}, {'iso_639_1': 'ga', 'name': 'Gaeilge'}]\",\n",
       "       \"[{'iso_639_1': 'ja', 'name': '日本語'}]\",\n",
       "       \"[{'iso_639_1': 'en', 'name': 'English'}, {'iso_639_1': 'pt', 'name': 'Português'}, {'iso_639_1': 'ja', 'name': '日本語'}]\",\n",
       "       \"[{'iso_639_1': 'fa', 'name': 'فارسی'}]\",\n",
       "       \"[{'iso_639_1': 'hi', 'name': 'हिन्दी'}]\",\n",
       "       \"[{'iso_639_1': 'ja', 'name': '日本語'}, {'iso_639_1': 'th', 'name': 'ภาษาไทย'}]\",\n",
       "       \"[{'iso_639_1': 'en', 'name': 'English'}, {'iso_639_1': 'ru', 'name': 'Pусский'}, {'iso_639_1': 'pl', 'name': 'Polski'}]\",\n",
       "       \"[{'iso_639_1': 'sv', 'name': 'svenska'}]\",\n",
       "       \"[{'iso_639_1': 'en', 'name': 'English'}, {'iso_639_1': 'de', 'name': 'Deutsch'}, {'iso_639_1': 'ja', 'name': '日本語'}, {'iso_639_1': 'zh', 'name': '普通话'}]\",\n",
       "       \"[{'iso_639_1': 'en', 'name': 'English'}, {'iso_639_1': 'de', 'name': 'Deutsch'}, {'iso_639_1': 'es', 'name': 'Español'}]\",\n",
       "       \"[{'iso_639_1': 'de', 'name': 'Deutsch'}, {'iso_639_1': 'en', 'name': 'English'}, {'iso_639_1': 'fr', 'name': 'Français'}, {'iso_639_1': 'hi', 'name': 'हिन्दी'}, {'iso_639_1': 'tr', 'name': 'Türkçe'}, {'iso_639_1': 'cn', 'name': '广州话 / 廣州話'}]\",\n",
       "       \"[{'iso_639_1': 'en', 'name': 'English'}, {'iso_639_1': 'de', 'name': 'Deutsch'}, {'iso_639_1': 'pt', 'name': 'Português'}, {'iso_639_1': 'es', 'name': 'Español'}]\",\n",
       "       \"[{'iso_639_1': 'en', 'name': 'English'}, {'iso_639_1': 'es', 'name': 'Español'}, {'iso_639_1': 'th', 'name': 'ภาษาไทย'}]\",\n",
       "       \"[{'iso_639_1': 'ca', 'name': 'Català'}, {'iso_639_1': 'es', 'name': 'Español'}]\",\n",
       "       \"[{'iso_639_1': 'sv', 'name': 'svenska'}, {'iso_639_1': 'en', 'name': 'English'}]\",\n",
       "       \"[{'iso_639_1': 'hu', 'name': 'Magyar'}, {'iso_639_1': 'de', 'name': 'Deutsch'}, {'iso_639_1': 'ru', 'name': 'Pусский'}]\",\n",
       "       \"[{'iso_639_1': 'de', 'name': 'Deutsch'}, {'iso_639_1': 'en', 'name': 'English'}, {'iso_639_1': 'fr', 'name': 'Français'}, {'iso_639_1': 'ar', 'name': 'العربية'}]\",\n",
       "       \"[{'iso_639_1': 'en', 'name': 'English'}, {'iso_639_1': 'la', 'name': 'Latin'}]\",\n",
       "       \"[{'iso_639_1': 'tl', 'name': ''}]\",\n",
       "       \"[{'iso_639_1': 'da', 'name': 'Dansk'}, {'iso_639_1': 'en', 'name': 'English'}]\",\n",
       "       \"[{'iso_639_1': 'te', 'name': 'తెలుగు'}]\",\n",
       "       \"[{'iso_639_1': 'en', 'name': 'English'}, {'iso_639_1': 'de', 'name': 'Deutsch'}, {'iso_639_1': 'th', 'name': 'ภาษาไทย'}]\",\n",
       "       \"[{'iso_639_1': 'it', 'name': 'Italiano'}, {'iso_639_1': 'en', 'name': 'English'}, {'iso_639_1': 'ja', 'name': '日本語'}]\",\n",
       "       \"[{'iso_639_1': 'en', 'name': 'English'}, {'iso_639_1': 'pt', 'name': 'Português'}]\",\n",
       "       \"[{'iso_639_1': 'en', 'name': 'English'}, {'iso_639_1': 'ko', 'name': '한국어/조선말'}, {'iso_639_1': 'ru', 'name': 'Pусский'}]\",\n",
       "       \"[{'iso_639_1': 'en', 'name': 'English'}, {'iso_639_1': 'ga', 'name': 'Gaeilge'}, {'iso_639_1': 'la', 'name': 'Latin'}, {'iso_639_1': 'zh', 'name': '普通话'}]\",\n",
       "       \"[{'iso_639_1': 'zh', 'name': '普通话'}, {'iso_639_1': 'en', 'name': 'English'}]\",\n",
       "       \"[{'iso_639_1': 'en', 'name': 'English'}, {'iso_639_1': 'ja', 'name': '日本語'}, {'iso_639_1': 'ru', 'name': 'Pусский'}]\",\n",
       "       \"[{'iso_639_1': 'ta', 'name': 'தமிழ்'}]\",\n",
       "       \"[{'iso_639_1': 'hi', 'name': 'हिन्दी'}, {'iso_639_1': 'en', 'name': 'English'}]\",\n",
       "       \"[{'iso_639_1': 'en', 'name': 'English'}, {'iso_639_1': 'fr', 'name': 'Français'}, {'iso_639_1': 'hu', 'name': 'Magyar'}]\",\n",
       "       \"[{'iso_639_1': 'bn', 'name': 'বাংলা'}, {'iso_639_1': 'en', 'name': 'English'}]\",\n",
       "       \"[{'iso_639_1': 'en', 'name': 'English'}, {'iso_639_1': 'de', 'name': 'Deutsch'}]\",\n",
       "       \"[{'iso_639_1': 'ru', 'name': 'Pусский'}, {'iso_639_1': 'en', 'name': 'English'}]\",\n",
       "       \"[{'iso_639_1': 'en', 'name': 'English'}, {'iso_639_1': 'fr', 'name': 'Français'}, {'iso_639_1': 'ar', 'name': 'العربية'}]\",\n",
       "       \"[{'iso_639_1': 'en', 'name': 'English'}, {'iso_639_1': 'kk', 'name': 'қазақ'}]\",\n",
       "       \"[{'iso_639_1': 'en', 'name': 'English'}, {'iso_639_1': 'fr', 'name': 'Français'}, {'iso_639_1': 'pl', 'name': 'Polski'}]\",\n",
       "       \"[{'iso_639_1': 'ar', 'name': 'العربية'}, {'iso_639_1': 'en', 'name': 'English'}, {'iso_639_1': 'ja', 'name': '日本語'}, {'iso_639_1': 'fa', 'name': 'فارسی'}]\",\n",
       "       \"[{'iso_639_1': 'de', 'name': 'Deutsch'}, {'iso_639_1': 'fr', 'name': 'Français'}]\",\n",
       "       \"[{'iso_639_1': 'cs', 'name': 'Český'}, {'iso_639_1': 'en', 'name': 'English'}, {'iso_639_1': 'es', 'name': 'Español'}, {'iso_639_1': 'sh', 'name': ''}]\",\n",
       "       \"[{'iso_639_1': 'gd', 'name': ''}, {'iso_639_1': 'it', 'name': 'Italiano'}, {'iso_639_1': 'yi', 'name': ''}, {'iso_639_1': 'en', 'name': 'English'}]\",\n",
       "       \"[{'iso_639_1': 'af', 'name': 'Afrikaans'}, {'iso_639_1': 'en', 'name': 'English'}]\",\n",
       "       \"[{'iso_639_1': 'en', 'name': 'English'}, {'iso_639_1': 'fr', 'name': 'Français'}, {'iso_639_1': 'th', 'name': 'ภาษาไทย'}]\",\n",
       "       \"[{'iso_639_1': 'en', 'name': 'English'}, {'iso_639_1': 'fr', 'name': 'Français'}, {'iso_639_1': 'ru', 'name': 'Pусский'}]\",\n",
       "       \"[{'iso_639_1': 'it', 'name': 'Italiano'}]\",\n",
       "       \"[{'iso_639_1': 'ja', 'name': '日本語'}, {'iso_639_1': 'zh', 'name': '普通话'}, {'iso_639_1': 'ar', 'name': 'العربية'}, {'iso_639_1': 'en', 'name': 'English'}]\",\n",
       "       \"[{'iso_639_1': 'en', 'name': 'English'}, {'iso_639_1': 'hy', 'name': ''}]\",\n",
       "       \"[{'iso_639_1': 'pa', 'name': 'ਪੰਜਾਬੀ'}, {'iso_639_1': 'bn', 'name': 'বাংলা'}, {'iso_639_1': 'en', 'name': 'English'}, {'iso_639_1': 'hi', 'name': 'हिन्दी'}]\",\n",
       "       \"[{'iso_639_1': 'en', 'name': 'English'}, {'iso_639_1': 'fr', 'name': 'Français'}, {'iso_639_1': 'de', 'name': 'Deutsch'}, {'iso_639_1': 'el', 'name': 'ελληνικά'}]\",\n",
       "       \"[{'iso_639_1': 'en', 'name': 'English'}, {'iso_639_1': 'he', 'name': 'עִבְרִית'}]\",\n",
       "       \"[{'iso_639_1': 'en', 'name': 'English'}, {'iso_639_1': 'pt', 'name': 'Português'}, {'iso_639_1': 'es', 'name': 'Español'}]\",\n",
       "       \"[{'iso_639_1': 'en', 'name': 'English'}, {'iso_639_1': 'fr', 'name': 'Français'}, {'iso_639_1': 'de', 'name': 'Deutsch'}, {'iso_639_1': 'es', 'name': 'Español'}]\",\n",
       "       \"[{'iso_639_1': 'es', 'name': 'Español'}]\",\n",
       "       \"[{'iso_639_1': 'ja', 'name': '日本語'}, {'iso_639_1': 'en', 'name': 'English'}, {'iso_639_1': 'fr', 'name': 'Français'}]\",\n",
       "       \"[{'iso_639_1': 'pt', 'name': 'Português'}]\",\n",
       "       \"[{'iso_639_1': 'fr', 'name': 'Français'}, {'iso_639_1': 'de', 'name': 'Deutsch'}, {'iso_639_1': 'es', 'name': 'Español'}]\",\n",
       "       \"[{'iso_639_1': 'bg', 'name': 'български език'}, {'iso_639_1': 'en', 'name': 'English'}]\",\n",
       "       \"[{'iso_639_1': 'en', 'name': 'English'}, {'iso_639_1': 'fr', 'name': 'Français'}, {'iso_639_1': 'he', 'name': 'עִבְרִית'}, {'iso_639_1': 'it', 'name': 'Italiano'}, {'iso_639_1': 'es', 'name': 'Español'}, {'iso_639_1': 'de', 'name': 'Deutsch'}]\",\n",
       "       \"[{'iso_639_1': 'nl', 'name': 'Nederlands'}, {'iso_639_1': 'de', 'name': 'Deutsch'}, {'iso_639_1': 'ru', 'name': 'Pусский'}]\",\n",
       "       \"[{'iso_639_1': 'de', 'name': 'Deutsch'}, {'iso_639_1': 'hi', 'name': 'हिन्दी'}]\",\n",
       "       \"[{'iso_639_1': 'en', 'name': 'English'}, {'iso_639_1': 'yi', 'name': ''}]\",\n",
       "       \"[{'iso_639_1': 'en', 'name': 'English'}, {'iso_639_1': 'th', 'name': 'ภาษาไทย'}]\",\n",
       "       \"[{'iso_639_1': 'en', 'name': 'English'}, {'iso_639_1': 'fr', 'name': 'Français'}, {'iso_639_1': 'de', 'name': 'Deutsch'}]\",\n",
       "       \"[{'iso_639_1': 'fr', 'name': 'Français'}, {'iso_639_1': 'en', 'name': 'English'}, {'iso_639_1': 'he', 'name': 'עִבְרִית'}]\",\n",
       "       \"[{'iso_639_1': 'la', 'name': 'Latin'}, {'iso_639_1': 'en', 'name': 'English'}, {'iso_639_1': 'fr', 'name': 'Français'}, {'iso_639_1': 'it', 'name': 'Italiano'}]\",\n",
       "       \"[{'iso_639_1': 'it', 'name': 'Italiano'}, {'iso_639_1': 'en', 'name': 'English'}, {'iso_639_1': 'fr', 'name': 'Français'}]\",\n",
       "       \"[{'iso_639_1': 'en', 'name': 'English'}, {'iso_639_1': 'de', 'name': 'Deutsch'}, {'iso_639_1': 'ru', 'name': 'Pусский'}, {'iso_639_1': 'es', 'name': 'Español'}]\",\n",
       "       \"[{'iso_639_1': 'en', 'name': 'English'}, {'iso_639_1': 'es', 'name': 'Español'}, {'iso_639_1': 'ru', 'name': 'Pусский'}]\",\n",
       "       \"[{'iso_639_1': 'de', 'name': 'Deutsch'}, {'iso_639_1': 'it', 'name': 'Italiano'}, {'iso_639_1': 'en', 'name': 'English'}]\",\n",
       "       \"[{'iso_639_1': 'de', 'name': 'Deutsch'}, {'iso_639_1': 'el', 'name': 'ελληνικά'}, {'iso_639_1': 'en', 'name': 'English'}]\",\n",
       "       \"[{'iso_639_1': 'en', 'name': 'English'}, {'iso_639_1': 'sw', 'name': 'Kiswahili'}]\",\n",
       "       \"[{'iso_639_1': 'ru', 'name': 'Pусский'}, {'iso_639_1': 'en', 'name': 'English'}, {'iso_639_1': 'ja', 'name': '日本語'}, {'iso_639_1': 'fr', 'name': 'Français'}, {'iso_639_1': 'de', 'name': 'Deutsch'}, {'iso_639_1': 'it', 'name': 'Italiano'}, {'iso_639_1': 'es', 'name': 'Español'}]\",\n",
       "       \"[{'iso_639_1': 'en', 'name': 'English'}, {'iso_639_1': 'de', 'name': 'Deutsch'}, {'iso_639_1': 'no', 'name': 'Norsk'}]\",\n",
       "       \"[{'iso_639_1': 'ar', 'name': 'العربية'}, {'iso_639_1': 'en', 'name': 'English'}, {'iso_639_1': 'it', 'name': 'Italiano'}]\",\n",
       "       \"[{'iso_639_1': 'cs', 'name': 'Český'}, {'iso_639_1': 'en', 'name': 'English'}, {'iso_639_1': 'es', 'name': 'Español'}]\",\n",
       "       \"[{'iso_639_1': 'hi', 'name': 'हिन्दी'}, {'iso_639_1': 'mr', 'name': ''}]\",\n",
       "       \"[{'iso_639_1': 'en', 'name': 'English'}, {'iso_639_1': 'zh', 'name': '普通话'}, {'iso_639_1': 'bo', 'name': ''}]\",\n",
       "       \"[{'iso_639_1': 'en', 'name': 'English'}, {'iso_639_1': 'el', 'name': 'ελληνικά'}, {'iso_639_1': 'fr', 'name': 'Français'}]\",\n",
       "       \"[{'iso_639_1': 'fr', 'name': 'Français'}, {'iso_639_1': 'ru', 'name': 'Pусский'}]\",\n",
       "       \"[{'iso_639_1': 'xx', 'name': 'No Language'}]\",\n",
       "       \"[{'iso_639_1': 'zh', 'name': '普通话'}]\",\n",
       "       \"[{'iso_639_1': 'da', 'name': 'Dansk'}, {'iso_639_1': 'en', 'name': 'English'}, {'iso_639_1': 'fi', 'name': 'suomi'}, {'iso_639_1': 'de', 'name': 'Deutsch'}, {'iso_639_1': 'no', 'name': 'Norsk'}, {'iso_639_1': 'pl', 'name': 'Polski'}, {'iso_639_1': 'es', 'name': 'Español'}, {'iso_639_1': 'sv', 'name': 'svenska'}]\",\n",
       "       \"[{'iso_639_1': 'en', 'name': 'English'}, {'iso_639_1': 'de', 'name': 'Deutsch'}, {'iso_639_1': 'pt', 'name': 'Português'}]\",\n",
       "       \"[{'iso_639_1': 'ja', 'name': '日本語'}, {'iso_639_1': 'ko', 'name': '한국어/조선말'}]\",\n",
       "       \"[{'iso_639_1': 'en', 'name': 'English'}, {'iso_639_1': 'de', 'name': 'Deutsch'}, {'iso_639_1': 'el', 'name': 'ελληνικά'}]\",\n",
       "       \"[{'iso_639_1': 'en', 'name': 'English'}, {'iso_639_1': 'de', 'name': 'Deutsch'}, {'iso_639_1': 'sv', 'name': 'svenska'}, {'iso_639_1': 'yi', 'name': ''}]\",\n",
       "       \"[{'iso_639_1': 'hy', 'name': ''}, {'iso_639_1': 'en', 'name': 'English'}]\",\n",
       "       \"[{'iso_639_1': 'de', 'name': 'Deutsch'}, {'iso_639_1': 'fr', 'name': 'Français'}, {'iso_639_1': 'ru', 'name': 'Pусский'}, {'iso_639_1': 'en', 'name': 'English'}]\",\n",
       "       \"[{'iso_639_1': 'ar', 'name': 'العربية'}, {'iso_639_1': 'en', 'name': 'English'}, {'iso_639_1': 'fa', 'name': 'فارسی'}, {'iso_639_1': 'ur', 'name': 'اردو'}, {'iso_639_1': 'fr', 'name': 'Français'}, {'iso_639_1': 'zh', 'name': '普通话'}]\",\n",
       "       \"[{'iso_639_1': 'da', 'name': 'Dansk'}, {'iso_639_1': 'it', 'name': 'Italiano'}, {'iso_639_1': 'en', 'name': 'English'}]\",\n",
       "       \"[{'iso_639_1': 'en', 'name': 'English'}, {'iso_639_1': 'ru', 'name': 'Pусский'}, {'iso_639_1': 'es', 'name': 'Español'}]\",\n",
       "       \"[{'iso_639_1': 'en', 'name': 'English'}, {'iso_639_1': 'de', 'name': 'Deutsch'}, {'iso_639_1': 'ko', 'name': '한국어/조선말'}, {'iso_639_1': 'ru', 'name': 'Pусский'}, {'iso_639_1': 'es', 'name': 'Español'}]\",\n",
       "       \"[{'iso_639_1': 'en', 'name': 'English'}, {'iso_639_1': 'ja', 'name': '日本語'}, {'iso_639_1': 'fr', 'name': 'Français'}, {'iso_639_1': 'ar', 'name': 'العربية'}, {'iso_639_1': 'es', 'name': 'Español'}]\",\n",
       "       \"[{'iso_639_1': 'sq', 'name': 'shqip'}, {'iso_639_1': 'ar', 'name': 'العربية'}, {'iso_639_1': 'en', 'name': 'English'}, {'iso_639_1': 'ro', 'name': 'Română'}]\",\n",
       "       \"[{'iso_639_1': 'cs', 'name': 'Český'}, {'iso_639_1': 'en', 'name': 'English'}, {'iso_639_1': 'hu', 'name': 'Magyar'}]\",\n",
       "       \"[{'iso_639_1': 'en', 'name': 'English'}, {'iso_639_1': 'hu', 'name': 'Magyar'}]\",\n",
       "       \"[{'iso_639_1': 'en', 'name': 'English'}, {'iso_639_1': 'ru', 'name': 'Pусский'}, {'iso_639_1': 'es', 'name': 'Español'}, {'iso_639_1': 'de', 'name': 'Deutsch'}, {'iso_639_1': 'ln', 'name': ''}]\",\n",
       "       \"[{'iso_639_1': 'de', 'name': 'Deutsch'}]\",\n",
       "       \"[{'iso_639_1': 'fr', 'name': 'Français'}, {'iso_639_1': 'it', 'name': 'Italiano'}, {'iso_639_1': 'pl', 'name': 'Polski'}]\",\n",
       "       \"[{'iso_639_1': 'ar', 'name': 'العربية'}, {'iso_639_1': 'en', 'name': 'English'}, {'iso_639_1': 'ur', 'name': 'اردو'}]\",\n",
       "       \"[{'iso_639_1': 'en', 'name': 'English'}, {'iso_639_1': 'pl', 'name': 'Polski'}, {'iso_639_1': 'pt', 'name': 'Português'}]\",\n",
       "       \"[{'iso_639_1': 'en', 'name': 'English'}, {'iso_639_1': 'my', 'name': ''}, {'iso_639_1': 'th', 'name': 'ภาษาไทย'}]\",\n",
       "       \"[{'iso_639_1': 'en', 'name': 'English'}, {'iso_639_1': 'he', 'name': 'עִבְרִית'}, {'iso_639_1': 'ru', 'name': 'Pусский'}, {'iso_639_1': 'yi', 'name': ''}]\",\n",
       "       \"[{'iso_639_1': 'en', 'name': 'English'}, {'iso_639_1': 'zh', 'name': '普通话'}, {'iso_639_1': 'es', 'name': 'Español'}]\",\n",
       "       \"[{'iso_639_1': 'nl', 'name': 'Nederlands'}, {'iso_639_1': 'en', 'name': 'English'}]\",\n",
       "       \"[{'iso_639_1': 'cs', 'name': 'Český'}, {'iso_639_1': 'en', 'name': 'English'}, {'iso_639_1': 'de', 'name': 'Deutsch'}]\",\n",
       "       \"[{'iso_639_1': 'zh', 'name': '普通话'}, {'iso_639_1': 'ja', 'name': '日本語'}, {'iso_639_1': 'en', 'name': 'English'}]\",\n",
       "       \"[{'iso_639_1': 'en', 'name': 'English'}, {'iso_639_1': 'fr', 'name': 'Français'}, {'iso_639_1': 'ja', 'name': '日本語'}]\",\n",
       "       \"[{'iso_639_1': 'cs', 'name': 'Český'}, {'iso_639_1': 'en', 'name': 'English'}]\",\n",
       "       \"[{'iso_639_1': 'en', 'name': 'English'}, {'iso_639_1': 'ko', 'name': '한국어/조선말'}]\",\n",
       "       \"[{'iso_639_1': 'de', 'name': 'Deutsch'}, {'iso_639_1': 'en', 'name': 'English'}, {'iso_639_1': 'es', 'name': 'Español'}, {'iso_639_1': 'fr', 'name': 'Français'}, {'iso_639_1': 'sw', 'name': 'Kiswahili'}]\",\n",
       "       \"[{'iso_639_1': 'cn', 'name': '广州话 / 廣州話'}, {'iso_639_1': 'ja', 'name': '日本語'}, {'iso_639_1': 'zh', 'name': '普通话'}]\",\n",
       "       \"[{'iso_639_1': 'en', 'name': 'English'}, {'iso_639_1': 'ur', 'name': 'اردو'}, {'iso_639_1': 'zh', 'name': '普通话'}]\",\n",
       "       \"[{'iso_639_1': 'en', 'name': 'English'}, {'iso_639_1': 'de', 'name': 'Deutsch'}, {'iso_639_1': 'hu', 'name': 'Magyar'}]\",\n",
       "       \"[{'iso_639_1': 'en', 'name': 'English'}, {'iso_639_1': 'it', 'name': 'Italiano'}, {'iso_639_1': 'de', 'name': 'Deutsch'}, {'iso_639_1': 'la', 'name': 'Latin'}]\",\n",
       "       \"[{'iso_639_1': 'en', 'name': 'English'}, {'iso_639_1': 'id', 'name': 'Bahasa indonesia'}]\",\n",
       "       \"[{'iso_639_1': 'en', 'name': 'English'}, {'iso_639_1': 'fr', 'name': 'Français'}, {'iso_639_1': 'de', 'name': 'Deutsch'}, {'iso_639_1': 'sw', 'name': 'Kiswahili'}]\",\n",
       "       \"[{'iso_639_1': 'fi', 'name': 'suomi'}]\",\n",
       "       \"[{'iso_639_1': 'en', 'name': 'English'}, {'iso_639_1': 'el', 'name': 'ελληνικά'}, {'iso_639_1': 'ru', 'name': 'Pусский'}]\",\n",
       "       \"[{'iso_639_1': 'el', 'name': 'ελληνικά'}, {'iso_639_1': 'en', 'name': 'English'}]\",\n",
       "       \"[{'iso_639_1': 'en', 'name': 'English'}, {'iso_639_1': 'fr', 'name': 'Français'}, {'iso_639_1': 'it', 'name': 'Italiano'}, {'iso_639_1': 'es', 'name': 'Español'}]\",\n",
       "       \"[{'iso_639_1': 'en', 'name': 'English'}, {'iso_639_1': 'hu', 'name': 'Magyar'}, {'iso_639_1': 'no', 'name': 'Norsk'}]\",\n",
       "       \"[{'iso_639_1': 'cs', 'name': 'Český'}, {'iso_639_1': 'da', 'name': 'Dansk'}, {'iso_639_1': 'en', 'name': 'English'}]\",\n",
       "       \"[{'iso_639_1': 'ta', 'name': 'தமிழ்'}, {'iso_639_1': 'te', 'name': 'తెలుగు'}]\",\n",
       "       \"[{'iso_639_1': 'en', 'name': 'English'}, {'iso_639_1': 'de', 'name': 'Deutsch'}, {'iso_639_1': 'ru', 'name': 'Pусский'}]\",\n",
       "       \"[{'iso_639_1': 'cs', 'name': 'Český'}, {'iso_639_1': 'de', 'name': 'Deutsch'}, {'iso_639_1': 'en', 'name': 'English'}]\",\n",
       "       \"[{'iso_639_1': 'ur', 'name': 'اردو'}]\",\n",
       "       \"[{'iso_639_1': 'cn', 'name': '广州话 / 廣州話'}]\",\n",
       "       \"[{'iso_639_1': 'en', 'name': 'English'}, {'iso_639_1': 'fr', 'name': 'Français'}, {'iso_639_1': 'it', 'name': 'Italiano'}, {'iso_639_1': 'ru', 'name': 'Pусский'}, {'iso_639_1': 'es', 'name': 'Español'}]\",\n",
       "       \"[{'iso_639_1': 'en', 'name': 'English'}, {'iso_639_1': 'vi', 'name': 'Tiếng Việt'}]\",\n",
       "       \"[{'iso_639_1': 'it', 'name': 'Italiano'}, {'iso_639_1': 'en', 'name': 'English'}]\",\n",
       "       \"[{'iso_639_1': 'cs', 'name': 'Český'}, {'iso_639_1': 'de', 'name': 'Deutsch'}]\",\n",
       "       \"[{'iso_639_1': 'ar', 'name': 'العربية'}, {'iso_639_1': 'en', 'name': 'English'}, {'iso_639_1': 'fr', 'name': 'Français'}, {'iso_639_1': 'it', 'name': 'Italiano'}]\",\n",
       "       \"[{'iso_639_1': 'am', 'name': ''}]\",\n",
       "       \"[{'iso_639_1': 'de', 'name': 'Deutsch'}, {'iso_639_1': 'ja', 'name': '日本語'}]\",\n",
       "       \"[{'iso_639_1': 'it', 'name': 'Italiano'}, {'iso_639_1': 'de', 'name': 'Deutsch'}, {'iso_639_1': 'en', 'name': 'English'}, {'iso_639_1': 'ja', 'name': '日本語'}]\",\n",
       "       \"[{'iso_639_1': 'en', 'name': 'English'}, {'iso_639_1': 'la', 'name': 'Latin'}, {'iso_639_1': 'es', 'name': 'Español'}]\",\n",
       "       \"[{'iso_639_1': 'en', 'name': 'English'}, {'iso_639_1': 'ar', 'name': 'العربية'}]\",\n",
       "       \"[{'iso_639_1': 'en', 'name': 'English'}, {'iso_639_1': 'ja', 'name': '日本語'}, {'iso_639_1': 'sv', 'name': 'svenska'}]\",\n",
       "       \"[{'iso_639_1': 'he', 'name': 'עִבְרִית'}, {'iso_639_1': 'ar', 'name': 'العربية'}, {'iso_639_1': 'de', 'name': 'Deutsch'}, {'iso_639_1': 'en', 'name': 'English'}]\",\n",
       "       \"[{'iso_639_1': 'la', 'name': 'Latin'}, {'iso_639_1': 'en', 'name': 'English'}, {'iso_639_1': 'es', 'name': 'Español'}]\",\n",
       "       \"[{'iso_639_1': 'en', 'name': 'English'}, {'iso_639_1': 'ar', 'name': 'العربية'}, {'iso_639_1': 'de', 'name': 'Deutsch'}]\",\n",
       "       \"[{'iso_639_1': 'en', 'name': 'English'}, {'iso_639_1': 'ar', 'name': 'العربية'}, {'iso_639_1': 'fr', 'name': 'Français'}, {'iso_639_1': 'de', 'name': 'Deutsch'}, {'iso_639_1': 'ru', 'name': 'Pусский'}, {'iso_639_1': 'cs', 'name': 'Český'}, {'iso_639_1': 'sk', 'name': 'Slovenčina'}]\",\n",
       "       \"[{'iso_639_1': 'cs', 'name': 'Český'}, {'iso_639_1': 'en', 'name': 'English'}, {'iso_639_1': 'ja', 'name': '日本語'}, {'iso_639_1': 'zh', 'name': '普通话'}, {'iso_639_1': 'ru', 'name': 'Pусский'}]\",\n",
       "       \"[{'iso_639_1': 'es', 'name': 'Español'}, {'iso_639_1': 'en', 'name': 'English'}, {'iso_639_1': 'fr', 'name': 'Français'}]\",\n",
       "       \"[{'iso_639_1': 'cn', 'name': '广州话 / 廣州話'}, {'iso_639_1': 'zh', 'name': '普通话'}, {'iso_639_1': 'pt', 'name': 'Português'}, {'iso_639_1': 'th', 'name': 'ภาษาไทย'}]\",\n",
       "       \"[{'iso_639_1': 'no', 'name': 'Norsk'}]\",\n",
       "       \"[{'iso_639_1': 'en', 'name': 'English'}, {'iso_639_1': 'it', 'name': 'Italiano'}, {'iso_639_1': 'la', 'name': 'Latin'}]\",\n",
       "       \"[{'iso_639_1': 'en', 'name': 'English'}, {'iso_639_1': 'fr', 'name': 'Français'}, {'iso_639_1': 'de', 'name': 'Deutsch'}, {'iso_639_1': 'th', 'name': 'ภาษาไทย'}]\",\n",
       "       \"[{'iso_639_1': 'en', 'name': 'English'}, {'iso_639_1': 'it', 'name': 'Italiano'}, {'iso_639_1': 'ar', 'name': 'العربية'}]\",\n",
       "       \"[{'iso_639_1': 'en', 'name': 'English'}, {'iso_639_1': 'de', 'name': 'Deutsch'}, {'iso_639_1': 'ro', 'name': 'Română'}]\",\n",
       "       \"[{'iso_639_1': 'en', 'name': 'English'}, {'iso_639_1': 'pt', 'name': 'Português'}, {'iso_639_1': 'tl', 'name': ''}]\",\n",
       "       \"[{'iso_639_1': 'en', 'name': 'English'}, {'iso_639_1': 'de', 'name': 'Deutsch'}, {'iso_639_1': 'ja', 'name': '日本語'}]\",\n",
       "       \"[{'iso_639_1': 'de', 'name': 'Deutsch'}, {'iso_639_1': 'fr', 'name': 'Français'}, {'iso_639_1': 'it', 'name': 'Italiano'}, {'iso_639_1': 'en', 'name': 'English'}]\",\n",
       "       \"[{'iso_639_1': 'sw', 'name': 'Kiswahili'}, {'iso_639_1': 'en', 'name': 'English'}, {'iso_639_1': 'de', 'name': 'Deutsch'}, {'iso_639_1': 'vi', 'name': 'Tiếng Việt'}]\",\n",
       "       \"[{'iso_639_1': 'en', 'name': 'English'}, {'iso_639_1': 'nl', 'name': 'Nederlands'}, {'iso_639_1': 'pl', 'name': 'Polski'}, {'iso_639_1': 'de', 'name': 'Deutsch'}, {'iso_639_1': 'la', 'name': 'Latin'}]\",\n",
       "       \"[{'iso_639_1': 'en', 'name': 'English'}, {'iso_639_1': 'pl', 'name': 'Polski'}, {'iso_639_1': 'ru', 'name': 'Pусский'}]\",\n",
       "       \"[{'iso_639_1': 'en', 'name': 'English'}, {'iso_639_1': 'sv', 'name': 'svenska'}, {'iso_639_1': 'de', 'name': 'Deutsch'}]\",\n",
       "       \"[{'iso_639_1': 'cs', 'name': 'Český'}, {'iso_639_1': 'en', 'name': 'English'}, {'iso_639_1': 'fr', 'name': 'Français'}]\",\n",
       "       \"[{'iso_639_1': 'sq', 'name': 'shqip'}, {'iso_639_1': 'en', 'name': 'English'}]\",\n",
       "       \"[{'iso_639_1': 'it', 'name': 'Italiano'}, {'iso_639_1': 'el', 'name': 'ελληνικά'}, {'iso_639_1': 'en', 'name': 'English'}]\",\n",
       "       \"[{'iso_639_1': 'zh', 'name': '普通话'}, {'iso_639_1': 'es', 'name': 'Español'}]\",\n",
       "       \"[{'iso_639_1': 'en', 'name': 'English'}, {'iso_639_1': 'fr', 'name': 'Français'}, {'iso_639_1': 'de', 'name': 'Deutsch'}, {'iso_639_1': 'ru', 'name': 'Pусский'}]\",\n",
       "       \"[{'iso_639_1': 'fr', 'name': 'Français'}, {'iso_639_1': 'de', 'name': 'Deutsch'}, {'iso_639_1': 'en', 'name': 'English'}, {'iso_639_1': 'es', 'name': 'Español'}, {'iso_639_1': 'ar', 'name': 'العربية'}, {'iso_639_1': 'hu', 'name': 'Magyar'}, {'iso_639_1': 'ja', 'name': '日本語'}, {'iso_639_1': 'ru', 'name': 'Pусский'}]\",\n",
       "       \"[{'iso_639_1': 'ru', 'name': 'Pусский'}, {'iso_639_1': 'en', 'name': 'English'}, {'iso_639_1': 'fr', 'name': 'Français'}]\",\n",
       "       \"[{'iso_639_1': 'en', 'name': 'English'}, {'iso_639_1': 'ja', 'name': '日本語'}, {'iso_639_1': 'it', 'name': 'Italiano'}, {'iso_639_1': 'fr', 'name': 'Français'}]\",\n",
       "       \"[{'iso_639_1': 'en', 'name': 'English'}, {'iso_639_1': 'fr', 'name': 'Français'}, {'iso_639_1': 'zh', 'name': '普通话'}]\",\n",
       "       \"[{'iso_639_1': 'ja', 'name': '日本語'}, {'iso_639_1': 'es', 'name': 'Español'}]\",\n",
       "       \"[{'iso_639_1': 'en', 'name': 'English'}, {'iso_639_1': 'es', 'name': 'Español'}, {'iso_639_1': 'ar', 'name': 'العربية'}, {'iso_639_1': 'la', 'name': 'Latin'}]\",\n",
       "       \"[{'iso_639_1': 'de', 'name': 'Deutsch'}, {'iso_639_1': 'fr', 'name': 'Français'}, {'iso_639_1': 'en', 'name': 'English'}]\",\n",
       "       \"[{'iso_639_1': 'en', 'name': 'English'}, {'iso_639_1': 'fr', 'name': 'Français'}, {'iso_639_1': 'ru', 'name': 'Pусский'}, {'iso_639_1': 'es', 'name': 'Español'}]\",\n",
       "       \"[{'iso_639_1': 'ko', 'name': '한국어/조선말'}, {'iso_639_1': 'en', 'name': 'English'}]\",\n",
       "       \"[{'iso_639_1': 'en', 'name': 'English'}, {'iso_639_1': 'fr', 'name': 'Français'}, {'iso_639_1': 'de', 'name': 'Deutsch'}, {'iso_639_1': 'pl', 'name': 'Polski'}, {'iso_639_1': 'ru', 'name': 'Pусский'}]\",\n",
       "       \"[{'iso_639_1': 'en', 'name': 'English'}, {'iso_639_1': 'fr', 'name': 'Français'}, {'iso_639_1': 'la', 'name': 'Latin'}, {'iso_639_1': 'es', 'name': 'Español'}]\",\n",
       "       \"[{'iso_639_1': 'en', 'name': 'English'}, {'iso_639_1': 'uk', 'name': 'Український'}, {'iso_639_1': 'ru', 'name': 'Pусский'}]\",\n",
       "       \"[{'iso_639_1': 'eo', 'name': 'Esperanto'}, {'iso_639_1': 'en', 'name': 'English'}]\",\n",
       "       \"[{'iso_639_1': 'ar', 'name': 'العربية'}]\",\n",
       "       \"[{'iso_639_1': 'en', 'name': 'English'}, {'iso_639_1': 'it', 'name': 'Italiano'}, {'iso_639_1': 'es', 'name': 'Español'}]\",\n",
       "       \"[{'iso_639_1': 'ar', 'name': 'العربية'}, {'iso_639_1': 'da', 'name': 'Dansk'}, {'iso_639_1': 'en', 'name': 'English'}]\",\n",
       "       \"[{'iso_639_1': 'en', 'name': 'English'}, {'iso_639_1': 'es', 'name': 'Español'}, {'iso_639_1': 'eu', 'name': 'euskera'}]\",\n",
       "       \"[{'iso_639_1': 'en', 'name': 'English'}, {'iso_639_1': 'de', 'name': 'Deutsch'}, {'iso_639_1': 'tr', 'name': 'Türkçe'}]\",\n",
       "       \"[{'iso_639_1': 'en', 'name': 'English'}, {'iso_639_1': 'ja', 'name': '日本語'}, {'iso_639_1': 'ko', 'name': '한국어/조선말'}]\",\n",
       "       \"[{'iso_639_1': 'en', 'name': 'English'}, {'iso_639_1': 'es', 'name': 'Español'}, {'iso_639_1': 'fr', 'name': 'Français'}, {'iso_639_1': 'ru', 'name': 'Pусский'}]\",\n",
       "       \"[{'iso_639_1': 'sa', 'name': ''}, {'iso_639_1': 'en', 'name': 'English'}, {'iso_639_1': 'ta', 'name': 'தமிழ்'}]\",\n",
       "       \"[{'iso_639_1': 'he', 'name': 'עִבְרִית'}, {'iso_639_1': 'en', 'name': 'English'}]\",\n",
       "       \"[{'iso_639_1': 'en', 'name': 'English'}, {'iso_639_1': 'es', 'name': 'Español'}, {'iso_639_1': 'th', 'name': 'ภาษาไทย'}, {'iso_639_1': 'vi', 'name': 'Tiếng Việt'}]\",\n",
       "       \"[{'iso_639_1': 'ar', 'name': 'العربية'}, {'iso_639_1': 'fr', 'name': 'Français'}]\",\n",
       "       \"[{'iso_639_1': 'en', 'name': 'English'}, {'iso_639_1': 'es', 'name': 'Español'}, {'iso_639_1': 'de', 'name': 'Deutsch'}]\",\n",
       "       \"[{'iso_639_1': 'pt', 'name': 'Português'}, {'iso_639_1': 'en', 'name': 'English'}, {'iso_639_1': 'th', 'name': 'ภาษาไทย'}]\",\n",
       "       \"[{'iso_639_1': 'ru', 'name': 'Pусский'}, {'iso_639_1': 'tr', 'name': 'Türkçe'}, {'iso_639_1': 'el', 'name': 'ελληνικά'}, {'iso_639_1': 'en', 'name': 'English'}]\",\n",
       "       \"[{'iso_639_1': 'pl', 'name': 'Polski'}, {'iso_639_1': 'ru', 'name': 'Pусский'}]\",\n",
       "       \"[{'iso_639_1': 'en', 'name': 'English'}, {'iso_639_1': 'tr', 'name': 'Türkçe'}]\",\n",
       "       \"[{'iso_639_1': 'en', 'name': 'English'}, {'iso_639_1': 'ja', 'name': '日本語'}, {'iso_639_1': 'pl', 'name': 'Polski'}]\",\n",
       "       \"[{'iso_639_1': 'ja', 'name': '日本語'}, {'iso_639_1': 'fr', 'name': 'Français'}, {'iso_639_1': 'ru', 'name': 'Pусский'}, {'iso_639_1': 'en', 'name': 'English'}, {'iso_639_1': 'ar', 'name': 'العربية'}]\",\n",
       "       \"[{'iso_639_1': 'en', 'name': 'English'}, {'iso_639_1': 'ur', 'name': 'اردو'}]\",\n",
       "       \"[{'iso_639_1': 'ja', 'name': '日本語'}, {'iso_639_1': 'en', 'name': 'English'}]\",\n",
       "       \"[{'iso_639_1': 'zh', 'name': '普通话'}, {'iso_639_1': 'th', 'name': 'ภาษาไทย'}]\",\n",
       "       \"[{'iso_639_1': 'en', 'name': 'English'}, {'iso_639_1': 'de', 'name': 'Deutsch'}, {'iso_639_1': 'sw', 'name': 'Kiswahili'}]\",\n",
       "       \"[{'iso_639_1': 'es', 'name': 'Español'}, {'iso_639_1': 'en', 'name': 'English'}, {'iso_639_1': 'de', 'name': 'Deutsch'}, {'iso_639_1': 'nl', 'name': 'Nederlands'}, {'iso_639_1': 'fr', 'name': 'Français'}]\",\n",
       "       \"[{'iso_639_1': 'en', 'name': 'English'}, {'iso_639_1': 'fa', 'name': 'فارسی'}]\",\n",
       "       \"[{'iso_639_1': 'fr', 'name': 'Français'}, {'iso_639_1': 'es', 'name': 'Español'}, {'iso_639_1': 'en', 'name': 'English'}]\",\n",
       "       \"[{'iso_639_1': 'af', 'name': 'Afrikaans'}, {'iso_639_1': 'ny', 'name': ''}, {'iso_639_1': 'st', 'name': ''}, {'iso_639_1': 'xh', 'name': ''}, {'iso_639_1': 'zu', 'name': 'isiZulu'}, {'iso_639_1': 'en', 'name': 'English'}]\",\n",
       "       \"[{'iso_639_1': 'en', 'name': 'English'}, {'iso_639_1': 'es', 'name': 'Español'}, {'iso_639_1': 'el', 'name': 'ελληνικά'}]\",\n",
       "       \"[{'iso_639_1': 'de', 'name': 'Deutsch'}, {'iso_639_1': 'en', 'name': 'English'}, {'iso_639_1': 'da', 'name': 'Dansk'}, {'iso_639_1': 'zh', 'name': '普通话'}, {'iso_639_1': 'cn', 'name': '广州话 / 廣州話'}]\",\n",
       "       \"[{'iso_639_1': 'en', 'name': 'English'}, {'iso_639_1': 'ru', 'name': 'Pусский'}, {'iso_639_1': 'uk', 'name': 'Український'}]\",\n",
       "       \"[{'iso_639_1': 'en', 'name': 'English'}, {'iso_639_1': 'ru', 'name': 'Pусский'}, {'iso_639_1': 'uk', 'name': 'Український'}, {'iso_639_1': 'zh', 'name': '普通话'}, {'iso_639_1': 'cn', 'name': '广州话 / 廣州話'}]\",\n",
       "       \"[{'iso_639_1': 'hi', 'name': 'हिन्दी'}, {'iso_639_1': 'ta', 'name': 'தமிழ்'}]\",\n",
       "       \"[{'iso_639_1': 'en', 'name': 'English'}, {'iso_639_1': 'ru', 'name': 'Pусский'}, {'iso_639_1': 'de', 'name': 'Deutsch'}]\",\n",
       "       \"[{'iso_639_1': 'en', 'name': 'English'}, {'iso_639_1': 'de', 'name': 'Deutsch'}, {'iso_639_1': 'it', 'name': 'Italiano'}, {'iso_639_1': 'es', 'name': 'Español'}]\",\n",
       "       \"[{'iso_639_1': 'mi', 'name': ''}]\",\n",
       "       \"[{'iso_639_1': 'en', 'name': 'English'}, {'iso_639_1': 'pa', 'name': 'ਪੰਜਾਬੀ'}]\",\n",
       "       \"[{'iso_639_1': 'en', 'name': 'English'}, {'iso_639_1': 'fa', 'name': 'فارسی'}, {'iso_639_1': 'ru', 'name': 'Pусский'}]\",\n",
       "       \"[{'iso_639_1': 'pl', 'name': 'Polski'}, {'iso_639_1': 'es', 'name': 'Español'}]\",\n",
       "       \"[{'iso_639_1': 'sv', 'name': 'svenska'}, {'iso_639_1': 'en', 'name': 'English'}, {'iso_639_1': 'fr', 'name': 'Français'}, {'iso_639_1': 'de', 'name': 'Deutsch'}, {'iso_639_1': 'tr', 'name': 'Türkçe'}, {'iso_639_1': 'it', 'name': 'Italiano'}]\",\n",
       "       \"[{'iso_639_1': 'hi', 'name': 'हिन्दी'}, {'iso_639_1': 'ml', 'name': ''}, {'iso_639_1': 'ta', 'name': 'தமிழ்'}]\",\n",
       "       \"[{'iso_639_1': 'fr', 'name': 'Français'}, {'iso_639_1': 'ro', 'name': 'Română'}]\",\n",
       "       \"[{'iso_639_1': 'en', 'name': 'English'}, {'iso_639_1': 'de', 'name': 'Deutsch'}, {'iso_639_1': 'yi', 'name': ''}]\",\n",
       "       \"[{'iso_639_1': 'ja', 'name': '日本語'}, {'iso_639_1': 'th', 'name': 'ภาษาไทย'}, {'iso_639_1': 'en', 'name': 'English'}]\",\n",
       "       \"[{'iso_639_1': 'en', 'name': 'English'}, {'iso_639_1': 'fr', 'name': 'Français'}, {'iso_639_1': 'so', 'name': 'Somali'}]\",\n",
       "       \"[{'iso_639_1': 'en', 'name': 'English'}, {'iso_639_1': 'hu', 'name': 'Magyar'}, {'iso_639_1': 'ru', 'name': 'Pусский'}]\",\n",
       "       \"[{'iso_639_1': 'fr', 'name': 'Français'}, {'iso_639_1': 'gd', 'name': ''}, {'iso_639_1': 'en', 'name': 'English'}]\",\n",
       "       \"[{'iso_639_1': 'sv', 'name': 'svenska'}, {'iso_639_1': 'en', 'name': 'English'}, {'iso_639_1': 'fr', 'name': 'Français'}]\",\n",
       "       \"[{'iso_639_1': 'pl', 'name': 'Polski'}]\",\n",
       "       \"[{'iso_639_1': 'hu', 'name': 'Magyar'}, {'iso_639_1': 'sk', 'name': 'Slovenčina'}]\",\n",
       "       \"[{'iso_639_1': 'de', 'name': 'Deutsch'}, {'iso_639_1': 'es', 'name': 'Español'}, {'iso_639_1': 'en', 'name': 'English'}]\",\n",
       "       \"[{'iso_639_1': 'en', 'name': 'English'}, {'iso_639_1': 'so', 'name': 'Somali'}]\",\n",
       "       \"[{'iso_639_1': 'sv', 'name': 'svenska'}, {'iso_639_1': 'it', 'name': 'Italiano'}, {'iso_639_1': 'fr', 'name': 'Français'}]\",\n",
       "       \"[{'iso_639_1': 'en', 'name': 'English'}, {'iso_639_1': 'lo', 'name': ''}]\",\n",
       "       \"[{'iso_639_1': 'pt', 'name': 'Português'}, {'iso_639_1': 'es', 'name': 'Español'}]\",\n",
       "       \"[{'iso_639_1': 'en', 'name': 'English'}, {'iso_639_1': 'sr', 'name': 'Srpski'}, {'iso_639_1': 'es', 'name': 'Español'}]\",\n",
       "       \"[{'iso_639_1': 'en', 'name': 'English'}, {'iso_639_1': 'es', 'name': 'Español'}, {'iso_639_1': 'it', 'name': 'Italiano'}, {'iso_639_1': 'fr', 'name': 'Français'}, {'iso_639_1': 'de', 'name': 'Deutsch'}]\",\n",
       "       \"[{'iso_639_1': 'da', 'name': 'Dansk'}]\",\n",
       "       \"[{'iso_639_1': 'nl', 'name': 'Nederlands'}, {'iso_639_1': 'en', 'name': 'English'}, {'iso_639_1': 'de', 'name': 'Deutsch'}]\",\n",
       "       \"[{'iso_639_1': 'en', 'name': 'English'}, {'iso_639_1': 'hi', 'name': 'हिन्दी'}, {'iso_639_1': 'de', 'name': 'Deutsch'}, {'iso_639_1': 'bo', 'name': ''}]\",\n",
       "       \"[{'iso_639_1': 'en', 'name': 'English'}, {'iso_639_1': 'cn', 'name': '广州话 / 廣州話'}]\",\n",
       "       \"[{'iso_639_1': 'ar', 'name': 'العربية'}, {'iso_639_1': 'en', 'name': 'English'}, {'iso_639_1': 'th', 'name': 'ภาษาไทย'}]\",\n",
       "       \"[{'iso_639_1': 'ar', 'name': 'العربية'}, {'iso_639_1': 'en', 'name': 'English'}, {'iso_639_1': 'fr', 'name': 'Français'}, {'iso_639_1': 'it', 'name': 'Italiano'}, {'iso_639_1': 'la', 'name': 'Latin'}]\",\n",
       "       \"[{'iso_639_1': 'fi', 'name': 'suomi'}, {'iso_639_1': 'sv', 'name': 'svenska'}]\",\n",
       "       \"[{'iso_639_1': 'is', 'name': 'Íslenska'}, {'iso_639_1': 'en', 'name': 'English'}, {'iso_639_1': 'ru', 'name': 'Pусский'}, {'iso_639_1': 'fr', 'name': 'Français'}]\",\n",
       "       \"[{'iso_639_1': 'cn', 'name': '广州话 / 廣州話'}, {'iso_639_1': 'zh', 'name': '普通话'}, {'iso_639_1': 'es', 'name': 'Español'}, {'iso_639_1': 'wo', 'name': 'Wolof'}]\",\n",
       "       \"[{'iso_639_1': 'en', 'name': 'English'}, {'iso_639_1': 'it', 'name': 'Italiano'}, {'iso_639_1': 'pl', 'name': 'Polski'}]\",\n",
       "       \"[{'iso_639_1': 'el', 'name': 'ελληνικά'}, {'iso_639_1': 'en', 'name': 'English'}, {'iso_639_1': 'it', 'name': 'Italiano'}]\",\n",
       "       \"[{'iso_639_1': 'en', 'name': 'English'}, {'iso_639_1': 'ta', 'name': 'தமிழ்'}, {'iso_639_1': 'hi', 'name': 'हिन्दी'}]\",\n",
       "       \"[{'iso_639_1': 'en', 'name': 'English'}, {'iso_639_1': 'he', 'name': 'עִבְרִית'}, {'iso_639_1': 'hu', 'name': 'Magyar'}]\",\n",
       "       \"[{'iso_639_1': 'en', 'name': 'English'}, {'iso_639_1': 'fr', 'name': 'Français'}, {'iso_639_1': 'vi', 'name': 'Tiếng Việt'}]\",\n",
       "       \"[{'iso_639_1': 'en', 'name': 'English'}, {'iso_639_1': 'ro', 'name': 'Română'}]\",\n",
       "       \"[{'iso_639_1': 'en', 'name': 'English'}, {'iso_639_1': 'af', 'name': 'Afrikaans'}, {'iso_639_1': 'es', 'name': 'Español'}]\",\n",
       "       \"[{'iso_639_1': 'fi', 'name': 'suomi'}, {'iso_639_1': 'en', 'name': 'English'}]\",\n",
       "       \"[{'iso_639_1': 'zh', 'name': '普通话'}, {'iso_639_1': 'ja', 'name': '日本語'}, {'iso_639_1': 'cn', 'name': '广州话 / 廣州話'}]\",\n",
       "       \"[{'iso_639_1': 'et', 'name': 'Eesti'}, {'iso_639_1': 'en', 'name': 'English'}, {'iso_639_1': 'ko', 'name': '한국어/조선말'}]\",\n",
       "       \"[{'iso_639_1': 'ro', 'name': 'Română'}, {'iso_639_1': 'tr', 'name': 'Türkçe'}]\",\n",
       "       \"[{'iso_639_1': 'de', 'name': 'Deutsch'}, {'iso_639_1': 'en', 'name': 'English'}, {'iso_639_1': 'fr', 'name': 'Français'}, {'iso_639_1': 'it', 'name': 'Italiano'}]\",\n",
       "       \"[{'iso_639_1': 'en', 'name': 'English'}, {'iso_639_1': 'he', 'name': 'עִבְרִית'}, {'iso_639_1': 'yi', 'name': ''}]\",\n",
       "       \"[{'iso_639_1': 'ml', 'name': ''}]\",\n",
       "       \"[{'iso_639_1': 'ar', 'name': 'العربية'}, {'iso_639_1': 'en', 'name': 'English'}, {'iso_639_1': 'fr', 'name': 'Français'}, {'iso_639_1': 'ro', 'name': 'Română'}]\",\n",
       "       \"[{'iso_639_1': 'en', 'name': 'English'}, {'iso_639_1': 'es', 'name': 'Español'}, {'iso_639_1': 'ja', 'name': '日本語'}]\",\n",
       "       \"[{'iso_639_1': 'en', 'name': 'English'}, {'iso_639_1': 'vi', 'name': 'Tiếng Việt'}, {'iso_639_1': 'fr', 'name': 'Français'}]\",\n",
       "       \"[{'iso_639_1': 'en', 'name': 'English'}, {'iso_639_1': 'ru', 'name': 'Pусский'}, {'iso_639_1': 'fr', 'name': 'Français'}]\",\n",
       "       \"[{'iso_639_1': 'cn', 'name': '广州话 / 廣州話'}, {'iso_639_1': 'zh', 'name': '普通话'}, {'iso_639_1': 'th', 'name': 'ภาษาไทย'}]\",\n",
       "       \"[{'iso_639_1': 'cs', 'name': 'Český'}, {'iso_639_1': 'en', 'name': 'English'}, {'iso_639_1': 'sr', 'name': 'Srpski'}]\",\n",
       "       \"[{'iso_639_1': 'en', 'name': 'English'}, {'iso_639_1': 'ru', 'name': 'Pусский'}, {'iso_639_1': 'de', 'name': 'Deutsch'}, {'iso_639_1': 'it', 'name': 'Italiano'}]\",\n",
       "       \"[{'iso_639_1': 'en', 'name': 'English'}, {'iso_639_1': 'uk', 'name': 'Український'}]\",\n",
       "       \"[{'iso_639_1': 'ml', 'name': ''}, {'iso_639_1': 'ta', 'name': 'தமிழ்'}]\",\n",
       "       \"[{'iso_639_1': 'en', 'name': 'English'}, {'iso_639_1': 'tl', 'name': ''}]\",\n",
       "       \"[{'iso_639_1': 'en', 'name': 'English'}, {'iso_639_1': 'ru', 'name': 'Pусский'}, {'iso_639_1': 'sr', 'name': 'Srpski'}]\",\n",
       "       \"[{'iso_639_1': 'af', 'name': 'Afrikaans'}, {'iso_639_1': 'en', 'name': 'English'}, {'iso_639_1': 'zu', 'name': 'isiZulu'}]\",\n",
       "       \"[{'iso_639_1': 'en', 'name': 'English'}, {'iso_639_1': 'hi', 'name': 'हिन्दी'}, {'iso_639_1': 'de', 'name': 'Deutsch'}]\",\n",
       "       \"[{'iso_639_1': 'da', 'name': 'Dansk'}, {'iso_639_1': 'en', 'name': 'English'}, {'iso_639_1': 'fr', 'name': 'Français'}, {'iso_639_1': 'de', 'name': 'Deutsch'}, {'iso_639_1': 'es', 'name': 'Español'}]\",\n",
       "       \"[{'iso_639_1': 'en', 'name': 'English'}, {'iso_639_1': 'is', 'name': 'Íslenska'}, {'iso_639_1': 'pt', 'name': 'Português'}, {'iso_639_1': 'fr', 'name': 'Français'}, {'iso_639_1': 'tl', 'name': ''}, {'iso_639_1': 'de', 'name': 'Deutsch'}, {'iso_639_1': 'it', 'name': 'Italiano'}]\",\n",
       "       \"[{'iso_639_1': 'en', 'name': 'English'}, {'iso_639_1': 'fi', 'name': 'suomi'}]\",\n",
       "       \"[{'iso_639_1': 'it', 'name': 'Italiano'}, {'iso_639_1': 'fr', 'name': 'Français'}, {'iso_639_1': 'es', 'name': 'Español'}, {'iso_639_1': 'en', 'name': 'English'}, {'iso_639_1': 'ca', 'name': 'Català'}, {'iso_639_1': 'da', 'name': 'Dansk'}, {'iso_639_1': 'de', 'name': 'Deutsch'}]\",\n",
       "       \"[{'iso_639_1': 'cn', 'name': '广州话 / 廣州話'}, {'iso_639_1': 'en', 'name': 'English'}, {'iso_639_1': 'zh', 'name': '普通话'}, {'iso_639_1': 'th', 'name': 'ภาษาไทย'}]\",\n",
       "       \"[{'iso_639_1': 'en', 'name': 'English'}, {'iso_639_1': 'ga', 'name': 'Gaeilge'}]\",\n",
       "       \"[{'iso_639_1': 'en', 'name': 'English'}, {'iso_639_1': 'fa', 'name': 'فارسی'}, {'iso_639_1': 'es', 'name': 'Español'}, {'iso_639_1': 'zh', 'name': '普通话'}, {'iso_639_1': 'ko', 'name': '한국어/조선말'}]\",\n",
       "       \"[{'iso_639_1': 'fr', 'name': 'Français'}, {'iso_639_1': 'en', 'name': 'English'}, {'iso_639_1': 'de', 'name': 'Deutsch'}]\",\n",
       "       \"[{'iso_639_1': 'en', 'name': 'English'}, {'iso_639_1': 'fr', 'name': 'Français'}, {'iso_639_1': 'ru', 'name': 'Pусский'}, {'iso_639_1': 'vi', 'name': 'Tiếng Việt'}]\",\n",
       "       \"[{'iso_639_1': 'bn', 'name': 'বাংলা'}]\",\n",
       "       \"[{'iso_639_1': 'pt', 'name': 'Português'}, {'iso_639_1': 'en', 'name': 'English'}, {'iso_639_1': 'fr', 'name': 'Français'}, {'iso_639_1': 'ja', 'name': '日本語'}]\",\n",
       "       \"[{'iso_639_1': 'ja', 'name': '日本語'}, {'iso_639_1': 'en', 'name': 'English'}, {'iso_639_1': 'fr', 'name': 'Français'}, {'iso_639_1': 'gd', 'name': ''}, {'iso_639_1': 'de', 'name': 'Deutsch'}]\",\n",
       "       \"[{'iso_639_1': 'en', 'name': 'English'}, {'iso_639_1': 'pt', 'name': 'Português'}, {'iso_639_1': 'ps', 'name': 'پښتو'}, {'iso_639_1': 'ru', 'name': 'Pусский'}, {'iso_639_1': 'ur', 'name': 'اردو'}]\",\n",
       "       \"[{'iso_639_1': 'de', 'name': 'Deutsch'}, {'iso_639_1': 'no', 'name': 'Norsk'}, {'iso_639_1': 'en', 'name': 'English'}]\",\n",
       "       \"[{'iso_639_1': 'en', 'name': 'English'}, {'iso_639_1': 'fr', 'name': 'Français'}, {'iso_639_1': 'es', 'name': 'Español'}, {'iso_639_1': 'eu', 'name': 'euskera'}]\",\n",
       "       \"[{'iso_639_1': 'en', 'name': 'English'}, {'iso_639_1': 'ko', 'name': '한국어/조선말'}, {'iso_639_1': 'zh', 'name': '普通话'}]\",\n",
       "       \"[{'iso_639_1': 'de', 'name': 'Deutsch'}, {'iso_639_1': 'fr', 'name': 'Français'}, {'iso_639_1': 'la', 'name': 'Latin'}, {'iso_639_1': 'ar', 'name': 'العربية'}, {'iso_639_1': 'el', 'name': 'ελληνικά'}, {'iso_639_1': 'en', 'name': 'English'}]\",\n",
       "       \"[{'iso_639_1': 'en', 'name': 'English'}, {'iso_639_1': 'si', 'name': ''}]\",\n",
       "       \"[{'iso_639_1': 'fr', 'name': 'Français'}, {'iso_639_1': 'es', 'name': 'Español'}]\",\n",
       "       \"[{'iso_639_1': 'hr', 'name': 'Hrvatski'}, {'iso_639_1': 'en', 'name': 'English'}]\",\n",
       "       \"[{'iso_639_1': 'en', 'name': 'English'}, {'iso_639_1': 'fr', 'name': 'Français'}, {'iso_639_1': 'sv', 'name': 'svenska'}, {'iso_639_1': 'ta', 'name': 'தமிழ்'}]\",\n",
       "       \"[{'iso_639_1': 'pt', 'name': 'Português'}, {'iso_639_1': 'en', 'name': 'English'}, {'iso_639_1': 'it', 'name': 'Italiano'}]\",\n",
       "       \"[{'iso_639_1': 'fr', 'name': 'Français'}, {'iso_639_1': 'tr', 'name': 'Türkçe'}]\",\n",
       "       \"[{'iso_639_1': 'cs', 'name': 'Český'}, {'iso_639_1': 'en', 'name': 'English'}, {'iso_639_1': 'el', 'name': 'ελληνικά'}, {'iso_639_1': 'ru', 'name': 'Pусский'}]\",\n",
       "       \"[{'iso_639_1': 'la', 'name': 'Latin'}, {'iso_639_1': 'es', 'name': 'Español'}, {'iso_639_1': 'en', 'name': 'English'}]\",\n",
       "       \"[{'iso_639_1': 'de', 'name': 'Deutsch'}, {'iso_639_1': 'en', 'name': 'English'}, {'iso_639_1': 'it', 'name': 'Italiano'}, {'iso_639_1': 'sw', 'name': 'Kiswahili'}]\",\n",
       "       \"[{'iso_639_1': 'ja', 'name': '日本語'}, {'iso_639_1': 'en', 'name': 'English'}, {'iso_639_1': 'it', 'name': 'Italiano'}]\",\n",
       "       \"[{'iso_639_1': 'kw', 'name': ''}, {'iso_639_1': 'en', 'name': 'English'}]\",\n",
       "       \"[{'iso_639_1': 'en', 'name': 'English'}, {'iso_639_1': 'es', 'name': 'Español'}, {'iso_639_1': 'ko', 'name': '한국어/조선말'}]\",\n",
       "       \"[{'iso_639_1': 'hr', 'name': 'Hrvatski'}, {'iso_639_1': 'en', 'name': 'English'}, {'iso_639_1': 'fr', 'name': 'Français'}, {'iso_639_1': 'de', 'name': 'Deutsch'}, {'iso_639_1': 'it', 'name': 'Italiano'}, {'iso_639_1': 'ko', 'name': '한국어/조선말'}, {'iso_639_1': 'pt', 'name': 'Português'}, {'iso_639_1': 'ru', 'name': 'Pусский'}, {'iso_639_1': 'es', 'name': 'Español'}]\",\n",
       "       \"[{'iso_639_1': 'de', 'name': 'Deutsch'}, {'iso_639_1': 'en', 'name': 'English'}, {'iso_639_1': 'fr', 'name': 'Français'}]\",\n",
       "       \"[{'iso_639_1': 'fr', 'name': 'Français'}, {'iso_639_1': 'pt', 'name': 'Português'}]\",\n",
       "       \"[{'iso_639_1': 'en', 'name': 'English'}, {'iso_639_1': 'it', 'name': 'Italiano'}, {'iso_639_1': 'yi', 'name': ''}]\",\n",
       "       \"[{'iso_639_1': 'fr', 'name': 'Français'}, {'iso_639_1': 'it', 'name': 'Italiano'}, {'iso_639_1': 'ru', 'name': 'Pусский'}, {'iso_639_1': 'es', 'name': 'Español'}, {'iso_639_1': 'en', 'name': 'English'}]\",\n",
       "       \"[{'iso_639_1': 'ar', 'name': 'العربية'}, {'iso_639_1': 'en', 'name': 'English'}, {'iso_639_1': 'zh', 'name': '普通话'}]\",\n",
       "       \"[{'iso_639_1': 'fr', 'name': 'Français'}, {'iso_639_1': 'en', 'name': 'English'}, {'iso_639_1': 'pl', 'name': 'Polski'}, {'iso_639_1': 'pt', 'name': 'Português'}]\",\n",
       "       \"[{'iso_639_1': 'la', 'name': 'Latin'}, {'iso_639_1': 'en', 'name': 'English'}, {'iso_639_1': 'fr', 'name': 'Français'}, {'iso_639_1': 'de', 'name': 'Deutsch'}]\",\n",
       "       \"[{'iso_639_1': 'de', 'name': 'Deutsch'}, {'iso_639_1': 'hu', 'name': 'Magyar'}]\",\n",
       "       \"[{'iso_639_1': 'en', 'name': 'English'}, {'iso_639_1': 'de', 'name': 'Deutsch'}, {'iso_639_1': 'tr', 'name': 'Türkçe'}, {'iso_639_1': 'ar', 'name': 'العربية'}]\",\n",
       "       \"[{'iso_639_1': 'he', 'name': 'עִבְרִית'}, {'iso_639_1': 'la', 'name': 'Latin'}]\",\n",
       "       \"[{'iso_639_1': 'pt', 'name': 'Português'}, {'iso_639_1': 'en', 'name': 'English'}, {'iso_639_1': 'hu', 'name': 'Magyar'}]\",\n",
       "       \"[{'iso_639_1': 'ro', 'name': 'Română'}]\",\n",
       "       \"[{'iso_639_1': 'de', 'name': 'Deutsch'}, {'iso_639_1': 'zh', 'name': '普通话'}]\",\n",
       "       \"[{'iso_639_1': 'en', 'name': 'English'}, {'iso_639_1': 'ru', 'name': 'Pусский'}, {'iso_639_1': 'fr', 'name': 'Français'}, {'iso_639_1': 'ar', 'name': 'العربية'}, {'iso_639_1': 'sv', 'name': 'svenska'}]\",\n",
       "       \"[{'iso_639_1': 'en', 'name': 'English'}, {'iso_639_1': 'eo', 'name': 'Esperanto'}]\",\n",
       "       \"[{'iso_639_1': 'de', 'name': 'Deutsch'}, {'iso_639_1': 'fr', 'name': 'Français'}, {'iso_639_1': 'ja', 'name': '日本語'}]\",\n",
       "       \"[{'iso_639_1': 'en', 'name': 'English'}, {'iso_639_1': 'el', 'name': 'ελληνικά'}]\",\n",
       "       \"[{'iso_639_1': 'en', 'name': 'English'}, {'iso_639_1': 'es', 'name': 'Español'}, {'iso_639_1': 'sv', 'name': 'svenska'}, {'iso_639_1': 'th', 'name': 'ภาษาไทย'}]\",\n",
       "       \"[{'iso_639_1': 'da', 'name': 'Dansk'}, {'iso_639_1': 'en', 'name': 'English'}, {'iso_639_1': 'es', 'name': 'Español'}]\",\n",
       "       \"[{'iso_639_1': 'ar', 'name': 'العربية'}, {'iso_639_1': 'id', 'name': 'Bahasa indonesia'}, {'iso_639_1': 'ja', 'name': '日本語'}, {'iso_639_1': 'en', 'name': 'English'}]\",\n",
       "       \"[{'iso_639_1': 'hi', 'name': 'हिन्दी'}, {'iso_639_1': 'ta', 'name': 'தமிழ்'}, {'iso_639_1': 'te', 'name': 'తెలుగు'}]\",\n",
       "       \"[{'iso_639_1': 'en', 'name': 'English'}, {'iso_639_1': 'mi', 'name': ''}]\",\n",
       "       \"[{'iso_639_1': 'fr', 'name': 'Français'}, {'iso_639_1': 'en', 'name': 'English'}, {'iso_639_1': 'es', 'name': 'Español'}, {'iso_639_1': 'it', 'name': 'Italiano'}, {'iso_639_1': 'de', 'name': 'Deutsch'}]\",\n",
       "       \"[{'iso_639_1': 'fr', 'name': 'Français'}, {'iso_639_1': 'en', 'name': 'English'}, {'iso_639_1': 'ja', 'name': '日本語'}]\",\n",
       "       \"[{'iso_639_1': 'ru', 'name': 'Pусский'}, {'iso_639_1': 'en', 'name': 'English'}, {'iso_639_1': 'he', 'name': 'עִבְרִית'}]\",\n",
       "       \"[{'iso_639_1': 'de', 'name': 'Deutsch'}, {'iso_639_1': 'es', 'name': 'Español'}]\",\n",
       "       \"[{'iso_639_1': 'es', 'name': 'Español'}, {'iso_639_1': 'en', 'name': 'English'}, {'iso_639_1': 'ar', 'name': 'العربية'}]\",\n",
       "       \"[{'iso_639_1': 'en', 'name': 'English'}, {'iso_639_1': 'it', 'name': 'Italiano'}, {'iso_639_1': 'ja', 'name': '日本語'}, {'iso_639_1': 'ru', 'name': 'Pусский'}]\",\n",
       "       \"[{'iso_639_1': 'en', 'name': 'English'}, {'iso_639_1': 'pl', 'name': 'Polski'}, {'iso_639_1': 'pt', 'name': 'Português'}, {'iso_639_1': 'es', 'name': 'Español'}]\",\n",
       "       \"[{'iso_639_1': 'en', 'name': 'English'}, {'iso_639_1': 'ja', 'name': '日本語'}, {'iso_639_1': 'nv', 'name': ''}]\",\n",
       "       \"[{'iso_639_1': 'hi', 'name': 'हिन्दी'}, {'iso_639_1': 'it', 'name': 'Italiano'}, {'iso_639_1': 'ur', 'name': 'اردو'}]\",\n",
       "       \"[{'iso_639_1': 'en', 'name': 'English'}, {'iso_639_1': 'it', 'name': 'Italiano'}, {'iso_639_1': 'ja', 'name': '日本語'}, {'iso_639_1': 'yi', 'name': ''}]\",\n",
       "       \"[{'iso_639_1': 'en', 'name': 'English'}, {'iso_639_1': 'gu', 'name': ''}, {'iso_639_1': 'hi', 'name': 'हिन्दी'}, {'iso_639_1': 'mr', 'name': ''}]\",\n",
       "       \"[{'iso_639_1': 'la', 'name': 'Latin'}, {'iso_639_1': 'en', 'name': 'English'}, {'iso_639_1': 'fr', 'name': 'Français'}]\",\n",
       "       \"[{'iso_639_1': 'uk', 'name': 'Український'}, {'iso_639_1': 'en', 'name': 'English'}, {'iso_639_1': 'it', 'name': 'Italiano'}]\",\n",
       "       \"[{'iso_639_1': 'en', 'name': 'English'}, {'iso_639_1': 'ja', 'name': '日本語'}, {'iso_639_1': 'ru', 'name': 'Pусский'}, {'iso_639_1': 'es', 'name': 'Español'}]\",\n",
       "       \"[{'iso_639_1': 'uk', 'name': 'Український'}, {'iso_639_1': 'de', 'name': 'Deutsch'}, {'iso_639_1': 'pl', 'name': 'Polski'}, {'iso_639_1': 'ru', 'name': 'Pусский'}]\",\n",
       "       \"[{'iso_639_1': 'hy', 'name': ''}, {'iso_639_1': 'en', 'name': 'English'}, {'iso_639_1': 'fr', 'name': 'Français'}]\",\n",
       "       \"[{'iso_639_1': 'en', 'name': 'English'}, {'iso_639_1': 'de', 'name': 'Deutsch'}, {'iso_639_1': 'it', 'name': 'Italiano'}, {'iso_639_1': 'la', 'name': 'Latin'}]\",\n",
       "       \"[{'iso_639_1': 'ru', 'name': 'Pусский'}, {'iso_639_1': 'en', 'name': 'English'}, {'iso_639_1': 'de', 'name': 'Deutsch'}]\",\n",
       "       \"[{'iso_639_1': 'ar', 'name': 'العربية'}, {'iso_639_1': 'ku', 'name': ''}]\",\n",
       "       \"[{'iso_639_1': 'en', 'name': 'English'}, {'iso_639_1': 'no', 'name': 'Norsk'}, {'iso_639_1': 'da', 'name': 'Dansk'}]\",\n",
       "       \"[{'iso_639_1': 'en', 'name': 'English'}, {'iso_639_1': 'fr', 'name': 'Français'}, {'iso_639_1': 'ur', 'name': 'اردو'}]\",\n",
       "       \"[{'iso_639_1': 'de', 'name': 'Deutsch'}, {'iso_639_1': 'fr', 'name': 'Français'}, {'iso_639_1': 'pl', 'name': 'Polski'}, {'iso_639_1': 'en', 'name': 'English'}]\",\n",
       "       \"[{'iso_639_1': 'en', 'name': 'English'}, {'iso_639_1': 'ko', 'name': '한국어/조선말'}, {'iso_639_1': 'cn', 'name': '广州话 / 廣州話'}, {'iso_639_1': 'de', 'name': 'Deutsch'}, {'iso_639_1': 'es', 'name': 'Español'}, {'iso_639_1': 'is', 'name': 'Íslenska'}, {'iso_639_1': 'it', 'name': 'Italiano'}]\",\n",
       "       \"[{'iso_639_1': 'en', 'name': 'English'}, {'iso_639_1': 'hu', 'name': 'Magyar'}, {'iso_639_1': 'es', 'name': 'Español'}]\",\n",
       "       \"[{'iso_639_1': 'ar', 'name': 'العربية'}, {'iso_639_1': 'en', 'name': 'English'}, {'iso_639_1': 'fr', 'name': 'Français'}, {'iso_639_1': 'ko', 'name': '한국어/조선말'}]\",\n",
       "       \"[{'iso_639_1': 'gd', 'name': ''}, {'iso_639_1': 'en', 'name': 'English'}]\",\n",
       "       \"[{'iso_639_1': 'cn', 'name': '广州话 / 廣州話'}, {'iso_639_1': 'it', 'name': 'Italiano'}, {'iso_639_1': 'zh', 'name': '普通话'}]\",\n",
       "       \"[{'iso_639_1': 'km', 'name': ''}, {'iso_639_1': 'en', 'name': 'English'}, {'iso_639_1': 'fr', 'name': 'Français'}, {'iso_639_1': 'vi', 'name': 'Tiếng Việt'}]\",\n",
       "       \"[{'iso_639_1': 'ca', 'name': 'Català'}, {'iso_639_1': 'la', 'name': 'Latin'}, {'iso_639_1': 'es', 'name': 'Español'}]\",\n",
       "       \"[{'iso_639_1': 'so', 'name': 'Somali'}, {'iso_639_1': 'en', 'name': 'English'}]\",\n",
       "       \"[{'iso_639_1': 'hu', 'name': 'Magyar'}, {'iso_639_1': 'en', 'name': 'English'}]\",\n",
       "       \"[{'iso_639_1': 'hi', 'name': 'हिन्दी'}, {'iso_639_1': 'it', 'name': 'Italiano'}]\",\n",
       "       \"[{'iso_639_1': 'en', 'name': 'English'}, {'iso_639_1': 'es', 'name': 'Español'}, {'iso_639_1': 'fr', 'name': 'Français'}]\",\n",
       "       \"[{'iso_639_1': 'bg', 'name': 'български език'}, {'iso_639_1': 'en', 'name': 'English'}, {'iso_639_1': 'fr', 'name': 'Français'}, {'iso_639_1': 'ru', 'name': 'Pусский'}, {'iso_639_1': 'es', 'name': 'Español'}]\"],\n",
       "      dtype=object)"
      ]
     },
     "execution_count": 69,
     "metadata": {},
     "output_type": "execute_result"
    }
   ],
   "source": [
    "train.spoken_languages.unique()"
   ]
  },
  {
   "cell_type": "code",
   "execution_count": 70,
   "id": "571aad64",
   "metadata": {},
   "outputs": [],
   "source": [
    "train['spoken_languages'] = train['spoken_languages'].apply(str)\n"
   ]
  },
  {
   "cell_type": "code",
   "execution_count": 71,
   "id": "19808296",
   "metadata": {},
   "outputs": [
    {
     "data": {
      "text/plain": [
       "0             [{'iso_639_1': 'en', 'name': 'English'}]\n",
       "1             [{'iso_639_1': 'en', 'name': 'English'}]\n",
       "2             [{'iso_639_1': 'en', 'name': 'English'}]\n",
       "3    [{'iso_639_1': 'en', 'name': 'English'}, {'iso...\n",
       "4             [{'iso_639_1': 'ko', 'name': '한국어/조선말'}]\n",
       "5             [{'iso_639_1': 'en', 'name': 'English'}]\n",
       "6             [{'iso_639_1': 'en', 'name': 'English'}]\n",
       "7    [{'iso_639_1': 'ar', 'name': 'العربية'}, {'iso...\n",
       "8             [{'iso_639_1': 'en', 'name': 'English'}]\n",
       "9             [{'iso_639_1': 'en', 'name': 'English'}]\n",
       "Name: spoken_languages, dtype: object"
      ]
     },
     "execution_count": 71,
     "metadata": {},
     "output_type": "execute_result"
    }
   ],
   "source": [
    "train['spoken_languages'].head(10)"
   ]
  },
  {
   "cell_type": "code",
   "execution_count": 72,
   "id": "4e72c711",
   "metadata": {},
   "outputs": [],
   "source": [
    "def slice_spoken_lang(s):\n",
    "    if (s == 'unknown'):\n",
    "        return s\n",
    "    else:\n",
    "        start = s.find(\"[{\\'iso_639_1\\': \\'\") + len(\"[{\\'iso_639_1\\': \\'\")\n",
    "        end = s.find(\"',\")\n",
    "        return s[start:end]"
   ]
  },
  {
   "cell_type": "code",
   "execution_count": 73,
   "id": "a6594f29",
   "metadata": {},
   "outputs": [],
   "source": [
    "train['spoken_languages'] = train['spoken_languages'].map(lambda s: slice_spoken_lang(s))"
   ]
  },
  {
   "cell_type": "code",
   "execution_count": 74,
   "id": "fdfcabc2",
   "metadata": {},
   "outputs": [
    {
     "data": {
      "text/plain": [
       "0    en\n",
       "1    en\n",
       "2    en\n",
       "3    en\n",
       "4    ko\n",
       "5    en\n",
       "6    en\n",
       "7    ar\n",
       "8    en\n",
       "9    en\n",
       "Name: spoken_languages, dtype: object"
      ]
     },
     "execution_count": 74,
     "metadata": {},
     "output_type": "execute_result"
    }
   ],
   "source": [
    "train['spoken_languages'].head(10)"
   ]
  },
  {
   "cell_type": "code",
   "execution_count": 75,
   "id": "337c9759",
   "metadata": {},
   "outputs": [],
   "source": [
    "train['spoken_languages'] = train['spoken_languages'].astype('category')\n",
    "train['spoken_languages'] = train['spoken_languages'].cat.codes"
   ]
  },
  {
   "cell_type": "code",
   "execution_count": 76,
   "id": "af98ced2",
   "metadata": {},
   "outputs": [
    {
     "data": {
      "text/plain": [
       "0    11\n",
       "1    11\n",
       "2    11\n",
       "3    11\n",
       "4    28\n",
       "5    11\n",
       "6    11\n",
       "7     2\n",
       "8    11\n",
       "9    11\n",
       "Name: spoken_languages, dtype: int8"
      ]
     },
     "execution_count": 76,
     "metadata": {},
     "output_type": "execute_result"
    }
   ],
   "source": [
    "train['spoken_languages'].head(10)"
   ]
  },
  {
   "cell_type": "markdown",
   "id": "1a398ae4",
   "metadata": {},
   "source": [
    "### Keywords"
   ]
  },
  {
   "cell_type": "code",
   "execution_count": 77,
   "id": "309c95f6",
   "metadata": {},
   "outputs": [],
   "source": [
    "# len(train.Keywords.unique())"
   ]
  },
  {
   "cell_type": "markdown",
   "id": "2ef1f201",
   "metadata": {},
   "source": [
    "### Cast"
   ]
  },
  {
   "cell_type": "code",
   "execution_count": 78,
   "id": "807404d1",
   "metadata": {},
   "outputs": [
    {
     "data": {
      "text/plain": [
       "2976"
      ]
     },
     "execution_count": 78,
     "metadata": {},
     "output_type": "execute_result"
    }
   ],
   "source": [
    "len(train.cast.unique())"
   ]
  },
  {
   "cell_type": "markdown",
   "id": "c3b40d5e",
   "metadata": {},
   "source": [
    "## Changing Values to Booleans"
   ]
  },
  {
   "cell_type": "code",
   "execution_count": 79,
   "id": "c8890442",
   "metadata": {},
   "outputs": [],
   "source": [
    "train['belongs_to_collection'].loc[~train['belongs_to_collection'].isnull()] = 1  # not nan\n",
    "train['belongs_to_collection'].loc[train['belongs_to_collection'].isnull()] = 0   # nan"
   ]
  },
  {
   "cell_type": "code",
   "execution_count": 80,
   "id": "e8a25a81",
   "metadata": {},
   "outputs": [],
   "source": [
    "train['homepage'].loc[~train['homepage'].isnull()] = 1\n",
    "train['homepage'].loc[train['homepage'].isnull()] = 0"
   ]
  },
  {
   "cell_type": "code",
   "execution_count": 81,
   "id": "fb2d2412",
   "metadata": {},
   "outputs": [],
   "source": [
    "train.replace(('Released', 'Rumored'), (1, 0), inplace = True)"
   ]
  },
  {
   "cell_type": "markdown",
   "id": "cb48fccb",
   "metadata": {},
   "source": [
    "## Replacing Missing Values With Median"
   ]
  },
  {
   "cell_type": "code",
   "execution_count": 82,
   "id": "9fe38748",
   "metadata": {},
   "outputs": [
    {
     "data": {
      "text/plain": [
       "812"
      ]
     },
     "execution_count": 82,
     "metadata": {},
     "output_type": "execute_result"
    }
   ],
   "source": [
    "(train['budget'] == 0).sum()"
   ]
  },
  {
   "cell_type": "code",
   "execution_count": 83,
   "id": "84175ebc",
   "metadata": {},
   "outputs": [
    {
     "data": {
      "image/png": "[encoded data removed]",
      "text/plain": [
       "<Figure size 432x288 with 1 Axes>"
      ]
     },
     "metadata": {
      "needs_background": "light"
     },
     "output_type": "display_data"
    }
   ],
   "source": [
    "np.random.seed(42)\n",
    "x = np.random.normal(size=1000)\n",
    "\n",
    "plt.hist(train['budget'], density=True, bins=5)  # density=False would make counts\n",
    "plt.ylabel('Amount')\n",
    "plt.xlabel('Budget');"
   ]
  },
  {
   "cell_type": "markdown",
   "id": "9317cfcc",
   "metadata": {},
   "source": [
    "Seeing as we have a very skewed distribution, we are better off using the median rather than the mean."
   ]
  },
  {
   "cell_type": "code",
   "execution_count": 84,
   "id": "89297d04",
   "metadata": {},
   "outputs": [],
   "source": [
    "median_budget = train['budget'].median(skipna=True)"
   ]
  },
  {
   "cell_type": "code",
   "execution_count": 85,
   "id": "84e979df",
   "metadata": {},
   "outputs": [],
   "source": [
    "train['budget'] = train.budget.mask(train.budget == 0, median_budget)"
   ]
  },
  {
   "cell_type": "markdown",
   "id": "ca84d40d",
   "metadata": {},
   "source": [
    "## Replacing Missing Values With Mean"
   ]
  },
  {
   "cell_type": "code",
   "execution_count": 86,
   "id": "c730a8ff",
   "metadata": {},
   "outputs": [
    {
     "data": {
      "image/png": "[encoded data removed]",
      "text/plain": [
       "<Figure size 432x288 with 1 Axes>"
      ]
     },
     "metadata": {
      "needs_background": "light"
     },
     "output_type": "display_data"
    }
   ],
   "source": [
    "plt.hist(train['runtime'], density=True, bins=5)  # density=False would make counts\n",
    "plt.ylabel('Amount')\n",
    "plt.xlabel('Budget');"
   ]
  },
  {
   "cell_type": "markdown",
   "id": "5bbe7c9a",
   "metadata": {},
   "source": [
    "This distribution is much more equal, and as such we will use the mean to replace missing values."
   ]
  },
  {
   "cell_type": "code",
   "execution_count": 87,
   "id": "3c2ceeb4",
   "metadata": {},
   "outputs": [
    {
     "name": "stdout",
     "output_type": "stream",
     "text": [
      "Mean runtime: 107 minutes.\n"
     ]
    }
   ],
   "source": [
    "mean_runtime = train['runtime'].mean(skipna=True)\n",
    "print(\"Mean runtime: \" + str(int(mean_runtime)) + \" minutes.\")"
   ]
  },
  {
   "cell_type": "code",
   "execution_count": 88,
   "id": "4e7ab541",
   "metadata": {},
   "outputs": [],
   "source": [
    "train['runtime'].loc[train['runtime'].isnull()] = mean_runtime"
   ]
  },
  {
   "cell_type": "code",
   "execution_count": 89,
   "id": "c3d06d9f",
   "metadata": {},
   "outputs": [
    {
     "name": "stdout",
     "output_type": "stream",
     "text": [
      "<class 'pandas.core.frame.DataFrame'>\n",
      "RangeIndex: 3000 entries, 0 to 2999\n",
      "Data columns (total 16 columns):\n",
      " #   Column                 Non-Null Count  Dtype  \n",
      "---  ------                 --------------  -----  \n",
      " 0   id                     3000 non-null   int64  \n",
      " 1   belongs_to_collection  3000 non-null   int64  \n",
      " 2   budget                 3000 non-null   float64\n",
      " 3   genres                 3000 non-null   int32  \n",
      " 4   homepage               3000 non-null   int64  \n",
      " 5   original_language      3000 non-null   int8   \n",
      " 6   popularity             3000 non-null   float64\n",
      " 7   production_companies   3000 non-null   int16  \n",
      " 8   production_countries   3000 non-null   int8   \n",
      " 9   release_date           3000 non-null   object \n",
      " 10  runtime                3000 non-null   float64\n",
      " 11  spoken_languages       3000 non-null   int8   \n",
      " 12  status                 3000 non-null   int64  \n",
      " 13  title                  3000 non-null   object \n",
      " 14  cast                   3000 non-null   object \n",
      " 15  revenue                3000 non-null   int64  \n",
      "dtypes: float64(3), int16(1), int32(1), int64(5), int8(3), object(3)\n",
      "memory usage: 284.3+ KB\n"
     ]
    }
   ],
   "source": [
    "train.info()"
   ]
  },
  {
   "cell_type": "markdown",
   "id": "0d016ccb",
   "metadata": {},
   "source": [
    "### Dealing With Dates"
   ]
  },
  {
   "cell_type": "code",
   "execution_count": 92,
   "id": "c905c2bb",
   "metadata": {
    "scrolled": true
   },
   "outputs": [
    {
     "data": {
      "text/html": [
       "<div>\n",
       "<style scoped>\n",
       "    .dataframe tbody tr th:only-of-type {\n",
       "        vertical-align: middle;\n",
       "    }\n",
       "\n",
       "    .dataframe tbody tr th {\n",
       "        vertical-align: top;\n",
       "    }\n",
       "\n",
       "    .dataframe thead th {\n",
       "        text-align: right;\n",
       "    }\n",
       "</style>\n",
       "<table border=\"1\" class=\"dataframe\">\n",
       "  <thead>\n",
       "    <tr style=\"text-align: right;\">\n",
       "      <th></th>\n",
       "      <th>title</th>\n",
       "      <th>release_date</th>\n",
       "    </tr>\n",
       "  </thead>\n",
       "  <tbody>\n",
       "    <tr>\n",
       "      <th>0</th>\n",
       "      <td>Hot Tub Time Machine 2</td>\n",
       "      <td>2/20/15</td>\n",
       "    </tr>\n",
       "    <tr>\n",
       "      <th>1</th>\n",
       "      <td>The Princess Diaries 2: Royal Engagement</td>\n",
       "      <td>8/6/04</td>\n",
       "    </tr>\n",
       "    <tr>\n",
       "      <th>2</th>\n",
       "      <td>Whiplash</td>\n",
       "      <td>10/10/14</td>\n",
       "    </tr>\n",
       "    <tr>\n",
       "      <th>3</th>\n",
       "      <td>Kahaani</td>\n",
       "      <td>3/9/12</td>\n",
       "    </tr>\n",
       "    <tr>\n",
       "      <th>4</th>\n",
       "      <td>Marine Boy</td>\n",
       "      <td>2/5/09</td>\n",
       "    </tr>\n",
       "    <tr>\n",
       "      <th>...</th>\n",
       "      <td>...</td>\n",
       "      <td>...</td>\n",
       "    </tr>\n",
       "    <tr>\n",
       "      <th>2995</th>\n",
       "      <td>Chasers</td>\n",
       "      <td>4/22/94</td>\n",
       "    </tr>\n",
       "    <tr>\n",
       "      <th>2996</th>\n",
       "      <td>We Are the Best!</td>\n",
       "      <td>3/28/13</td>\n",
       "    </tr>\n",
       "    <tr>\n",
       "      <th>2997</th>\n",
       "      <td>The Long Kiss Goodnight</td>\n",
       "      <td>10/11/96</td>\n",
       "    </tr>\n",
       "    <tr>\n",
       "      <th>2998</th>\n",
       "      <td>Along Came Polly</td>\n",
       "      <td>1/16/04</td>\n",
       "    </tr>\n",
       "    <tr>\n",
       "      <th>2999</th>\n",
       "      <td>Abduction</td>\n",
       "      <td>9/22/11</td>\n",
       "    </tr>\n",
       "  </tbody>\n",
       "</table>\n",
       "<p>3000 rows × 2 columns</p>\n",
       "</div>"
      ],
      "text/plain": [
       "                                         title release_date\n",
       "0                       Hot Tub Time Machine 2      2/20/15\n",
       "1     The Princess Diaries 2: Royal Engagement       8/6/04\n",
       "2                                     Whiplash     10/10/14\n",
       "3                                      Kahaani       3/9/12\n",
       "4                                   Marine Boy       2/5/09\n",
       "...                                        ...          ...\n",
       "2995                                   Chasers      4/22/94\n",
       "2996                          We Are the Best!      3/28/13\n",
       "2997                   The Long Kiss Goodnight     10/11/96\n",
       "2998                          Along Came Polly      1/16/04\n",
       "2999                                 Abduction      9/22/11\n",
       "\n",
       "[3000 rows x 2 columns]"
      ]
     },
     "execution_count": 92,
     "metadata": {},
     "output_type": "execute_result"
    }
   ],
   "source": [
    "train[['title', 'release_date']]"
   ]
  },
  {
   "cell_type": "markdown",
   "id": "69b3740d",
   "metadata": {},
   "source": [
    "To look closer at the date, we will use a function found on KDNuggets.\n",
    "\n",
    "[https://www.kdnuggets.com/2018/03/feature-engineering-dates-fastai.html]"
   ]
  },
  {
   "cell_type": "code",
   "execution_count": 93,
   "id": "60f02c5c",
   "metadata": {},
   "outputs": [],
   "source": [
    "def add_datepart(df, fldname, drop=True):\n",
    "    fld = df[fldname]\n",
    "    if not np.issubdtype(fld.dtype, np.datetime64):\n",
    "        df[fldname] = fld = pd.to_datetime(fld, infer_datetime_format=True)\n",
    "    targ_pre = re.sub('[Dd]ate$', '', fldname)\n",
    "    for n in ('Year', 'Month', 'Week', 'Day', 'Dayofweek', 'Dayofyear',\n",
    "            'Is_month_end', 'Is_month_start', 'Is_quarter_end', 'Is_quarter_start', 'Is_year_end', 'Is_year_start'):\n",
    "        df[targ_pre+n] = getattr(fld.dt,n.lower())\n",
    "    df[targ_pre+'Elapsed'] = fld.astype(np.int64) // 10**9\n",
    "    if drop: df.drop(fldname, axis=1, inplace=True)"
   ]
  },
  {
   "cell_type": "code",
   "execution_count": 94,
   "id": "3cb50be7",
   "metadata": {},
   "outputs": [
    {
     "data": {
      "text/plain": [
       "id                       0\n",
       "belongs_to_collection    0\n",
       "budget                   0\n",
       "genres                   0\n",
       "homepage                 0\n",
       "original_language        0\n",
       "popularity               0\n",
       "production_companies     0\n",
       "production_countries     0\n",
       "release_date             0\n",
       "runtime                  0\n",
       "spoken_languages         0\n",
       "status                   0\n",
       "title                    0\n",
       "cast                     0\n",
       "revenue                  0\n",
       "dtype: int64"
      ]
     },
     "execution_count": 94,
     "metadata": {},
     "output_type": "execute_result"
    }
   ],
   "source": [
    "train.isna().sum()"
   ]
  },
  {
   "cell_type": "code",
   "execution_count": 95,
   "id": "031a9296",
   "metadata": {},
   "outputs": [],
   "source": [
    "train = train.drop(['cast'], axis = 1)"
   ]
  },
  {
   "cell_type": "code",
   "execution_count": 96,
   "id": "dfc2b934",
   "metadata": {
    "scrolled": false
   },
   "outputs": [
    {
     "data": {
      "text/html": [
       "<div>\n",
       "<style scoped>\n",
       "    .dataframe tbody tr th:only-of-type {\n",
       "        vertical-align: middle;\n",
       "    }\n",
       "\n",
       "    .dataframe tbody tr th {\n",
       "        vertical-align: top;\n",
       "    }\n",
       "\n",
       "    .dataframe thead th {\n",
       "        text-align: right;\n",
       "    }\n",
       "</style>\n",
       "<table border=\"1\" class=\"dataframe\">\n",
       "  <thead>\n",
       "    <tr style=\"text-align: right;\">\n",
       "      <th></th>\n",
       "      <th>id</th>\n",
       "      <th>belongs_to_collection</th>\n",
       "      <th>budget</th>\n",
       "      <th>genres</th>\n",
       "      <th>homepage</th>\n",
       "      <th>original_language</th>\n",
       "      <th>popularity</th>\n",
       "      <th>production_companies</th>\n",
       "      <th>production_countries</th>\n",
       "      <th>release_date</th>\n",
       "      <th>runtime</th>\n",
       "      <th>spoken_languages</th>\n",
       "      <th>status</th>\n",
       "      <th>title</th>\n",
       "      <th>revenue</th>\n",
       "    </tr>\n",
       "  </thead>\n",
       "  <tbody>\n",
       "    <tr>\n",
       "      <th>0</th>\n",
       "      <td>1</td>\n",
       "      <td>1</td>\n",
       "      <td>14000000.0</td>\n",
       "      <td>35</td>\n",
       "      <td>0</td>\n",
       "      <td>7</td>\n",
       "      <td>6.575393</td>\n",
       "      <td>705</td>\n",
       "      <td>57</td>\n",
       "      <td>2/20/15</td>\n",
       "      <td>93.0</td>\n",
       "      <td>11</td>\n",
       "      <td>1</td>\n",
       "      <td>Hot Tub Time Machine 2</td>\n",
       "      <td>12314651</td>\n",
       "    </tr>\n",
       "    <tr>\n",
       "      <th>1</th>\n",
       "      <td>2</td>\n",
       "      <td>1</td>\n",
       "      <td>40000000.0</td>\n",
       "      <td>35</td>\n",
       "      <td>0</td>\n",
       "      <td>7</td>\n",
       "      <td>8.248895</td>\n",
       "      <td>1004</td>\n",
       "      <td>57</td>\n",
       "      <td>8/6/04</td>\n",
       "      <td>113.0</td>\n",
       "      <td>11</td>\n",
       "      <td>1</td>\n",
       "      <td>The Princess Diaries 2: Royal Engagement</td>\n",
       "      <td>95149435</td>\n",
       "    </tr>\n",
       "    <tr>\n",
       "      <th>2</th>\n",
       "      <td>3</td>\n",
       "      <td>0</td>\n",
       "      <td>3300000.0</td>\n",
       "      <td>18</td>\n",
       "      <td>1</td>\n",
       "      <td>7</td>\n",
       "      <td>64.299990</td>\n",
       "      <td>140</td>\n",
       "      <td>57</td>\n",
       "      <td>10/10/14</td>\n",
       "      <td>105.0</td>\n",
       "      <td>11</td>\n",
       "      <td>1</td>\n",
       "      <td>Whiplash</td>\n",
       "      <td>13092000</td>\n",
       "    </tr>\n",
       "    <tr>\n",
       "      <th>3</th>\n",
       "      <td>4</td>\n",
       "      <td>0</td>\n",
       "      <td>1200000.0</td>\n",
       "      <td>53</td>\n",
       "      <td>1</td>\n",
       "      <td>13</td>\n",
       "      <td>3.174936</td>\n",
       "      <td>1054</td>\n",
       "      <td>28</td>\n",
       "      <td>3/9/12</td>\n",
       "      <td>122.0</td>\n",
       "      <td>11</td>\n",
       "      <td>1</td>\n",
       "      <td>Kahaani</td>\n",
       "      <td>16000000</td>\n",
       "    </tr>\n",
       "    <tr>\n",
       "      <th>4</th>\n",
       "      <td>5</td>\n",
       "      <td>0</td>\n",
       "      <td>8000000.0</td>\n",
       "      <td>28</td>\n",
       "      <td>0</td>\n",
       "      <td>18</td>\n",
       "      <td>1.148070</td>\n",
       "      <td>1054</td>\n",
       "      <td>34</td>\n",
       "      <td>2/5/09</td>\n",
       "      <td>118.0</td>\n",
       "      <td>28</td>\n",
       "      <td>1</td>\n",
       "      <td>Marine Boy</td>\n",
       "      <td>3923970</td>\n",
       "    </tr>\n",
       "    <tr>\n",
       "      <th>5</th>\n",
       "      <td>6</td>\n",
       "      <td>0</td>\n",
       "      <td>8000000.0</td>\n",
       "      <td>16</td>\n",
       "      <td>0</td>\n",
       "      <td>7</td>\n",
       "      <td>0.743274</td>\n",
       "      <td>1054</td>\n",
       "      <td>60</td>\n",
       "      <td>8/6/87</td>\n",
       "      <td>83.0</td>\n",
       "      <td>11</td>\n",
       "      <td>1</td>\n",
       "      <td>Pinocchio and the Emperor of the Night</td>\n",
       "      <td>3261638</td>\n",
       "    </tr>\n",
       "    <tr>\n",
       "      <th>6</th>\n",
       "      <td>7</td>\n",
       "      <td>0</td>\n",
       "      <td>14000000.0</td>\n",
       "      <td>27</td>\n",
       "      <td>1</td>\n",
       "      <td>7</td>\n",
       "      <td>7.286477</td>\n",
       "      <td>386</td>\n",
       "      <td>57</td>\n",
       "      <td>8/30/12</td>\n",
       "      <td>92.0</td>\n",
       "      <td>11</td>\n",
       "      <td>1</td>\n",
       "      <td>The Possession</td>\n",
       "      <td>85446075</td>\n",
       "    </tr>\n",
       "    <tr>\n",
       "      <th>7</th>\n",
       "      <td>8</td>\n",
       "      <td>0</td>\n",
       "      <td>8000000.0</td>\n",
       "      <td>99</td>\n",
       "      <td>0</td>\n",
       "      <td>7</td>\n",
       "      <td>1.949044</td>\n",
       "      <td>1054</td>\n",
       "      <td>60</td>\n",
       "      <td>1/15/04</td>\n",
       "      <td>84.0</td>\n",
       "      <td>2</td>\n",
       "      <td>1</td>\n",
       "      <td>Control Room</td>\n",
       "      <td>2586511</td>\n",
       "    </tr>\n",
       "    <tr>\n",
       "      <th>8</th>\n",
       "      <td>9</td>\n",
       "      <td>1</td>\n",
       "      <td>8000000.0</td>\n",
       "      <td>28</td>\n",
       "      <td>0</td>\n",
       "      <td>7</td>\n",
       "      <td>6.902423</td>\n",
       "      <td>1004</td>\n",
       "      <td>57</td>\n",
       "      <td>2/16/96</td>\n",
       "      <td>100.0</td>\n",
       "      <td>11</td>\n",
       "      <td>1</td>\n",
       "      <td>Muppet Treasure Island</td>\n",
       "      <td>34327391</td>\n",
       "    </tr>\n",
       "    <tr>\n",
       "      <th>9</th>\n",
       "      <td>10</td>\n",
       "      <td>0</td>\n",
       "      <td>6000000.0</td>\n",
       "      <td>35</td>\n",
       "      <td>0</td>\n",
       "      <td>7</td>\n",
       "      <td>4.672036</td>\n",
       "      <td>182</td>\n",
       "      <td>57</td>\n",
       "      <td>4/16/03</td>\n",
       "      <td>91.0</td>\n",
       "      <td>11</td>\n",
       "      <td>1</td>\n",
       "      <td>A Mighty Wind</td>\n",
       "      <td>18750246</td>\n",
       "    </tr>\n",
       "  </tbody>\n",
       "</table>\n",
       "</div>"
      ],
      "text/plain": [
       "   id  belongs_to_collection      budget  genres  homepage  original_language  \\\n",
       "0   1                      1  14000000.0      35         0                  7   \n",
       "1   2                      1  40000000.0      35         0                  7   \n",
       "2   3                      0   3300000.0      18         1                  7   \n",
       "3   4                      0   1200000.0      53         1                 13   \n",
       "4   5                      0   8000000.0      28         0                 18   \n",
       "5   6                      0   8000000.0      16         0                  7   \n",
       "6   7                      0  14000000.0      27         1                  7   \n",
       "7   8                      0   8000000.0      99         0                  7   \n",
       "8   9                      1   8000000.0      28         0                  7   \n",
       "9  10                      0   6000000.0      35         0                  7   \n",
       "\n",
       "   popularity  production_companies  production_countries release_date  \\\n",
       "0    6.575393                   705                    57      2/20/15   \n",
       "1    8.248895                  1004                    57       8/6/04   \n",
       "2   64.299990                   140                    57     10/10/14   \n",
       "3    3.174936                  1054                    28       3/9/12   \n",
       "4    1.148070                  1054                    34       2/5/09   \n",
       "5    0.743274                  1054                    60       8/6/87   \n",
       "6    7.286477                   386                    57      8/30/12   \n",
       "7    1.949044                  1054                    60      1/15/04   \n",
       "8    6.902423                  1004                    57      2/16/96   \n",
       "9    4.672036                   182                    57      4/16/03   \n",
       "\n",
       "   runtime  spoken_languages  status  \\\n",
       "0     93.0                11       1   \n",
       "1    113.0                11       1   \n",
       "2    105.0                11       1   \n",
       "3    122.0                11       1   \n",
       "4    118.0                28       1   \n",
       "5     83.0                11       1   \n",
       "6     92.0                11       1   \n",
       "7     84.0                 2       1   \n",
       "8    100.0                11       1   \n",
       "9     91.0                11       1   \n",
       "\n",
       "                                      title   revenue  \n",
       "0                    Hot Tub Time Machine 2  12314651  \n",
       "1  The Princess Diaries 2: Royal Engagement  95149435  \n",
       "2                                  Whiplash  13092000  \n",
       "3                                   Kahaani  16000000  \n",
       "4                                Marine Boy   3923970  \n",
       "5    Pinocchio and the Emperor of the Night   3261638  \n",
       "6                            The Possession  85446075  \n",
       "7                              Control Room   2586511  \n",
       "8                    Muppet Treasure Island  34327391  \n",
       "9                             A Mighty Wind  18750246  "
      ]
     },
     "execution_count": 96,
     "metadata": {},
     "output_type": "execute_result"
    }
   ],
   "source": [
    "train.head(10)"
   ]
  },
  {
   "cell_type": "markdown",
   "id": "28f4cbe7",
   "metadata": {},
   "source": [
    "# PyCaret Stuff"
   ]
  },
  {
   "cell_type": "markdown",
   "id": "010542f6",
   "metadata": {},
   "source": [
    "## Setting up PyCaret environment"
   ]
  },
  {
   "cell_type": "code",
   "execution_count": 97,
   "id": "69ced4c8",
   "metadata": {},
   "outputs": [
    {
     "data": {
      "text/html": [
       "<style type=\"text/css\">\n",
       "#T_e3e36_row7_col1, #T_e3e36_row42_col1 {\n",
       "  background-color: lightgreen;\n",
       "}\n",
       "</style>\n",
       "<table id=\"T_e3e36_\">\n",
       "  <thead>\n",
       "    <tr>\n",
       "      <th class=\"blank level0\" >&nbsp;</th>\n",
       "      <th class=\"col_heading level0 col0\" >Description</th>\n",
       "      <th class=\"col_heading level0 col1\" >Value</th>\n",
       "    </tr>\n",
       "  </thead>\n",
       "  <tbody>\n",
       "    <tr>\n",
       "      <th id=\"T_e3e36_level0_row0\" class=\"row_heading level0 row0\" >0</th>\n",
       "      <td id=\"T_e3e36_row0_col0\" class=\"data row0 col0\" >session_id</td>\n",
       "      <td id=\"T_e3e36_row0_col1\" class=\"data row0 col1\" >69</td>\n",
       "    </tr>\n",
       "    <tr>\n",
       "      <th id=\"T_e3e36_level0_row1\" class=\"row_heading level0 row1\" >1</th>\n",
       "      <td id=\"T_e3e36_row1_col0\" class=\"data row1 col0\" >Target</td>\n",
       "      <td id=\"T_e3e36_row1_col1\" class=\"data row1 col1\" >revenue</td>\n",
       "    </tr>\n",
       "    <tr>\n",
       "      <th id=\"T_e3e36_level0_row2\" class=\"row_heading level0 row2\" >2</th>\n",
       "      <td id=\"T_e3e36_row2_col0\" class=\"data row2 col0\" >Original Data</td>\n",
       "      <td id=\"T_e3e36_row2_col1\" class=\"data row2 col1\" >(3000, 15)</td>\n",
       "    </tr>\n",
       "    <tr>\n",
       "      <th id=\"T_e3e36_level0_row3\" class=\"row_heading level0 row3\" >3</th>\n",
       "      <td id=\"T_e3e36_row3_col0\" class=\"data row3 col0\" >Missing Values</td>\n",
       "      <td id=\"T_e3e36_row3_col1\" class=\"data row3 col1\" >False</td>\n",
       "    </tr>\n",
       "    <tr>\n",
       "      <th id=\"T_e3e36_level0_row4\" class=\"row_heading level0 row4\" >4</th>\n",
       "      <td id=\"T_e3e36_row4_col0\" class=\"data row4 col0\" >Numeric Features</td>\n",
       "      <td id=\"T_e3e36_row4_col1\" class=\"data row4 col1\" >9</td>\n",
       "    </tr>\n",
       "    <tr>\n",
       "      <th id=\"T_e3e36_level0_row5\" class=\"row_heading level0 row5\" >5</th>\n",
       "      <td id=\"T_e3e36_row5_col0\" class=\"data row5 col0\" >Categorical Features</td>\n",
       "      <td id=\"T_e3e36_row5_col1\" class=\"data row5 col1\" >4</td>\n",
       "    </tr>\n",
       "    <tr>\n",
       "      <th id=\"T_e3e36_level0_row6\" class=\"row_heading level0 row6\" >6</th>\n",
       "      <td id=\"T_e3e36_row6_col0\" class=\"data row6 col0\" >Ordinal Features</td>\n",
       "      <td id=\"T_e3e36_row6_col1\" class=\"data row6 col1\" >False</td>\n",
       "    </tr>\n",
       "    <tr>\n",
       "      <th id=\"T_e3e36_level0_row7\" class=\"row_heading level0 row7\" >7</th>\n",
       "      <td id=\"T_e3e36_row7_col0\" class=\"data row7 col0\" >High Cardinality Features</td>\n",
       "      <td id=\"T_e3e36_row7_col1\" class=\"data row7 col1\" >True</td>\n",
       "    </tr>\n",
       "    <tr>\n",
       "      <th id=\"T_e3e36_level0_row8\" class=\"row_heading level0 row8\" >8</th>\n",
       "      <td id=\"T_e3e36_row8_col0\" class=\"data row8 col0\" >High Cardinality Method</td>\n",
       "      <td id=\"T_e3e36_row8_col1\" class=\"data row8 col1\" >frequency</td>\n",
       "    </tr>\n",
       "    <tr>\n",
       "      <th id=\"T_e3e36_level0_row9\" class=\"row_heading level0 row9\" >9</th>\n",
       "      <td id=\"T_e3e36_row9_col0\" class=\"data row9 col0\" >Transformed Train Set</td>\n",
       "      <td id=\"T_e3e36_row9_col1\" class=\"data row9 col1\" >(2099, 2112)</td>\n",
       "    </tr>\n",
       "    <tr>\n",
       "      <th id=\"T_e3e36_level0_row10\" class=\"row_heading level0 row10\" >10</th>\n",
       "      <td id=\"T_e3e36_row10_col0\" class=\"data row10 col0\" >Transformed Test Set</td>\n",
       "      <td id=\"T_e3e36_row10_col1\" class=\"data row10 col1\" >(901, 2112)</td>\n",
       "    </tr>\n",
       "    <tr>\n",
       "      <th id=\"T_e3e36_level0_row11\" class=\"row_heading level0 row11\" >11</th>\n",
       "      <td id=\"T_e3e36_row11_col0\" class=\"data row11 col0\" >Shuffle Train-Test</td>\n",
       "      <td id=\"T_e3e36_row11_col1\" class=\"data row11 col1\" >True</td>\n",
       "    </tr>\n",
       "    <tr>\n",
       "      <th id=\"T_e3e36_level0_row12\" class=\"row_heading level0 row12\" >12</th>\n",
       "      <td id=\"T_e3e36_row12_col0\" class=\"data row12 col0\" >Stratify Train-Test</td>\n",
       "      <td id=\"T_e3e36_row12_col1\" class=\"data row12 col1\" >False</td>\n",
       "    </tr>\n",
       "    <tr>\n",
       "      <th id=\"T_e3e36_level0_row13\" class=\"row_heading level0 row13\" >13</th>\n",
       "      <td id=\"T_e3e36_row13_col0\" class=\"data row13 col0\" >Fold Generator</td>\n",
       "      <td id=\"T_e3e36_row13_col1\" class=\"data row13 col1\" >KFold</td>\n",
       "    </tr>\n",
       "    <tr>\n",
       "      <th id=\"T_e3e36_level0_row14\" class=\"row_heading level0 row14\" >14</th>\n",
       "      <td id=\"T_e3e36_row14_col0\" class=\"data row14 col0\" >Fold Number</td>\n",
       "      <td id=\"T_e3e36_row14_col1\" class=\"data row14 col1\" >10</td>\n",
       "    </tr>\n",
       "    <tr>\n",
       "      <th id=\"T_e3e36_level0_row15\" class=\"row_heading level0 row15\" >15</th>\n",
       "      <td id=\"T_e3e36_row15_col0\" class=\"data row15 col0\" >CPU Jobs</td>\n",
       "      <td id=\"T_e3e36_row15_col1\" class=\"data row15 col1\" >-1</td>\n",
       "    </tr>\n",
       "    <tr>\n",
       "      <th id=\"T_e3e36_level0_row16\" class=\"row_heading level0 row16\" >16</th>\n",
       "      <td id=\"T_e3e36_row16_col0\" class=\"data row16 col0\" >Use GPU</td>\n",
       "      <td id=\"T_e3e36_row16_col1\" class=\"data row16 col1\" >False</td>\n",
       "    </tr>\n",
       "    <tr>\n",
       "      <th id=\"T_e3e36_level0_row17\" class=\"row_heading level0 row17\" >17</th>\n",
       "      <td id=\"T_e3e36_row17_col0\" class=\"data row17 col0\" >Log Experiment</td>\n",
       "      <td id=\"T_e3e36_row17_col1\" class=\"data row17 col1\" >False</td>\n",
       "    </tr>\n",
       "    <tr>\n",
       "      <th id=\"T_e3e36_level0_row18\" class=\"row_heading level0 row18\" >18</th>\n",
       "      <td id=\"T_e3e36_row18_col0\" class=\"data row18 col0\" >Experiment Name</td>\n",
       "      <td id=\"T_e3e36_row18_col1\" class=\"data row18 col1\" >reg-default-name</td>\n",
       "    </tr>\n",
       "    <tr>\n",
       "      <th id=\"T_e3e36_level0_row19\" class=\"row_heading level0 row19\" >19</th>\n",
       "      <td id=\"T_e3e36_row19_col0\" class=\"data row19 col0\" >USI</td>\n",
       "      <td id=\"T_e3e36_row19_col1\" class=\"data row19 col1\" >7dbd</td>\n",
       "    </tr>\n",
       "    <tr>\n",
       "      <th id=\"T_e3e36_level0_row20\" class=\"row_heading level0 row20\" >20</th>\n",
       "      <td id=\"T_e3e36_row20_col0\" class=\"data row20 col0\" >Imputation Type</td>\n",
       "      <td id=\"T_e3e36_row20_col1\" class=\"data row20 col1\" >simple</td>\n",
       "    </tr>\n",
       "    <tr>\n",
       "      <th id=\"T_e3e36_level0_row21\" class=\"row_heading level0 row21\" >21</th>\n",
       "      <td id=\"T_e3e36_row21_col0\" class=\"data row21 col0\" >Iterative Imputation Iteration</td>\n",
       "      <td id=\"T_e3e36_row21_col1\" class=\"data row21 col1\" >None</td>\n",
       "    </tr>\n",
       "    <tr>\n",
       "      <th id=\"T_e3e36_level0_row22\" class=\"row_heading level0 row22\" >22</th>\n",
       "      <td id=\"T_e3e36_row22_col0\" class=\"data row22 col0\" >Numeric Imputer</td>\n",
       "      <td id=\"T_e3e36_row22_col1\" class=\"data row22 col1\" >mean</td>\n",
       "    </tr>\n",
       "    <tr>\n",
       "      <th id=\"T_e3e36_level0_row23\" class=\"row_heading level0 row23\" >23</th>\n",
       "      <td id=\"T_e3e36_row23_col0\" class=\"data row23 col0\" >Iterative Imputation Numeric Model</td>\n",
       "      <td id=\"T_e3e36_row23_col1\" class=\"data row23 col1\" >None</td>\n",
       "    </tr>\n",
       "    <tr>\n",
       "      <th id=\"T_e3e36_level0_row24\" class=\"row_heading level0 row24\" >24</th>\n",
       "      <td id=\"T_e3e36_row24_col0\" class=\"data row24 col0\" >Categorical Imputer</td>\n",
       "      <td id=\"T_e3e36_row24_col1\" class=\"data row24 col1\" >constant</td>\n",
       "    </tr>\n",
       "    <tr>\n",
       "      <th id=\"T_e3e36_level0_row25\" class=\"row_heading level0 row25\" >25</th>\n",
       "      <td id=\"T_e3e36_row25_col0\" class=\"data row25 col0\" >Iterative Imputation Categorical Model</td>\n",
       "      <td id=\"T_e3e36_row25_col1\" class=\"data row25 col1\" >None</td>\n",
       "    </tr>\n",
       "    <tr>\n",
       "      <th id=\"T_e3e36_level0_row26\" class=\"row_heading level0 row26\" >26</th>\n",
       "      <td id=\"T_e3e36_row26_col0\" class=\"data row26 col0\" >Unknown Categoricals Handling</td>\n",
       "      <td id=\"T_e3e36_row26_col1\" class=\"data row26 col1\" >least_frequent</td>\n",
       "    </tr>\n",
       "    <tr>\n",
       "      <th id=\"T_e3e36_level0_row27\" class=\"row_heading level0 row27\" >27</th>\n",
       "      <td id=\"T_e3e36_row27_col0\" class=\"data row27 col0\" >Normalize</td>\n",
       "      <td id=\"T_e3e36_row27_col1\" class=\"data row27 col1\" >False</td>\n",
       "    </tr>\n",
       "    <tr>\n",
       "      <th id=\"T_e3e36_level0_row28\" class=\"row_heading level0 row28\" >28</th>\n",
       "      <td id=\"T_e3e36_row28_col0\" class=\"data row28 col0\" >Normalize Method</td>\n",
       "      <td id=\"T_e3e36_row28_col1\" class=\"data row28 col1\" >None</td>\n",
       "    </tr>\n",
       "    <tr>\n",
       "      <th id=\"T_e3e36_level0_row29\" class=\"row_heading level0 row29\" >29</th>\n",
       "      <td id=\"T_e3e36_row29_col0\" class=\"data row29 col0\" >Transformation</td>\n",
       "      <td id=\"T_e3e36_row29_col1\" class=\"data row29 col1\" >False</td>\n",
       "    </tr>\n",
       "    <tr>\n",
       "      <th id=\"T_e3e36_level0_row30\" class=\"row_heading level0 row30\" >30</th>\n",
       "      <td id=\"T_e3e36_row30_col0\" class=\"data row30 col0\" >Transformation Method</td>\n",
       "      <td id=\"T_e3e36_row30_col1\" class=\"data row30 col1\" >None</td>\n",
       "    </tr>\n",
       "    <tr>\n",
       "      <th id=\"T_e3e36_level0_row31\" class=\"row_heading level0 row31\" >31</th>\n",
       "      <td id=\"T_e3e36_row31_col0\" class=\"data row31 col0\" >PCA</td>\n",
       "      <td id=\"T_e3e36_row31_col1\" class=\"data row31 col1\" >False</td>\n",
       "    </tr>\n",
       "    <tr>\n",
       "      <th id=\"T_e3e36_level0_row32\" class=\"row_heading level0 row32\" >32</th>\n",
       "      <td id=\"T_e3e36_row32_col0\" class=\"data row32 col0\" >PCA Method</td>\n",
       "      <td id=\"T_e3e36_row32_col1\" class=\"data row32 col1\" >None</td>\n",
       "    </tr>\n",
       "    <tr>\n",
       "      <th id=\"T_e3e36_level0_row33\" class=\"row_heading level0 row33\" >33</th>\n",
       "      <td id=\"T_e3e36_row33_col0\" class=\"data row33 col0\" >PCA Components</td>\n",
       "      <td id=\"T_e3e36_row33_col1\" class=\"data row33 col1\" >None</td>\n",
       "    </tr>\n",
       "    <tr>\n",
       "      <th id=\"T_e3e36_level0_row34\" class=\"row_heading level0 row34\" >34</th>\n",
       "      <td id=\"T_e3e36_row34_col0\" class=\"data row34 col0\" >Ignore Low Variance</td>\n",
       "      <td id=\"T_e3e36_row34_col1\" class=\"data row34 col1\" >False</td>\n",
       "    </tr>\n",
       "    <tr>\n",
       "      <th id=\"T_e3e36_level0_row35\" class=\"row_heading level0 row35\" >35</th>\n",
       "      <td id=\"T_e3e36_row35_col0\" class=\"data row35 col0\" >Combine Rare Levels</td>\n",
       "      <td id=\"T_e3e36_row35_col1\" class=\"data row35 col1\" >False</td>\n",
       "    </tr>\n",
       "    <tr>\n",
       "      <th id=\"T_e3e36_level0_row36\" class=\"row_heading level0 row36\" >36</th>\n",
       "      <td id=\"T_e3e36_row36_col0\" class=\"data row36 col0\" >Rare Level Threshold</td>\n",
       "      <td id=\"T_e3e36_row36_col1\" class=\"data row36 col1\" >None</td>\n",
       "    </tr>\n",
       "    <tr>\n",
       "      <th id=\"T_e3e36_level0_row37\" class=\"row_heading level0 row37\" >37</th>\n",
       "      <td id=\"T_e3e36_row37_col0\" class=\"data row37 col0\" >Numeric Binning</td>\n",
       "      <td id=\"T_e3e36_row37_col1\" class=\"data row37 col1\" >False</td>\n",
       "    </tr>\n",
       "    <tr>\n",
       "      <th id=\"T_e3e36_level0_row38\" class=\"row_heading level0 row38\" >38</th>\n",
       "      <td id=\"T_e3e36_row38_col0\" class=\"data row38 col0\" >Remove Outliers</td>\n",
       "      <td id=\"T_e3e36_row38_col1\" class=\"data row38 col1\" >False</td>\n",
       "    </tr>\n",
       "    <tr>\n",
       "      <th id=\"T_e3e36_level0_row39\" class=\"row_heading level0 row39\" >39</th>\n",
       "      <td id=\"T_e3e36_row39_col0\" class=\"data row39 col0\" >Outliers Threshold</td>\n",
       "      <td id=\"T_e3e36_row39_col1\" class=\"data row39 col1\" >None</td>\n",
       "    </tr>\n",
       "    <tr>\n",
       "      <th id=\"T_e3e36_level0_row40\" class=\"row_heading level0 row40\" >40</th>\n",
       "      <td id=\"T_e3e36_row40_col0\" class=\"data row40 col0\" >Remove Multicollinearity</td>\n",
       "      <td id=\"T_e3e36_row40_col1\" class=\"data row40 col1\" >False</td>\n",
       "    </tr>\n",
       "    <tr>\n",
       "      <th id=\"T_e3e36_level0_row41\" class=\"row_heading level0 row41\" >41</th>\n",
       "      <td id=\"T_e3e36_row41_col0\" class=\"data row41 col0\" >Multicollinearity Threshold</td>\n",
       "      <td id=\"T_e3e36_row41_col1\" class=\"data row41 col1\" >None</td>\n",
       "    </tr>\n",
       "    <tr>\n",
       "      <th id=\"T_e3e36_level0_row42\" class=\"row_heading level0 row42\" >42</th>\n",
       "      <td id=\"T_e3e36_row42_col0\" class=\"data row42 col0\" >Remove Perfect Collinearity</td>\n",
       "      <td id=\"T_e3e36_row42_col1\" class=\"data row42 col1\" >True</td>\n",
       "    </tr>\n",
       "    <tr>\n",
       "      <th id=\"T_e3e36_level0_row43\" class=\"row_heading level0 row43\" >43</th>\n",
       "      <td id=\"T_e3e36_row43_col0\" class=\"data row43 col0\" >Clustering</td>\n",
       "      <td id=\"T_e3e36_row43_col1\" class=\"data row43 col1\" >False</td>\n",
       "    </tr>\n",
       "    <tr>\n",
       "      <th id=\"T_e3e36_level0_row44\" class=\"row_heading level0 row44\" >44</th>\n",
       "      <td id=\"T_e3e36_row44_col0\" class=\"data row44 col0\" >Clustering Iteration</td>\n",
       "      <td id=\"T_e3e36_row44_col1\" class=\"data row44 col1\" >None</td>\n",
       "    </tr>\n",
       "    <tr>\n",
       "      <th id=\"T_e3e36_level0_row45\" class=\"row_heading level0 row45\" >45</th>\n",
       "      <td id=\"T_e3e36_row45_col0\" class=\"data row45 col0\" >Polynomial Features</td>\n",
       "      <td id=\"T_e3e36_row45_col1\" class=\"data row45 col1\" >False</td>\n",
       "    </tr>\n",
       "    <tr>\n",
       "      <th id=\"T_e3e36_level0_row46\" class=\"row_heading level0 row46\" >46</th>\n",
       "      <td id=\"T_e3e36_row46_col0\" class=\"data row46 col0\" >Polynomial Degree</td>\n",
       "      <td id=\"T_e3e36_row46_col1\" class=\"data row46 col1\" >None</td>\n",
       "    </tr>\n",
       "    <tr>\n",
       "      <th id=\"T_e3e36_level0_row47\" class=\"row_heading level0 row47\" >47</th>\n",
       "      <td id=\"T_e3e36_row47_col0\" class=\"data row47 col0\" >Trignometry Features</td>\n",
       "      <td id=\"T_e3e36_row47_col1\" class=\"data row47 col1\" >False</td>\n",
       "    </tr>\n",
       "    <tr>\n",
       "      <th id=\"T_e3e36_level0_row48\" class=\"row_heading level0 row48\" >48</th>\n",
       "      <td id=\"T_e3e36_row48_col0\" class=\"data row48 col0\" >Polynomial Threshold</td>\n",
       "      <td id=\"T_e3e36_row48_col1\" class=\"data row48 col1\" >None</td>\n",
       "    </tr>\n",
       "    <tr>\n",
       "      <th id=\"T_e3e36_level0_row49\" class=\"row_heading level0 row49\" >49</th>\n",
       "      <td id=\"T_e3e36_row49_col0\" class=\"data row49 col0\" >Group Features</td>\n",
       "      <td id=\"T_e3e36_row49_col1\" class=\"data row49 col1\" >False</td>\n",
       "    </tr>\n",
       "    <tr>\n",
       "      <th id=\"T_e3e36_level0_row50\" class=\"row_heading level0 row50\" >50</th>\n",
       "      <td id=\"T_e3e36_row50_col0\" class=\"data row50 col0\" >Feature Selection</td>\n",
       "      <td id=\"T_e3e36_row50_col1\" class=\"data row50 col1\" >False</td>\n",
       "    </tr>\n",
       "    <tr>\n",
       "      <th id=\"T_e3e36_level0_row51\" class=\"row_heading level0 row51\" >51</th>\n",
       "      <td id=\"T_e3e36_row51_col0\" class=\"data row51 col0\" >Feature Selection Method</td>\n",
       "      <td id=\"T_e3e36_row51_col1\" class=\"data row51 col1\" >classic</td>\n",
       "    </tr>\n",
       "    <tr>\n",
       "      <th id=\"T_e3e36_level0_row52\" class=\"row_heading level0 row52\" >52</th>\n",
       "      <td id=\"T_e3e36_row52_col0\" class=\"data row52 col0\" >Features Selection Threshold</td>\n",
       "      <td id=\"T_e3e36_row52_col1\" class=\"data row52 col1\" >None</td>\n",
       "    </tr>\n",
       "    <tr>\n",
       "      <th id=\"T_e3e36_level0_row53\" class=\"row_heading level0 row53\" >53</th>\n",
       "      <td id=\"T_e3e36_row53_col0\" class=\"data row53 col0\" >Feature Interaction</td>\n",
       "      <td id=\"T_e3e36_row53_col1\" class=\"data row53 col1\" >False</td>\n",
       "    </tr>\n",
       "    <tr>\n",
       "      <th id=\"T_e3e36_level0_row54\" class=\"row_heading level0 row54\" >54</th>\n",
       "      <td id=\"T_e3e36_row54_col0\" class=\"data row54 col0\" >Feature Ratio</td>\n",
       "      <td id=\"T_e3e36_row54_col1\" class=\"data row54 col1\" >False</td>\n",
       "    </tr>\n",
       "    <tr>\n",
       "      <th id=\"T_e3e36_level0_row55\" class=\"row_heading level0 row55\" >55</th>\n",
       "      <td id=\"T_e3e36_row55_col0\" class=\"data row55 col0\" >Interaction Threshold</td>\n",
       "      <td id=\"T_e3e36_row55_col1\" class=\"data row55 col1\" >None</td>\n",
       "    </tr>\n",
       "    <tr>\n",
       "      <th id=\"T_e3e36_level0_row56\" class=\"row_heading level0 row56\" >56</th>\n",
       "      <td id=\"T_e3e36_row56_col0\" class=\"data row56 col0\" >Transform Target</td>\n",
       "      <td id=\"T_e3e36_row56_col1\" class=\"data row56 col1\" >False</td>\n",
       "    </tr>\n",
       "    <tr>\n",
       "      <th id=\"T_e3e36_level0_row57\" class=\"row_heading level0 row57\" >57</th>\n",
       "      <td id=\"T_e3e36_row57_col0\" class=\"data row57 col0\" >Transform Target Method</td>\n",
       "      <td id=\"T_e3e36_row57_col1\" class=\"data row57 col1\" >box-cox</td>\n",
       "    </tr>\n",
       "  </tbody>\n",
       "</table>\n"
      ],
      "text/plain": [
       "<pandas.io.formats.style.Styler at 0x20594c33b80>"
      ]
     },
     "metadata": {},
     "output_type": "display_data"
    }
   ],
   "source": [
    "train_setup = setup(data = train,\n",
    "                    target = 'revenue',\n",
    "                    high_cardinality_features = ['genres', 'original_language', 'production_companies', 'production_countries', 'spoken_languages'],\n",
    "                    fold_shuffle = True,\n",
    "                    session_id = 69)"
   ]
  },
  {
   "cell_type": "markdown",
   "id": "79b51ce9",
   "metadata": {},
   "source": [
    "## Comparing Models"
   ]
  },
  {
   "cell_type": "markdown",
   "id": "b46dfd11",
   "metadata": {},
   "source": [
    "Certain models have been excluded, as they are scoring really poorly on our set."
   ]
  },
  {
   "cell_type": "code",
   "execution_count": null,
   "id": "ffc102b2",
   "metadata": {},
   "outputs": [
    {
     "data": {
      "application/vnd.jupyter.widget-view+json": {
       "model_id": "51792dfeaaae4b58adbd213a5c76e4f7",
       "version_major": 2,
       "version_minor": 0
      },
      "text/plain": [
       "IntProgress(value=0, description='Processing: ', max=34)"
      ]
     },
     "metadata": {},
     "output_type": "display_data"
    },
    {
     "data": {
      "text/html": [
       "<div>\n",
       "<style scoped>\n",
       "    .dataframe tbody tr th:only-of-type {\n",
       "        vertical-align: middle;\n",
       "    }\n",
       "\n",
       "    .dataframe tbody tr th {\n",
       "        vertical-align: top;\n",
       "    }\n",
       "\n",
       "    .dataframe thead th {\n",
       "        text-align: right;\n",
       "    }\n",
       "</style>\n",
       "<table border=\"1\" class=\"dataframe\">\n",
       "  <thead>\n",
       "    <tr style=\"text-align: right;\">\n",
       "      <th></th>\n",
       "      <th></th>\n",
       "      <th></th>\n",
       "    </tr>\n",
       "    <tr>\n",
       "      <th></th>\n",
       "      <th></th>\n",
       "      <th></th>\n",
       "    </tr>\n",
       "  </thead>\n",
       "  <tbody>\n",
       "    <tr>\n",
       "      <th>Initiated</th>\n",
       "      <td>. . . . . . . . . . . . . . . . . .</td>\n",
       "      <td>13:13:47</td>\n",
       "    </tr>\n",
       "    <tr>\n",
       "      <th>Status</th>\n",
       "      <td>. . . . . . . . . . . . . . . . . .</td>\n",
       "      <td>Fitting 10 Folds</td>\n",
       "    </tr>\n",
       "    <tr>\n",
       "      <th>Estimator</th>\n",
       "      <td>. . . . . . . . . . . . . . . . . .</td>\n",
       "      <td>Extreme Gradient Boosting</td>\n",
       "    </tr>\n",
       "  </tbody>\n",
       "</table>\n",
       "</div>"
      ],
      "text/plain": [
       "                                                                         \n",
       "                                                                         \n",
       "Initiated  . . . . . . . . . . . . . . . . . .                   13:13:47\n",
       "Status     . . . . . . . . . . . . . . . . . .           Fitting 10 Folds\n",
       "Estimator  . . . . . . . . . . . . . . . . . .  Extreme Gradient Boosting"
      ]
     },
     "metadata": {},
     "output_type": "display_data"
    },
    {
     "data": {
      "text/html": [
       "<style type=\"text/css\">\n",
       "#T_a6f84_ th {\n",
       "  text-align: left;\n",
       "}\n",
       "#T_a6f84_row0_col0, #T_a6f84_row0_col1, #T_a6f84_row0_col2, #T_a6f84_row0_col3, #T_a6f84_row0_col4, #T_a6f84_row0_col5, #T_a6f84_row0_col6, #T_a6f84_row0_col7, #T_a6f84_row1_col0, #T_a6f84_row1_col1, #T_a6f84_row1_col2, #T_a6f84_row1_col3, #T_a6f84_row1_col4, #T_a6f84_row1_col5, #T_a6f84_row1_col6, #T_a6f84_row1_col7, #T_a6f84_row2_col0, #T_a6f84_row2_col1, #T_a6f84_row2_col2, #T_a6f84_row2_col3, #T_a6f84_row2_col4, #T_a6f84_row2_col5, #T_a6f84_row2_col6, #T_a6f84_row2_col7 {\n",
       "  text-align: left;\n",
       "}\n",
       "</style>\n",
       "<table id=\"T_a6f84_\">\n",
       "  <thead>\n",
       "    <tr>\n",
       "      <th class=\"blank level0\" >&nbsp;</th>\n",
       "      <th class=\"col_heading level0 col0\" >Model</th>\n",
       "      <th class=\"col_heading level0 col1\" >MAE</th>\n",
       "      <th class=\"col_heading level0 col2\" >MSE</th>\n",
       "      <th class=\"col_heading level0 col3\" >RMSE</th>\n",
       "      <th class=\"col_heading level0 col4\" >R2</th>\n",
       "      <th class=\"col_heading level0 col5\" >RMSLE</th>\n",
       "      <th class=\"col_heading level0 col6\" >MAPE</th>\n",
       "      <th class=\"col_heading level0 col7\" >TT (Sec)</th>\n",
       "    </tr>\n",
       "  </thead>\n",
       "  <tbody>\n",
       "    <tr>\n",
       "      <th id=\"T_a6f84_level0_row0\" class=\"row_heading level0 row0\" >rf</th>\n",
       "      <td id=\"T_a6f84_row0_col0\" class=\"data row0 col0\" >Random Forest Regressor</td>\n",
       "      <td id=\"T_a6f84_row0_col1\" class=\"data row0 col1\" >37732045.3992</td>\n",
       "      <td id=\"T_a6f84_row0_col2\" class=\"data row0 col2\" >6375289498927583.0000</td>\n",
       "      <td id=\"T_a6f84_row0_col3\" class=\"data row0 col3\" >78196832.6406</td>\n",
       "      <td id=\"T_a6f84_row0_col4\" class=\"data row0 col4\" >0.6775</td>\n",
       "      <td id=\"T_a6f84_row0_col5\" class=\"data row0 col5\" >2.3068</td>\n",
       "      <td id=\"T_a6f84_row0_col6\" class=\"data row0 col6\" >8976.9211</td>\n",
       "      <td id=\"T_a6f84_row0_col7\" class=\"data row0 col7\" >5.3730</td>\n",
       "    </tr>\n",
       "    <tr>\n",
       "      <th id=\"T_a6f84_level0_row1\" class=\"row_heading level0 row1\" >gbr</th>\n",
       "      <td id=\"T_a6f84_row1_col0\" class=\"data row1 col0\" >Gradient Boosting Regressor</td>\n",
       "      <td id=\"T_a6f84_row1_col1\" class=\"data row1 col1\" >40286023.0828</td>\n",
       "      <td id=\"T_a6f84_row1_col2\" class=\"data row1 col2\" >6657791580210272.0000</td>\n",
       "      <td id=\"T_a6f84_row1_col3\" class=\"data row1 col3\" >79475737.4083</td>\n",
       "      <td id=\"T_a6f84_row1_col4\" class=\"data row1 col4\" >0.6651</td>\n",
       "      <td id=\"T_a6f84_row1_col5\" class=\"data row1 col5\" >2.7488</td>\n",
       "      <td id=\"T_a6f84_row1_col6\" class=\"data row1 col6\" >25344.8889</td>\n",
       "      <td id=\"T_a6f84_row1_col7\" class=\"data row1 col7\" >2875.8530</td>\n",
       "    </tr>\n",
       "    <tr>\n",
       "      <th id=\"T_a6f84_level0_row2\" class=\"row_heading level0 row2\" >et</th>\n",
       "      <td id=\"T_a6f84_row2_col0\" class=\"data row2 col0\" >Extra Trees Regressor</td>\n",
       "      <td id=\"T_a6f84_row2_col1\" class=\"data row2 col1\" >37559819.9418</td>\n",
       "      <td id=\"T_a6f84_row2_col2\" class=\"data row2 col2\" >6675484852988047.0000</td>\n",
       "      <td id=\"T_a6f84_row2_col3\" class=\"data row2 col3\" >80073054.7965</td>\n",
       "      <td id=\"T_a6f84_row2_col4\" class=\"data row2 col4\" >0.6514</td>\n",
       "      <td id=\"T_a6f84_row2_col5\" class=\"data row2 col5\" >2.2282</td>\n",
       "      <td id=\"T_a6f84_row2_col6\" class=\"data row2 col6\" >3889.1990</td>\n",
       "      <td id=\"T_a6f84_row2_col7\" class=\"data row2 col7\" >9.9170</td>\n",
       "    </tr>\n",
       "  </tbody>\n",
       "</table>\n"
      ],
      "text/plain": [
       "<pandas.io.formats.style.Styler at 0x20589c0f910>"
      ]
     },
     "metadata": {},
     "output_type": "display_data"
    }
   ],
   "source": [
    "compare_models(exclude = ['lar', 'llar', 'par', 'ada', 'dt', 'huber', 'knn', 'br', 'lasso', 'omp', 'ridge', 'lr', 'en'])"
   ]
  },
  {
   "cell_type": "markdown",
   "id": "a437bc74",
   "metadata": {},
   "source": [
    "### Random Forest Regressor"
   ]
  },
  {
   "cell_type": "code",
   "execution_count": null,
   "id": "79848209",
   "metadata": {},
   "outputs": [],
   "source": [
    "rf = create_model('rf')"
   ]
  },
  {
   "cell_type": "code",
   "execution_count": null,
   "id": "95655788",
   "metadata": {},
   "outputs": [],
   "source": [
    "tune_model(rf, choose_better = True)"
   ]
  },
  {
   "cell_type": "markdown",
   "id": "c6612c9d",
   "metadata": {},
   "source": [
    "### Cat Boost Regressor"
   ]
  },
  {
   "cell_type": "code",
   "execution_count": null,
   "id": "80b742ed",
   "metadata": {},
   "outputs": [],
   "source": [
    "cat = create_model('catboost')"
   ]
  },
  {
   "cell_type": "code",
   "execution_count": null,
   "id": "d34fc312",
   "metadata": {},
   "outputs": [],
   "source": [
    "tuned_cat = tune_model(cat, choose_better = True)"
   ]
  },
  {
   "cell_type": "markdown",
   "id": "36ffd92a",
   "metadata": {},
   "source": [
    "### Light Gradient Boosting Machine\t"
   ]
  },
  {
   "cell_type": "code",
   "execution_count": null,
   "id": "dbbfbcc9",
   "metadata": {},
   "outputs": [],
   "source": [
    "lightgbm = create_model('lightgbm')"
   ]
  },
  {
   "cell_type": "code",
   "execution_count": null,
   "id": "3932e92a",
   "metadata": {},
   "outputs": [],
   "source": [
    "tune_model(lightgbm, choose_better = True)"
   ]
  },
  {
   "cell_type": "code",
   "execution_count": null,
   "id": "a90d1bd6",
   "metadata": {},
   "outputs": [],
   "source": []
  }
 ],
 "metadata": {
  "kernelspec": {
   "display_name": "ml-prosjekt2",
   "language": "python",
   "name": "ml-prosjekt2"
  },
  "language_info": {
   "codemirror_mode": {
    "name": "ipython",
    "version": 3
   },
   "file_extension": ".py",
   "mimetype": "text/x-python",
   "name": "python",
   "nbconvert_exporter": "python",
   "pygments_lexer": "ipython3",
   "version": "3.8.8"
  }
 },
 "nbformat": 4,
 "nbformat_minor": 5
}
